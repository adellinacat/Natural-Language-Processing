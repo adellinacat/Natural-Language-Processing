{
 "cells": [
  {
   "cell_type": "markdown",
   "id": "522feb71",
   "metadata": {
    "papermill": {
     "duration": 0.020349,
     "end_time": "2023-09-25T13:55:26.420031",
     "exception": false,
     "start_time": "2023-09-25T13:55:26.399682",
     "status": "completed"
    },
    "tags": []
   },
   "source": [
    "### 13. Модель BERT и GPT\n",
    "\n",
    "**Задание**<br>\n",
    "С помощью бертов решить задачу классификации\n"
   ]
  },
  {
   "cell_type": "markdown",
   "id": "f6839b8e",
   "metadata": {},
   "source": [
    "**Настроим окружение**"
   ]
  },
  {
   "cell_type": "code",
   "execution_count": 1,
   "id": "d5515102",
   "metadata": {
    "execution": {
     "iopub.execute_input": "2023-09-25T13:55:26.505033Z",
     "iopub.status.busy": "2023-09-25T13:55:26.504632Z",
     "iopub.status.idle": "2023-09-25T13:55:58.332546Z",
     "shell.execute_reply": "2023-09-25T13:55:58.331260Z"
    },
    "papermill": {
     "duration": 31.852679,
     "end_time": "2023-09-25T13:55:58.335256",
     "exception": false,
     "start_time": "2023-09-25T13:55:26.482577",
     "status": "completed"
    },
    "tags": []
   },
   "outputs": [],
   "source": [
    "%%capture\n",
    "!wget https://github.com/cimm-kzn/RuDReC/raw/master/data/rudrec_annotated.json\n",
    "!pip install corus razdel\n",
    "!pip install datasets transformers seqeval"
   ]
  },
  {
   "cell_type": "code",
   "execution_count": 2,
   "id": "60e1f6ce",
   "metadata": {
    "execution": {
     "iopub.execute_input": "2023-09-25T13:55:58.380106Z",
     "iopub.status.busy": "2023-09-25T13:55:58.379759Z",
     "iopub.status.idle": "2023-09-25T13:56:26.681468Z",
     "shell.execute_reply": "2023-09-25T13:56:26.680505Z"
    },
    "papermill": {
     "duration": 28.327517,
     "end_time": "2023-09-25T13:56:26.683999",
     "exception": false,
     "start_time": "2023-09-25T13:55:58.356482",
     "status": "completed"
    },
    "tags": []
   },
   "outputs": [
    {
     "name": "stderr",
     "output_type": "stream",
     "text": [
      "/opt/conda/lib/python3.10/site-packages/scipy/__init__.py:146: UserWarning: A NumPy version >=1.16.5 and <1.23.0 is required for this version of SciPy (detected version 1.23.5\n",
      "  warnings.warn(f\"A NumPy version >={np_minversion} and <{np_maxversion}\"\n"
     ]
    }
   ],
   "source": [
    "import pandas as pd\n",
    "import numpy as np\n",
    "import torch\n",
    "import logging\n",
    "\n",
    "from corus import load_rudrec\n",
    "from razdel import tokenize\n",
    "from datasets import load_dataset, load_metric\n",
    "from datasets import Dataset, DatasetDict\n",
    "from collections import Counter, defaultdict\n",
    "from sklearn.model_selection import train_test_split\n",
    "from sklearn.metrics import confusion_matrix\n",
    "from transformers import AutoTokenizer\n",
    "from transformers import pipeline\n",
    "from transformers import AutoModelForTokenClassification, TrainingArguments, Trainer\n",
    "from transformers import DataCollatorForTokenClassification\n",
    "from transformers.trainer import logger as noisy_logger\n",
    "\n",
    "import warnings\n",
    "warnings.filterwarnings('ignore')\n",
    "warnings.simplefilter('ignore')"
   ]
  },
  {
   "cell_type": "markdown",
   "id": "b62574ce",
   "metadata": {
    "id": "4HL1yaESsJA9",
    "papermill": {
     "duration": 0.020335,
     "end_time": "2023-09-25T13:56:26.725885",
     "exception": false,
     "start_time": "2023-09-25T13:56:26.705550",
     "status": "completed"
    },
    "tags": []
   },
   "source": [
    "В этом блокноте мы дообучаем модель на задаче классификации отдельных слов, а именно, распознавание именованных сущностей (aka named entity recognition, aka NER). Мы возьмём датасет медицинских сущностей, но в целом пайплайн подходит для любой задачи на выделение сущностей в тексте. \n",
    "\n",
    "Для ускорения обучения возьмём маленький BERT для русского языка [rubert-tiny](https://huggingface.co/cointegrated/rubert-tiny).\n"
   ]
  },
  {
   "cell_type": "code",
   "execution_count": 3,
   "id": "68870b63",
   "metadata": {
    "execution": {
     "iopub.execute_input": "2023-09-25T13:56:26.768237Z",
     "iopub.status.busy": "2023-09-25T13:56:26.767866Z",
     "iopub.status.idle": "2023-09-25T13:56:26.772351Z",
     "shell.execute_reply": "2023-09-25T13:56:26.771354Z"
    },
    "id": "zVvslsfMIrIh",
    "papermill": {
     "duration": 0.028116,
     "end_time": "2023-09-25T13:56:26.774433",
     "exception": false,
     "start_time": "2023-09-25T13:56:26.746317",
     "status": "completed"
    },
    "tags": []
   },
   "outputs": [],
   "source": [
    "model_checkpoint = \"cointegrated/rubert-tiny\"\n",
    "batch_size = 16"
   ]
  },
  {
   "cell_type": "markdown",
   "id": "3d9c5cde",
   "metadata": {
    "id": "whPRbBNbIrIl",
    "papermill": {
     "duration": 0.020425,
     "end_time": "2023-09-25T13:56:26.860162",
     "exception": false,
     "start_time": "2023-09-25T13:56:26.839737",
     "status": "completed"
    },
    "tags": []
   },
   "source": [
    "**Загрузим данные**"
   ]
  },
  {
   "cell_type": "markdown",
   "id": "879dcdec",
   "metadata": {
    "id": "J8mt63rWvkv3",
    "papermill": {
     "duration": 0.020232,
     "end_time": "2023-09-25T13:56:26.901253",
     "exception": false,
     "start_time": "2023-09-25T13:56:26.881021",
     "status": "completed"
    },
    "tags": []
   },
   "source": [
    "Для обучения мы возьмём [Russian Drug Reaction Corpus](https://github.com/cimm-kzn/RuDReC): размеченный корпус русскоязычных отзывов на лекарства. "
   ]
  },
  {
   "cell_type": "code",
   "execution_count": 4,
   "id": "6c618600",
   "metadata": {
    "execution": {
     "iopub.execute_input": "2023-09-25T13:56:26.944534Z",
     "iopub.status.busy": "2023-09-25T13:56:26.944114Z",
     "iopub.status.idle": "2023-09-25T13:56:27.018388Z",
     "shell.execute_reply": "2023-09-25T13:56:27.016950Z"
    },
    "id": "VALH-KBTMfVI",
    "outputId": "10cfa95c-ddab-4390-84f1-eef222f3fcf1",
    "papermill": {
     "duration": 0.098791,
     "end_time": "2023-09-25T13:56:27.020627",
     "exception": false,
     "start_time": "2023-09-25T13:56:26.921836",
     "status": "completed"
    },
    "tags": []
   },
   "outputs": [
    {
     "name": "stdout",
     "output_type": "stream",
     "text": [
      "4809\n"
     ]
    }
   ],
   "source": [
    "drugs = list(load_rudrec('rudrec_annotated.json'))\n",
    "print(len(drugs))"
   ]
  },
  {
   "cell_type": "markdown",
   "id": "b7abbf2c",
   "metadata": {
    "id": "fGBywJmAv2NN",
    "papermill": {
     "duration": 0.020802,
     "end_time": "2023-09-25T13:56:27.062379",
     "exception": false,
     "start_time": "2023-09-25T13:56:27.041577",
     "status": "completed"
    },
    "tags": []
   },
   "source": [
    "**Пример документа:**"
   ]
  },
  {
   "cell_type": "code",
   "execution_count": 5,
   "id": "94a9e2c6",
   "metadata": {
    "execution": {
     "iopub.execute_input": "2023-09-25T13:56:27.107315Z",
     "iopub.status.busy": "2023-09-25T13:56:27.106956Z",
     "iopub.status.idle": "2023-09-25T13:56:27.114550Z",
     "shell.execute_reply": "2023-09-25T13:56:27.113661Z"
    },
    "id": "ynPlkV5gv4XC",
    "outputId": "a8240e86-df36-462e-a806-bbfb1c9300fb",
    "papermill": {
     "duration": 0.033979,
     "end_time": "2023-09-25T13:56:27.116838",
     "exception": false,
     "start_time": "2023-09-25T13:56:27.082859",
     "status": "completed"
    },
    "tags": []
   },
   "outputs": [
    {
     "data": {
      "text/plain": [
       "RuDReCRecord(\n",
       "    file_name='172744.tsv',\n",
       "    text='нам прописали, так мой ребенок сыпью покрылся, глаза опухли, сверху и снизу на веках высыпала сыпь, ( 8 месяцев сыну)А от виферона такого не было... У кого ещё такие побочки, отзовитесь!1 Чем спасались?\\n',\n",
       "    sentence_id=0,\n",
       "    entities=[RuDReCEntity(\n",
       "         entity_id='*[0]_se',\n",
       "         entity_text='виферона',\n",
       "         entity_type='Drugform',\n",
       "         start=122,\n",
       "         end=130,\n",
       "         concept_id='C0021735',\n",
       "         concept_name=nan\n",
       "     ),\n",
       "     RuDReCEntity(\n",
       "         entity_id='*[1]',\n",
       "         entity_text='сыпью покрылся',\n",
       "         entity_type='ADR',\n",
       "         start=31,\n",
       "         end=45,\n",
       "         concept_id='C0015230',\n",
       "         concept_name=nan\n",
       "     ),\n",
       "     RuDReCEntity(\n",
       "         entity_id='*[2]',\n",
       "         entity_text='глаза опухли',\n",
       "         entity_type='ADR',\n",
       "         start=47,\n",
       "         end=59,\n",
       "         concept_id='C4760994',\n",
       "         concept_name=nan\n",
       "     ),\n",
       "     RuDReCEntity(\n",
       "         entity_id='*[3]',\n",
       "         entity_text='на веках высыпала сыпь',\n",
       "         entity_type='ADR',\n",
       "         start=76,\n",
       "         end=98,\n",
       "         concept_id='C0015230',\n",
       "         concept_name=nan\n",
       "     )]\n",
       ")"
      ]
     },
     "execution_count": 5,
     "metadata": {},
     "output_type": "execute_result"
    }
   ],
   "source": [
    "drugs[101]"
   ]
  },
  {
   "cell_type": "markdown",
   "id": "01047019",
   "metadata": {
    "id": "iSpV6RLEwI5o",
    "papermill": {
     "duration": 0.021084,
     "end_time": "2023-09-25T13:56:27.158807",
     "exception": false,
     "start_time": "2023-09-25T13:56:27.137723",
     "status": "completed"
    },
    "tags": []
   },
   "source": [
    "Посмотрим, какие сущности есть: лекарства, форма лекарств, класс лекарств, показания к применению, побочки, и прочие болезни/симптомы.\n",
    "\n",
    "https://arxiv.org/abs/2004.03659\n",
    "\n",
    "* **DRUGNAME** Mentions of the brand name of a drug or product\n",
    "ingredients/active compounds.\n",
    "* **DRUGCLASS** Mentions of drug classes such as anti-inflammatory or\n",
    "cardiovascular.\n",
    "* **DRUGFORM** Mentions of routes of administration such as tablet\n",
    "or liquid that describe the physical form in which\n",
    "medication will be delivered into patient’s organism.\n",
    "* **DI** Any indication/symptom that specifies the reason for\n",
    "taking/prescribing the drug.\n",
    "* **ADR** Mentions of untoward medical events that occur as a\n",
    "consequence of drug intake and are not associated with\n",
    "treated symptoms.\n",
    "* **FINDING** Any DI or ADR that was not directly experienced by the\n",
    "reporting patient or his/her family members, or related to\n",
    "medical history/drug label, or any disease entities if the\n",
    "annotator is not clear about type"
   ]
  },
  {
   "cell_type": "code",
   "execution_count": 6,
   "id": "96f1bf2d",
   "metadata": {
    "execution": {
     "iopub.execute_input": "2023-09-25T13:56:27.205432Z",
     "iopub.status.busy": "2023-09-25T13:56:27.204386Z",
     "iopub.status.idle": "2023-09-25T13:56:27.218182Z",
     "shell.execute_reply": "2023-09-25T13:56:27.217090Z"
    },
    "id": "vo8MIceYNPjx",
    "outputId": "3af37df1-694a-4beb-d2ab-bcd55f9597ea",
    "papermill": {
     "duration": 0.038266,
     "end_time": "2023-09-25T13:56:27.220361",
     "exception": false,
     "start_time": "2023-09-25T13:56:27.182095",
     "status": "completed"
    },
    "tags": []
   },
   "outputs": [
    {
     "name": "stdout",
     "output_type": "stream",
     "text": [
      "DI 1401\n",
      "[('простуды', 64), ('ОРВИ', 47), ('профилактики', 42)]\n",
      "Drugname 1043\n",
      "[('Виферон', 33), ('Анаферон', 25), ('Циклоферон', 24)]\n",
      "Drugform 836\n",
      "[('таблетки', 154), ('таблеток', 79), ('свечи', 63)]\n",
      "ADR 720\n",
      "[('аллергия', 16), ('слабость', 13), ('диарея', 12)]\n",
      "Drugclass 330\n",
      "[('противовирусный', 21), ('противовирусное', 18), ('противовирусных', 13)]\n",
      "Finding 236\n",
      "[('аллергии', 12), ('температуры', 6), ('сонливости', 5)]\n"
     ]
    }
   ],
   "source": [
    "type2text = defaultdict(Counter)\n",
    "ents = Counter()\n",
    "for item in drugs:\n",
    "    for e in item.entities:\n",
    "        ents[e.entity_type] += 1\n",
    "        type2text[e.entity_type][e.entity_text] += 1\n",
    "\n",
    "for k, v in ents.most_common():\n",
    "    print(k, v)\n",
    "    print(type2text[k].most_common(3))"
   ]
  },
  {
   "cell_type": "code",
   "execution_count": 7,
   "id": "34a5fa3d",
   "metadata": {
    "execution": {
     "iopub.execute_input": "2023-09-25T13:56:27.264276Z",
     "iopub.status.busy": "2023-09-25T13:56:27.263929Z",
     "iopub.status.idle": "2023-09-25T13:56:27.269750Z",
     "shell.execute_reply": "2023-09-25T13:56:27.268876Z"
    },
    "id": "0Kszaqs8N0Ig",
    "outputId": "3b8ca576-b458-46ac-e8c9-10747d1baa9b",
    "papermill": {
     "duration": 0.030565,
     "end_time": "2023-09-25T13:56:27.271803",
     "exception": false,
     "start_time": "2023-09-25T13:56:27.241238",
     "status": "completed"
    },
    "tags": []
   },
   "outputs": [
    {
     "data": {
      "text/plain": [
       "'нам прописали, так мой ребенок сыпью покрылся, глаза опухли, сверху и снизу на веках высыпала сыпь, ( 8 месяцев сыну)А от виферона такого не было... У кого ещё такие побочки, отзовитесь!1 Чем спасались?\\n'"
      ]
     },
     "execution_count": 7,
     "metadata": {},
     "output_type": "execute_result"
    }
   ],
   "source": [
    "drugs[101].text"
   ]
  },
  {
   "cell_type": "markdown",
   "id": "5eb54fdc",
   "metadata": {
    "id": "RzfPtOMoIrIu",
    "papermill": {
     "duration": 0.021073,
     "end_time": "2023-09-25T13:56:27.314570",
     "exception": false,
     "start_time": "2023-09-25T13:56:27.293497",
     "status": "completed"
    },
    "tags": []
   },
   "source": [
    "Напишем функцию, перекладывающую разметку сущностей на уровень слов. Будем использовать [IOB](https://en.wikipedia.org/wiki/Inside–outside–beginning_(tagging))-нотацию, чтобы разделять несколько сущностей одного типа, идущих подряд. "
   ]
  },
  {
   "cell_type": "code",
   "execution_count": 8,
   "id": "f16515e4",
   "metadata": {
    "execution": {
     "iopub.execute_input": "2023-09-25T13:56:27.358717Z",
     "iopub.status.busy": "2023-09-25T13:56:27.358406Z",
     "iopub.status.idle": "2023-09-25T13:56:27.365596Z",
     "shell.execute_reply": "2023-09-25T13:56:27.364642Z"
    },
    "id": "Dg9BL4Z_OcjY",
    "papermill": {
     "duration": 0.031392,
     "end_time": "2023-09-25T13:56:27.367633",
     "exception": false,
     "start_time": "2023-09-25T13:56:27.336241",
     "status": "completed"
    },
    "tags": []
   },
   "outputs": [],
   "source": [
    "def extract_labels(item):\n",
    "    raw_toks = list(tokenize(item.text))\n",
    "    words = [tok.text for tok in raw_toks]\n",
    "    word_labels = ['O'] * len(raw_toks)\n",
    "    char2word = [None] * len(item.text)\n",
    "    for i, word in enumerate(raw_toks):\n",
    "        char2word[word.start:word.stop] = [i] * len(word.text)\n",
    "\n",
    "    for e in item.entities:\n",
    "        e_words = sorted({idx for idx in char2word[e.start:e.end] if idx is not None})\n",
    "        word_labels[e_words[0]] = 'B-' + e.entity_type\n",
    "        for idx in e_words[1:]:\n",
    "            word_labels[idx] = 'I-' + e.entity_type\n",
    "\n",
    "    return {'tokens': words, 'tags': word_labels}"
   ]
  },
  {
   "cell_type": "code",
   "execution_count": 9,
   "id": "8a2963dd",
   "metadata": {
    "execution": {
     "iopub.execute_input": "2023-09-25T13:56:27.415993Z",
     "iopub.status.busy": "2023-09-25T13:56:27.415003Z",
     "iopub.status.idle": "2023-09-25T13:56:27.421782Z",
     "shell.execute_reply": "2023-09-25T13:56:27.420660Z"
    },
    "id": "PCGwQAadOVA9",
    "outputId": "0b5f84ff-d544-4336-97ca-faf376fdf473",
    "papermill": {
     "duration": 0.034541,
     "end_time": "2023-09-25T13:56:27.425282",
     "exception": false,
     "start_time": "2023-09-25T13:56:27.390741",
     "status": "completed"
    },
    "tags": []
   },
   "outputs": [
    {
     "name": "stdout",
     "output_type": "stream",
     "text": [
      "{'tokens': ['нам', 'прописали', ',', 'так', 'мой', 'ребенок', 'сыпью', 'покрылся', ',', 'глаза', 'опухли', ',', 'сверху', 'и', 'снизу', 'на', 'веках', 'высыпала', 'сыпь', ',', '(', '8', 'месяцев', 'сыну', ')', 'А', 'от', 'виферона', 'такого', 'не', 'было', '...', 'У', 'кого', 'ещё', 'такие', 'побочки', ',', 'отзовитесь', '!', '1', 'Чем', 'спасались', '?'], 'tags': ['O', 'O', 'O', 'O', 'O', 'O', 'B-ADR', 'I-ADR', 'O', 'B-ADR', 'I-ADR', 'O', 'O', 'O', 'O', 'B-ADR', 'I-ADR', 'I-ADR', 'I-ADR', 'O', 'O', 'O', 'O', 'O', 'O', 'O', 'O', 'B-Drugform', 'O', 'O', 'O', 'O', 'O', 'O', 'O', 'O', 'O', 'O', 'O', 'O', 'O', 'O', 'O', 'O']}\n"
     ]
    }
   ],
   "source": [
    "print(extract_labels(drugs[101]))"
   ]
  },
  {
   "cell_type": "code",
   "execution_count": 10,
   "id": "60af794d",
   "metadata": {
    "execution": {
     "iopub.execute_input": "2023-09-25T13:56:27.473450Z",
     "iopub.status.busy": "2023-09-25T13:56:27.473089Z",
     "iopub.status.idle": "2023-09-25T13:56:28.214461Z",
     "shell.execute_reply": "2023-09-25T13:56:28.213423Z"
    },
    "id": "Chhlmjt8OEgn",
    "papermill": {
     "duration": 0.768526,
     "end_time": "2023-09-25T13:56:28.216985",
     "exception": false,
     "start_time": "2023-09-25T13:56:27.448459",
     "status": "completed"
    },
    "tags": []
   },
   "outputs": [],
   "source": [
    "ner_data = [extract_labels(item) for item in drugs]\n",
    "ner_train, ner_test = train_test_split(ner_data, test_size=0.1, random_state=1)"
   ]
  },
  {
   "cell_type": "markdown",
   "id": "70745756",
   "metadata": {
    "id": "yvApziHbyUyR",
    "papermill": {
     "duration": 0.021105,
     "end_time": "2023-09-25T13:56:28.260312",
     "exception": false,
     "start_time": "2023-09-25T13:56:28.239207",
     "status": "completed"
    },
    "tags": []
   },
   "source": [
    "**Пример данных**"
   ]
  },
  {
   "cell_type": "code",
   "execution_count": 11,
   "id": "59ad65e8",
   "metadata": {
    "execution": {
     "iopub.execute_input": "2023-09-25T13:56:28.309019Z",
     "iopub.status.busy": "2023-09-25T13:56:28.308652Z",
     "iopub.status.idle": "2023-09-25T13:56:28.345880Z",
     "shell.execute_reply": "2023-09-25T13:56:28.344763Z"
    },
    "id": "17yA19oFRwMk",
    "outputId": "e7709817-4d91-4ba6-e1bf-b209739eb019",
    "papermill": {
     "duration": 0.067305,
     "end_time": "2023-09-25T13:56:28.348587",
     "exception": false,
     "start_time": "2023-09-25T13:56:28.281282",
     "status": "completed"
    },
    "tags": []
   },
   "outputs": [
    {
     "data": {
      "text/html": [
       "<div>\n",
       "<style scoped>\n",
       "    .dataframe tbody tr th:only-of-type {\n",
       "        vertical-align: middle;\n",
       "    }\n",
       "\n",
       "    .dataframe tbody tr th {\n",
       "        vertical-align: top;\n",
       "    }\n",
       "\n",
       "    .dataframe thead th {\n",
       "        text-align: right;\n",
       "    }\n",
       "</style>\n",
       "<table border=\"1\" class=\"dataframe\">\n",
       "  <thead>\n",
       "    <tr style=\"text-align: right;\">\n",
       "      <th></th>\n",
       "      <th>tokens</th>\n",
       "      <th>tags</th>\n",
       "    </tr>\n",
       "  </thead>\n",
       "  <tbody>\n",
       "    <tr>\n",
       "      <th>1280</th>\n",
       "      <td>[В, указанный, промежуток, времени, дочка, не, болела, никакими, вирусными, инфекциями, ,, может, это, никак, не, связано, с, приемом, Анаферона, .]</td>\n",
       "      <td>[O, O, O, O, O, O, O, O, B-Finding, I-Finding, O, O, O, O, O, O, O, O, B-Drugname, O]</td>\n",
       "    </tr>\n",
       "    <tr>\n",
       "      <th>514</th>\n",
       "      <td>[С, гостями, ,, танцами, ,, подарками, и, поздравлениями, ,, как, и, хотела, ), ), .]</td>\n",
       "      <td>[O, O, O, O, O, O, O, O, O, O, O, O, O, O, O]</td>\n",
       "    </tr>\n",
       "    <tr>\n",
       "      <th>2990</th>\n",
       "      <td>[Я, думаю, ,, что, их, нужно, было, начать, принимать, немного, раньше, ,, а, не, тогда, ,, когда, уже, ребенок, прям, заболел, .]</td>\n",
       "      <td>[O, O, O, O, O, O, O, O, O, O, O, O, O, O, O, O, O, O, O, O, O, O]</td>\n",
       "    </tr>\n",
       "  </tbody>\n",
       "</table>\n",
       "</div>"
      ],
      "text/plain": [
       "                                                                                                                                                    tokens  \\\n",
       "1280  [В, указанный, промежуток, времени, дочка, не, болела, никакими, вирусными, инфекциями, ,, может, это, никак, не, связано, с, приемом, Анаферона, .]   \n",
       "514                                                                  [С, гостями, ,, танцами, ,, подарками, и, поздравлениями, ,, как, и, хотела, ), ), .]   \n",
       "2990                    [Я, думаю, ,, что, их, нужно, было, начать, принимать, немного, раньше, ,, а, не, тогда, ,, когда, уже, ребенок, прям, заболел, .]   \n",
       "\n",
       "                                                                                       tags  \n",
       "1280  [O, O, O, O, O, O, O, O, B-Finding, I-Finding, O, O, O, O, O, O, O, O, B-Drugname, O]  \n",
       "514                                           [O, O, O, O, O, O, O, O, O, O, O, O, O, O, O]  \n",
       "2990                     [O, O, O, O, O, O, O, O, O, O, O, O, O, O, O, O, O, O, O, O, O, O]  "
      ]
     },
     "execution_count": 11,
     "metadata": {},
     "output_type": "execute_result"
    }
   ],
   "source": [
    "pd.options.display.max_colwidth = 300\n",
    "pd.DataFrame(ner_train).sample(3)"
   ]
  },
  {
   "cell_type": "markdown",
   "id": "52e3708e",
   "metadata": {
    "id": "sE0souTBykq1",
    "papermill": {
     "duration": 0.021348,
     "end_time": "2023-09-25T13:56:28.392000",
     "exception": false,
     "start_time": "2023-09-25T13:56:28.370652",
     "status": "completed"
    },
    "tags": []
   },
   "source": [
    "**Соберём все виды меток в список** "
   ]
  },
  {
   "cell_type": "code",
   "execution_count": 12,
   "id": "edb53ab1",
   "metadata": {
    "execution": {
     "iopub.execute_input": "2023-09-25T13:56:28.437724Z",
     "iopub.status.busy": "2023-09-25T13:56:28.437319Z",
     "iopub.status.idle": "2023-09-25T13:56:28.450904Z",
     "shell.execute_reply": "2023-09-25T13:56:28.449752Z"
    },
    "id": "16SRNc6csJBC",
    "outputId": "3b3db944-e1ed-4f8c-9829-f0905bbd28a4",
    "papermill": {
     "duration": 0.0388,
     "end_time": "2023-09-25T13:56:28.453041",
     "exception": false,
     "start_time": "2023-09-25T13:56:28.414241",
     "status": "completed"
    },
    "tags": []
   },
   "outputs": [
    {
     "data": {
      "text/plain": [
       "['O',\n",
       " 'B-ADR',\n",
       " 'B-DI',\n",
       " 'B-Drugclass',\n",
       " 'B-Drugform',\n",
       " 'B-Drugname',\n",
       " 'B-Finding',\n",
       " 'I-ADR',\n",
       " 'I-DI',\n",
       " 'I-Drugclass',\n",
       " 'I-Drugform',\n",
       " 'I-Drugname',\n",
       " 'I-Finding']"
      ]
     },
     "execution_count": 12,
     "metadata": {},
     "output_type": "execute_result"
    }
   ],
   "source": [
    "label_list = sorted({label for item in ner_train for label in item['tags']})\n",
    "if 'O' in label_list:\n",
    "    label_list.remove('O')\n",
    "    label_list = ['O'] + label_list\n",
    "label_list"
   ]
  },
  {
   "cell_type": "markdown",
   "id": "8587919d",
   "metadata": {
    "id": "ckjbVWLoyYYf",
    "papermill": {
     "duration": 0.024605,
     "end_time": "2023-09-25T13:56:28.499228",
     "exception": false,
     "start_time": "2023-09-25T13:56:28.474623",
     "status": "completed"
    },
    "tags": []
   },
   "source": [
    "Сложим наши данные в объект [`DatasetDict`](https://huggingface.co/docs/datasets/package_reference/main_classes.html#datasetdict), нативный для huggingface."
   ]
  },
  {
   "cell_type": "code",
   "execution_count": 13,
   "id": "3dcd7d9e",
   "metadata": {
    "execution": {
     "iopub.execute_input": "2023-09-25T13:56:28.544050Z",
     "iopub.status.busy": "2023-09-25T13:56:28.543663Z",
     "iopub.status.idle": "2023-09-25T13:56:28.607508Z",
     "shell.execute_reply": "2023-09-25T13:56:28.606578Z"
    },
    "id": "3YavIR4eU5ZY",
    "outputId": "7b9ec519-9449-46a3-b4a3-535deb3fa08f",
    "papermill": {
     "duration": 0.0887,
     "end_time": "2023-09-25T13:56:28.609668",
     "exception": false,
     "start_time": "2023-09-25T13:56:28.520968",
     "status": "completed"
    },
    "tags": []
   },
   "outputs": [
    {
     "data": {
      "text/plain": [
       "DatasetDict({\n",
       "    train: Dataset({\n",
       "        features: ['tokens', 'tags'],\n",
       "        num_rows: 4328\n",
       "    })\n",
       "    test: Dataset({\n",
       "        features: ['tokens', 'tags'],\n",
       "        num_rows: 481\n",
       "    })\n",
       "})"
      ]
     },
     "execution_count": 13,
     "metadata": {},
     "output_type": "execute_result"
    }
   ],
   "source": [
    "ner_data = DatasetDict({\n",
    "    'train': Dataset.from_pandas(pd.DataFrame(ner_train)),\n",
    "    'test': Dataset.from_pandas(pd.DataFrame(ner_test))\n",
    "})\n",
    "ner_data"
   ]
  },
  {
   "cell_type": "markdown",
   "id": "3ae3cb40",
   "metadata": {
    "id": "n9qywopnIrJH",
    "papermill": {
     "duration": 0.021288,
     "end_time": "2023-09-25T13:56:28.652801",
     "exception": false,
     "start_time": "2023-09-25T13:56:28.631513",
     "status": "completed"
    },
    "tags": []
   },
   "source": [
    "**Предобработка данных**"
   ]
  },
  {
   "cell_type": "markdown",
   "id": "f575e913",
   "metadata": {
    "id": "YVx71GdAIrJH",
    "papermill": {
     "duration": 0.021278,
     "end_time": "2023-09-25T13:56:28.695630",
     "exception": false,
     "start_time": "2023-09-25T13:56:28.674352",
     "status": "completed"
    },
    "tags": []
   },
   "source": [
    "Прежде чем мы сможем передать эти тексты в нашу модель, нам необходимо их предварительно обработать. Это делается с помощью Transformers `Tokenizer`, который (как следует из названия) токенизирует входные данные (включая преобразование токенов в соответствующие идентификаторы в предварительно обученном словаре) и помещает их в формат, ожидаемый моделью, а также генерирует другие входные данные, которые требуются модели.\n",
    "\n",
    "Чтобы сделать все это, мы создаем экземпляр нашего токенизатора с помощью метода AutoTokenizer.from_pretrained, который гарантирует:\n",
    "\n",
    "— получение токенизатора, соответствующего архитектуре модели, которую мы хотим использовать,\n",
    "— загружаем словарь, используемый при предварительной тренировке этого конкретного чекпоинта.\n",
    "\n",
    "Этот словарь будет кэширован, поэтому он не будет загружаться снова при следующем запуске ячейки."
   ]
  },
  {
   "cell_type": "code",
   "execution_count": 14,
   "id": "b651187c",
   "metadata": {
    "execution": {
     "iopub.execute_input": "2023-09-25T13:56:28.740607Z",
     "iopub.status.busy": "2023-09-25T13:56:28.739650Z",
     "iopub.status.idle": "2023-09-25T13:56:29.837585Z",
     "shell.execute_reply": "2023-09-25T13:56:29.836513Z"
    },
    "id": "eXNLu_-nIrJI",
    "outputId": "92124cfc-4ca8-46e5-9cec-fc8672708bdf",
    "papermill": {
     "duration": 1.123195,
     "end_time": "2023-09-25T13:56:29.840276",
     "exception": false,
     "start_time": "2023-09-25T13:56:28.717081",
     "status": "completed"
    },
    "tags": []
   },
   "outputs": [
    {
     "data": {
      "application/vnd.jupyter.widget-view+json": {
       "model_id": "c25cfa7d770745dea71e62ab01aaab86",
       "version_major": 2,
       "version_minor": 0
      },
      "text/plain": [
       "Downloading (…)okenizer_config.json:   0%|          | 0.00/341 [00:00<?, ?B/s]"
      ]
     },
     "metadata": {},
     "output_type": "display_data"
    },
    {
     "data": {
      "application/vnd.jupyter.widget-view+json": {
       "model_id": "68ec3715b16c4fb4b3cccbc72764e415",
       "version_major": 2,
       "version_minor": 0
      },
      "text/plain": [
       "Downloading (…)lve/main/config.json:   0%|          | 0.00/632 [00:00<?, ?B/s]"
      ]
     },
     "metadata": {},
     "output_type": "display_data"
    },
    {
     "data": {
      "application/vnd.jupyter.widget-view+json": {
       "model_id": "6f6e687766ae4042a7e4e84d47452c96",
       "version_major": 2,
       "version_minor": 0
      },
      "text/plain": [
       "Downloading (…)solve/main/vocab.txt:   0%|          | 0.00/241k [00:00<?, ?B/s]"
      ]
     },
     "metadata": {},
     "output_type": "display_data"
    },
    {
     "data": {
      "application/vnd.jupyter.widget-view+json": {
       "model_id": "287f837a3148437b9c326fec8a24a70e",
       "version_major": 2,
       "version_minor": 0
      },
      "text/plain": [
       "Downloading (…)/main/tokenizer.json:   0%|          | 0.00/468k [00:00<?, ?B/s]"
      ]
     },
     "metadata": {},
     "output_type": "display_data"
    },
    {
     "data": {
      "application/vnd.jupyter.widget-view+json": {
       "model_id": "b76e35cd781f4fcdbede8665c3b18c3b",
       "version_major": 2,
       "version_minor": 0
      },
      "text/plain": [
       "Downloading (…)cial_tokens_map.json:   0%|          | 0.00/112 [00:00<?, ?B/s]"
      ]
     },
     "metadata": {},
     "output_type": "display_data"
    }
   ],
   "source": [
    "tokenizer = AutoTokenizer.from_pretrained(model_checkpoint)"
   ]
  },
  {
   "cell_type": "code",
   "execution_count": 15,
   "id": "ae199a62",
   "metadata": {
    "execution": {
     "iopub.execute_input": "2023-09-25T13:56:29.933641Z",
     "iopub.status.busy": "2023-09-25T13:56:29.932712Z",
     "iopub.status.idle": "2023-09-25T13:56:29.949841Z",
     "shell.execute_reply": "2023-09-25T13:56:29.948793Z"
    },
    "id": "a5hBlsrHIrJL",
    "outputId": "bf9f8e2a-caf2-4078-eaed-e9afafde64d6",
    "papermill": {
     "duration": 0.043003,
     "end_time": "2023-09-25T13:56:29.951915",
     "exception": false,
     "start_time": "2023-09-25T13:56:29.908912",
     "status": "completed"
    },
    "tags": []
   },
   "outputs": [
    {
     "data": {
      "text/plain": [
       "{'input_ids': [2, 9944, 16, 881, 550, 835, 15503, 5, 3], 'token_type_ids': [0, 0, 0, 0, 0, 0, 0, 0, 0], 'attention_mask': [1, 1, 1, 1, 1, 1, 1, 1, 1]}"
      ]
     },
     "execution_count": 15,
     "metadata": {},
     "output_type": "execute_result"
    }
   ],
   "source": [
    "tokenizer(\"Hello, this is one sentence!\")"
   ]
  },
  {
   "cell_type": "markdown",
   "id": "bdeeb9fc",
   "metadata": {
    "id": "ZdStg37nsJBE",
    "papermill": {
     "duration": 0.022982,
     "end_time": "2023-09-25T13:56:29.998512",
     "exception": false,
     "start_time": "2023-09-25T13:56:29.975530",
     "status": "completed"
    },
    "tags": []
   },
   "source": [
    "Если, как в данном случае, ваши входные данные уже разделены на слова, вам следует передать список слов в ваш токензиер с аргументом `is_split_into_words=True`:"
   ]
  },
  {
   "cell_type": "code",
   "execution_count": 16,
   "id": "e4c1a039",
   "metadata": {
    "execution": {
     "iopub.execute_input": "2023-09-25T13:56:30.047371Z",
     "iopub.status.busy": "2023-09-25T13:56:30.046276Z",
     "iopub.status.idle": "2023-09-25T13:56:30.054909Z",
     "shell.execute_reply": "2023-09-25T13:56:30.053831Z"
    },
    "id": "b_yJ2hgDsJBF",
    "outputId": "c2a24e4e-0ba9-4e00-fcfd-4159b1a54549",
    "papermill": {
     "duration": 0.035363,
     "end_time": "2023-09-25T13:56:30.057072",
     "exception": false,
     "start_time": "2023-09-25T13:56:30.021709",
     "status": "completed"
    },
    "tags": []
   },
   "outputs": [
    {
     "data": {
      "text/plain": [
       "{'input_ids': [2, 9944, 16, 881, 550, 835, 15503, 7440, 996, 6301, 18, 3], 'token_type_ids': [0, 0, 0, 0, 0, 0, 0, 0, 0, 0, 0, 0], 'attention_mask': [1, 1, 1, 1, 1, 1, 1, 1, 1, 1, 1, 1]}"
      ]
     },
     "execution_count": 16,
     "metadata": {},
     "output_type": "execute_result"
    }
   ],
   "source": [
    "tokenizer([\"Hello\", \",\", \"this\", \"is\", \"one\", \"sentence\", \"split\", \"into\", \"words\", \".\"], is_split_into_words=True)"
   ]
  },
  {
   "cell_type": "markdown",
   "id": "d86960cb",
   "metadata": {
    "id": "4JdDuFvbsJBF",
    "papermill": {
     "duration": 0.023089,
     "end_time": "2023-09-25T13:56:30.103339",
     "exception": false,
     "start_time": "2023-09-25T13:56:30.080250",
     "status": "completed"
    },
    "tags": []
   },
   "source": [
    "Преобразователи часто предварительно обучаются с помощью токенизаторов подслов, а это означает, что даже если входные данные уже были разделены на слова, каждое из этих слов может быть снова разделено токенизатором."
   ]
  },
  {
   "cell_type": "code",
   "execution_count": 17,
   "id": "e4d2785c",
   "metadata": {
    "execution": {
     "iopub.execute_input": "2023-09-25T13:56:30.152929Z",
     "iopub.status.busy": "2023-09-25T13:56:30.151840Z",
     "iopub.status.idle": "2023-09-25T13:56:30.157951Z",
     "shell.execute_reply": "2023-09-25T13:56:30.156843Z"
    },
    "id": "OjrkjteOsJBF",
    "outputId": "fd98f601-4c2a-48ef-b255-b9dac5432e39",
    "papermill": {
     "duration": 0.032178,
     "end_time": "2023-09-25T13:56:30.160158",
     "exception": false,
     "start_time": "2023-09-25T13:56:30.127980",
     "status": "completed"
    },
    "tags": []
   },
   "outputs": [
    {
     "name": "stdout",
     "output_type": "stream",
     "text": [
      "['Этим', 'средством', 'является', '\"', 'Амизон', '\"', ',', 'которое', 'хорошо', 'прорекламировано', ',', 'однако', 'такого', 'эффекта', 'как', 'говорят', 'нет', '.']\n"
     ]
    }
   ],
   "source": [
    "example = ner_train[5]\n",
    "print(example[\"tokens\"])"
   ]
  },
  {
   "cell_type": "code",
   "execution_count": 18,
   "id": "192295d6",
   "metadata": {
    "execution": {
     "iopub.execute_input": "2023-09-25T13:56:30.212109Z",
     "iopub.status.busy": "2023-09-25T13:56:30.211759Z",
     "iopub.status.idle": "2023-09-25T13:56:30.218068Z",
     "shell.execute_reply": "2023-09-25T13:56:30.217136Z"
    },
    "id": "QU8fkdJMsJBF",
    "outputId": "7d2af7ef-4aaa-4121-9792-84921c25d0e7",
    "papermill": {
     "duration": 0.035928,
     "end_time": "2023-09-25T13:56:30.220161",
     "exception": false,
     "start_time": "2023-09-25T13:56:30.184233",
     "status": "completed"
    },
    "tags": []
   },
   "outputs": [
    {
     "name": "stdout",
     "output_type": "stream",
     "text": [
      "['[CLS]', 'Эти', '##м', 'средство', '##м', 'является', '\"', 'А', '##ми', '##зон', '\"', ',', 'которое', 'хорошо', 'про', '##рек', '##лами', '##ровано', ',', 'однако', 'такого', 'э', '##ффект', '##а', 'как', 'говорят', 'нет', '.', '[SEP]']\n"
     ]
    }
   ],
   "source": [
    "tokenized_input = tokenizer(example[\"tokens\"], is_split_into_words=True)\n",
    "tokens = tokenizer.convert_ids_to_tokens(tokenized_input[\"input_ids\"])\n",
    "print(tokens)"
   ]
  },
  {
   "cell_type": "markdown",
   "id": "4a7fefcd",
   "metadata": {
    "id": "-7zwzY9wsJBG",
    "papermill": {
     "duration": 0.022803,
     "end_time": "2023-09-25T13:56:30.266014",
     "exception": false,
     "start_time": "2023-09-25T13:56:30.243211",
     "status": "completed"
    },
    "tags": []
   },
   "source": [
    "Чтобы перейти с уровня слов на уровень subword tokens, нужно ещё раз предобработать тексты."
   ]
  },
  {
   "cell_type": "code",
   "execution_count": 19,
   "id": "48368dba",
   "metadata": {
    "execution": {
     "iopub.execute_input": "2023-09-25T13:56:30.314117Z",
     "iopub.status.busy": "2023-09-25T13:56:30.313156Z",
     "iopub.status.idle": "2023-09-25T13:56:30.320305Z",
     "shell.execute_reply": "2023-09-25T13:56:30.319263Z"
    },
    "id": "F39uz6wusJBG",
    "outputId": "a539e057-1b85-4232-80aa-a22c0ce9cc65",
    "papermill": {
     "duration": 0.033624,
     "end_time": "2023-09-25T13:56:30.322358",
     "exception": false,
     "start_time": "2023-09-25T13:56:30.288734",
     "status": "completed"
    },
    "tags": []
   },
   "outputs": [
    {
     "data": {
      "text/plain": [
       "(18, 29)"
      ]
     },
     "execution_count": 19,
     "metadata": {},
     "output_type": "execute_result"
    }
   ],
   "source": [
    "len(example[\"tags\"]), len(tokenized_input[\"input_ids\"])"
   ]
  },
  {
   "cell_type": "markdown",
   "id": "b89c0215",
   "metadata": {
    "id": "pnBazSrTsJBG",
    "papermill": {
     "duration": 0.022715,
     "end_time": "2023-09-25T13:56:30.367826",
     "exception": false,
     "start_time": "2023-09-25T13:56:30.345111",
     "status": "completed"
    },
    "tags": []
   },
   "source": [
    "Здесь токенизатор возвращает выходные данные, содержащие метод word_ids, который может нам помочь."
   ]
  },
  {
   "cell_type": "code",
   "execution_count": 20,
   "id": "262babd9",
   "metadata": {
    "execution": {
     "iopub.execute_input": "2023-09-25T13:56:30.416621Z",
     "iopub.status.busy": "2023-09-25T13:56:30.416267Z",
     "iopub.status.idle": "2023-09-25T13:56:30.421550Z",
     "shell.execute_reply": "2023-09-25T13:56:30.420607Z"
    },
    "id": "Rt7_5_bXsJBH",
    "outputId": "936561ed-c6eb-459b-cad9-86271d32f566",
    "papermill": {
     "duration": 0.032229,
     "end_time": "2023-09-25T13:56:30.423936",
     "exception": false,
     "start_time": "2023-09-25T13:56:30.391707",
     "status": "completed"
    },
    "tags": []
   },
   "outputs": [
    {
     "name": "stdout",
     "output_type": "stream",
     "text": [
      "[None, 0, 0, 1, 1, 2, 3, 4, 4, 4, 5, 6, 7, 8, 9, 9, 9, 9, 10, 11, 12, 13, 13, 13, 14, 15, 16, 17, None]\n"
     ]
    }
   ],
   "source": [
    "print(tokenized_input.word_ids())"
   ]
  },
  {
   "cell_type": "markdown",
   "id": "075ca4f7",
   "metadata": {
    "id": "rP1PvW2isJBH",
    "papermill": {
     "duration": 0.0232,
     "end_time": "2023-09-25T13:56:30.470495",
     "exception": false,
     "start_time": "2023-09-25T13:56:30.447295",
     "status": "completed"
    },
    "tags": []
   },
   "source": [
    "Совместим метки с обработанными входными идентификаторами."
   ]
  },
  {
   "cell_type": "code",
   "execution_count": 21,
   "id": "7012d68c",
   "metadata": {
    "execution": {
     "iopub.execute_input": "2023-09-25T13:56:30.520305Z",
     "iopub.status.busy": "2023-09-25T13:56:30.518603Z",
     "iopub.status.idle": "2023-09-25T13:56:30.525874Z",
     "shell.execute_reply": "2023-09-25T13:56:30.524698Z"
    },
    "id": "NeVhtoANsJBH",
    "outputId": "2b950ded-ac54-43a4-d5e7-2a6703b99510",
    "papermill": {
     "duration": 0.033883,
     "end_time": "2023-09-25T13:56:30.527981",
     "exception": false,
     "start_time": "2023-09-25T13:56:30.494098",
     "status": "completed"
    },
    "tags": []
   },
   "outputs": [
    {
     "name": "stdout",
     "output_type": "stream",
     "text": [
      "29 29\n"
     ]
    }
   ],
   "source": [
    "word_ids = tokenized_input.word_ids()\n",
    "aligned_labels = [-100 if i is None else example[\"tags\"][i] for i in word_ids]\n",
    "print(len(aligned_labels), len(tokenized_input[\"input_ids\"]))"
   ]
  },
  {
   "cell_type": "markdown",
   "id": "34c80741",
   "metadata": {
    "id": "2C0hcmp9IrJQ",
    "papermill": {
     "duration": 0.022887,
     "end_time": "2023-09-25T13:56:30.620494",
     "exception": false,
     "start_time": "2023-09-25T13:56:30.597607",
     "status": "completed"
    },
    "tags": []
   },
   "source": [
    "Применим функцию обработки образцов. Передаем их токенизатору с аргументом truncation=True (чтобы обрезать тексты, размер которых превышает максимальный размер, разрешенный моделью) и is_split_into_words=True (как показано выше). Затем мы выравниваем метки с идентификаторами токенов."
   ]
  },
  {
   "cell_type": "code",
   "execution_count": 22,
   "id": "1a00157f",
   "metadata": {
    "execution": {
     "iopub.execute_input": "2023-09-25T13:56:30.668734Z",
     "iopub.status.busy": "2023-09-25T13:56:30.668374Z",
     "iopub.status.idle": "2023-09-25T13:56:30.676890Z",
     "shell.execute_reply": "2023-09-25T13:56:30.675840Z"
    },
    "id": "vc0BSBLIIrJQ",
    "papermill": {
     "duration": 0.035183,
     "end_time": "2023-09-25T13:56:30.679025",
     "exception": false,
     "start_time": "2023-09-25T13:56:30.643842",
     "status": "completed"
    },
    "tags": []
   },
   "outputs": [],
   "source": [
    "def tokenize_and_align_labels(examples, label_all_tokens=True):\n",
    "    tokenized_inputs = tokenizer(examples[\"tokens\"], truncation=True, is_split_into_words=True)\n",
    "\n",
    "    labels = []\n",
    "    for i, label in enumerate(examples['tags']):\n",
    "        word_ids = tokenized_inputs.word_ids(batch_index=i)\n",
    "        previous_word_idx = None\n",
    "        label_ids = []\n",
    "        for word_idx in word_ids:\n",
    "            \n",
    "            if word_idx is None:\n",
    "                label_ids.append(-100)\n",
    "           \n",
    "            elif word_idx != previous_word_idx:\n",
    "                label_ids.append(label[word_idx])\n",
    "            \n",
    "            else:\n",
    "                label_ids.append(label[word_idx] if label_all_tokens else -100)\n",
    "            previous_word_idx = word_idx\n",
    "\n",
    "        label_ids = [label_list.index(idx) if isinstance(idx, str) else idx for idx in label_ids]\n",
    "\n",
    "        labels.append(label_ids)\n",
    "\n",
    "    tokenized_inputs[\"labels\"] = labels\n",
    "    return tokenized_inputs"
   ]
  },
  {
   "cell_type": "code",
   "execution_count": 23,
   "id": "78b7ae93",
   "metadata": {
    "execution": {
     "iopub.execute_input": "2023-09-25T13:56:30.774487Z",
     "iopub.status.busy": "2023-09-25T13:56:30.773475Z",
     "iopub.status.idle": "2023-09-25T13:56:30.784468Z",
     "shell.execute_reply": "2023-09-25T13:56:30.783439Z"
    },
    "id": "-b70jh26IrJS",
    "outputId": "dbfa9eed-9866-4915-efd0-07e4f231accd",
    "papermill": {
     "duration": 0.037359,
     "end_time": "2023-09-25T13:56:30.786528",
     "exception": false,
     "start_time": "2023-09-25T13:56:30.749169",
     "status": "completed"
    },
    "tags": []
   },
   "outputs": [
    {
     "data": {
      "text/plain": [
       "{'input_ids': [[2, 3130, 3374, 23324, 871, 314, 1556, 14068, 16902, 1029, 6899, 18, 3]], 'token_type_ids': [[0, 0, 0, 0, 0, 0, 0, 0, 0, 0, 0, 0, 0]], 'attention_mask': [[1, 1, 1, 1, 1, 1, 1, 1, 1, 1, 1, 1, 1]], 'labels': [[-100, 0, 0, 0, 0, 0, 0, 0, 0, 0, 0, 0, -100]]}"
      ]
     },
     "execution_count": 23,
     "metadata": {},
     "output_type": "execute_result"
    }
   ],
   "source": [
    "tokenize_and_align_labels(ner_data['train'][22:23])"
   ]
  },
  {
   "cell_type": "markdown",
   "id": "8b39fee2",
   "metadata": {
    "id": "zS-6iXTkIrJT",
    "papermill": {
     "duration": 0.023042,
     "end_time": "2023-09-25T13:56:30.833006",
     "exception": false,
     "start_time": "2023-09-25T13:56:30.809964",
     "status": "completed"
    },
    "tags": []
   },
   "source": [
    "Команда \"map\" обработает все предложения одной строкой"
   ]
  },
  {
   "cell_type": "code",
   "execution_count": 24,
   "id": "28f38032",
   "metadata": {
    "execution": {
     "iopub.execute_input": "2023-09-25T13:56:30.881590Z",
     "iopub.status.busy": "2023-09-25T13:56:30.880565Z",
     "iopub.status.idle": "2023-09-25T13:56:32.234991Z",
     "shell.execute_reply": "2023-09-25T13:56:32.234032Z"
    },
    "id": "DDtsaJeVIrJT",
    "outputId": "a826b0df-e3e6-4edb-8749-98abad8576a5",
    "papermill": {
     "duration": 1.381124,
     "end_time": "2023-09-25T13:56:32.237331",
     "exception": false,
     "start_time": "2023-09-25T13:56:30.856207",
     "status": "completed"
    },
    "tags": []
   },
   "outputs": [
    {
     "data": {
      "application/vnd.jupyter.widget-view+json": {
       "model_id": "0339794887bf4bdfab8acfaa157d5be4",
       "version_major": 2,
       "version_minor": 0
      },
      "text/plain": [
       "  0%|          | 0/5 [00:00<?, ?ba/s]"
      ]
     },
     "metadata": {},
     "output_type": "display_data"
    },
    {
     "data": {
      "application/vnd.jupyter.widget-view+json": {
       "model_id": "63ffb4420b2742a3b3c93f149c861ab1",
       "version_major": 2,
       "version_minor": 0
      },
      "text/plain": [
       "  0%|          | 0/1 [00:00<?, ?ba/s]"
      ]
     },
     "metadata": {},
     "output_type": "display_data"
    }
   ],
   "source": [
    "tokenized_datasets = ner_data.map(tokenize_and_align_labels, batched=True)"
   ]
  },
  {
   "cell_type": "markdown",
   "id": "eb61ca22",
   "metadata": {
    "id": "545PP3o8IrJV",
    "papermill": {
     "duration": 0.023566,
     "end_time": "2023-09-25T13:56:32.334157",
     "exception": false,
     "start_time": "2023-09-25T13:56:32.310591",
     "status": "completed"
    },
    "tags": []
   },
   "source": [
    "**Точная настройка модели**"
   ]
  },
  {
   "cell_type": "markdown",
   "id": "dbc5b8fc",
   "metadata": {
    "id": "FBiW8UpKIrJW",
    "papermill": {
     "duration": 0.023329,
     "end_time": "2023-09-25T13:56:32.381173",
     "exception": false,
     "start_time": "2023-09-25T13:56:32.357844",
     "status": "completed"
    },
    "tags": []
   },
   "source": [
    "Когда наши данные готовы, мы можем загрузить предварительно обученную модель и точно настроить ее. Поскольку все наши задачи связаны с классификацией токенов, мы используем класс AutoModelForTokenClassification. Как и в случае с токенизатором, метод from_pretrained загрузит и кэширует для нас модель. Единственное, что нам нужно указать, это количество меток для нашей проблемы (которое мы можем получить из функций, как было показано ранее)"
   ]
  },
  {
   "cell_type": "code",
   "execution_count": 25,
   "id": "605eee6c",
   "metadata": {
    "execution": {
     "iopub.execute_input": "2023-09-25T13:56:32.430902Z",
     "iopub.status.busy": "2023-09-25T13:56:32.429778Z",
     "iopub.status.idle": "2023-09-25T13:56:32.437005Z",
     "shell.execute_reply": "2023-09-25T13:56:32.436016Z"
    },
    "id": "4d2zEASrUs1E",
    "outputId": "0336149e-3776-4817-f667-1faf8da6aecf",
    "papermill": {
     "duration": 0.034136,
     "end_time": "2023-09-25T13:56:32.439024",
     "exception": false,
     "start_time": "2023-09-25T13:56:32.404888",
     "status": "completed"
    },
    "tags": []
   },
   "outputs": [
    {
     "data": {
      "text/plain": [
       "['O',\n",
       " 'B-ADR',\n",
       " 'B-DI',\n",
       " 'B-Drugclass',\n",
       " 'B-Drugform',\n",
       " 'B-Drugname',\n",
       " 'B-Finding',\n",
       " 'I-ADR',\n",
       " 'I-DI',\n",
       " 'I-Drugclass',\n",
       " 'I-Drugform',\n",
       " 'I-Drugname',\n",
       " 'I-Finding']"
      ]
     },
     "execution_count": 25,
     "metadata": {},
     "output_type": "execute_result"
    }
   ],
   "source": [
    "label_list"
   ]
  },
  {
   "cell_type": "code",
   "execution_count": 26,
   "id": "f3cb697f",
   "metadata": {
    "execution": {
     "iopub.execute_input": "2023-09-25T13:56:32.487667Z",
     "iopub.status.busy": "2023-09-25T13:56:32.486861Z",
     "iopub.status.idle": "2023-09-25T13:56:34.124340Z",
     "shell.execute_reply": "2023-09-25T13:56:34.123349Z"
    },
    "id": "TlqNaB8jIrJW",
    "outputId": "a43314d8-3264-4396-e6a6-4a1d28a055ed",
    "papermill": {
     "duration": 1.664177,
     "end_time": "2023-09-25T13:56:34.126676",
     "exception": false,
     "start_time": "2023-09-25T13:56:32.462499",
     "status": "completed"
    },
    "tags": []
   },
   "outputs": [
    {
     "data": {
      "application/vnd.jupyter.widget-view+json": {
       "model_id": "84b5cc718656411fbb1be6650f59fa91",
       "version_major": 2,
       "version_minor": 0
      },
      "text/plain": [
       "Downloading model.safetensors:   0%|          | 0.00/47.7M [00:00<?, ?B/s]"
      ]
     },
     "metadata": {},
     "output_type": "display_data"
    },
    {
     "name": "stderr",
     "output_type": "stream",
     "text": [
      "Some weights of BertForTokenClassification were not initialized from the model checkpoint at cointegrated/rubert-tiny and are newly initialized: ['classifier.weight', 'classifier.bias']\n",
      "You should probably TRAIN this model on a down-stream task to be able to use it for predictions and inference.\n"
     ]
    }
   ],
   "source": [
    "model = AutoModelForTokenClassification.from_pretrained(model_checkpoint, num_labels=len(label_list))\n",
    "model.config.id2label = dict(enumerate(label_list))\n",
    "model.config.label2id = {v: k for k, v in model.config.id2label.items()}"
   ]
  },
  {
   "cell_type": "code",
   "execution_count": 27,
   "id": "0498c132",
   "metadata": {
    "execution": {
     "iopub.execute_input": "2023-09-25T13:56:34.283155Z",
     "iopub.status.busy": "2023-09-25T13:56:34.282795Z",
     "iopub.status.idle": "2023-09-25T13:56:34.392539Z",
     "shell.execute_reply": "2023-09-25T13:56:34.391545Z"
    },
    "id": "Bliy8zgjIrJY",
    "papermill": {
     "duration": 0.138754,
     "end_time": "2023-09-25T13:56:34.394996",
     "exception": false,
     "start_time": "2023-09-25T13:56:34.256242",
     "status": "completed"
    },
    "tags": []
   },
   "outputs": [],
   "source": [
    "args = TrainingArguments(\n",
    "    \"ner\",\n",
    "    evaluation_strategy = \"epoch\",\n",
    "    learning_rate=2e-5,\n",
    "    per_device_train_batch_size=batch_size,\n",
    "    per_device_eval_batch_size=batch_size,\n",
    "    num_train_epochs=10,\n",
    "    weight_decay=0.01,\n",
    "    save_strategy='no',\n",
    "    report_to='none',\n",
    ")"
   ]
  },
  {
   "cell_type": "markdown",
   "id": "abb15e7c",
   "metadata": {
    "id": "km3pGVdTIrJc",
    "papermill": {
     "duration": 0.024144,
     "end_time": "2023-09-25T13:56:34.443758",
     "exception": false,
     "start_time": "2023-09-25T13:56:34.419614",
     "status": "completed"
    },
    "tags": []
   },
   "source": [
    "Здесь мы устанавливаем оценку, которая будет выполняться в конце каждой эпохи, настраиваем скорость обучения, используем параметр «batch_size», определенный в верхней части блокнота, и настраиваем количество эпох для обучения, а также затухание весов"
   ]
  },
  {
   "cell_type": "markdown",
   "id": "59a92d50",
   "metadata": {
    "id": "4e6jrE3TsJBM",
    "papermill": {
     "duration": 0.023515,
     "end_time": "2023-09-25T13:56:34.491862",
     "exception": false,
     "start_time": "2023-09-25T13:56:34.468347",
     "status": "completed"
    },
    "tags": []
   },
   "source": [
    "Применим сортировку данных, которая будет группировать наши обработанные примеры вместе, применяя заполнение, чтобы сделать их всех одинакового размера (каждое дополнение будет дополнено до длины самого длинного примера). Для этой задачи в библиотеке Transformers есть средство сортировки данных, которое не только дополняет входные данные, но и метки"
   ]
  },
  {
   "cell_type": "code",
   "execution_count": 28,
   "id": "5efdba74",
   "metadata": {
    "execution": {
     "iopub.execute_input": "2023-09-25T13:56:34.541714Z",
     "iopub.status.busy": "2023-09-25T13:56:34.540709Z",
     "iopub.status.idle": "2023-09-25T13:56:34.545817Z",
     "shell.execute_reply": "2023-09-25T13:56:34.544952Z"
    },
    "id": "pyiUUwuCsJBM",
    "papermill": {
     "duration": 0.032282,
     "end_time": "2023-09-25T13:56:34.547987",
     "exception": false,
     "start_time": "2023-09-25T13:56:34.515705",
     "status": "completed"
    },
    "tags": []
   },
   "outputs": [],
   "source": [
    "data_collator = DataCollatorForTokenClassification(tokenizer)"
   ]
  },
  {
   "cell_type": "markdown",
   "id": "204fd258",
   "metadata": {
    "id": "YY7DtOOesJBM",
    "papermill": {
     "duration": 0.023905,
     "end_time": "2023-09-25T13:56:34.595516",
     "exception": false,
     "start_time": "2023-09-25T13:56:34.571611",
     "status": "completed"
    },
    "tags": []
   },
   "source": [
    "Загрузим метрику seqeval (которая обычно используется для оценки результатов в наборе данных CONLL) через библиотеку наборов данных."
   ]
  },
  {
   "cell_type": "code",
   "execution_count": 29,
   "id": "2ff612db",
   "metadata": {
    "execution": {
     "iopub.execute_input": "2023-09-25T13:56:34.645580Z",
     "iopub.status.busy": "2023-09-25T13:56:34.645207Z",
     "iopub.status.idle": "2023-09-25T13:56:35.099021Z",
     "shell.execute_reply": "2023-09-25T13:56:35.098102Z"
    },
    "id": "qFF2_ArssJBM",
    "outputId": "a3d09957-21c0-4456-ba8b-f8f6819d050e",
    "papermill": {
     "duration": 0.481874,
     "end_time": "2023-09-25T13:56:35.101124",
     "exception": false,
     "start_time": "2023-09-25T13:56:34.619250",
     "status": "completed"
    },
    "tags": []
   },
   "outputs": [
    {
     "data": {
      "application/vnd.jupyter.widget-view+json": {
       "model_id": "2c3461ec0efc4247bd5cbceb67fa488e",
       "version_major": 2,
       "version_minor": 0
      },
      "text/plain": [
       "Downloading builder script:   0%|          | 0.00/2.47k [00:00<?, ?B/s]"
      ]
     },
     "metadata": {},
     "output_type": "display_data"
    }
   ],
   "source": [
    "metric = load_metric(\"seqeval\")"
   ]
  },
  {
   "cell_type": "code",
   "execution_count": 30,
   "id": "58322724",
   "metadata": {
    "execution": {
     "iopub.execute_input": "2023-09-25T13:56:35.200621Z",
     "iopub.status.busy": "2023-09-25T13:56:35.200311Z",
     "iopub.status.idle": "2023-09-25T13:56:35.215314Z",
     "shell.execute_reply": "2023-09-25T13:56:35.214263Z"
    },
    "id": "YOfoAVULsJBN",
    "outputId": "7986e217-4735-477b-d94e-4164a5286d84",
    "papermill": {
     "duration": 0.041874,
     "end_time": "2023-09-25T13:56:35.217488",
     "exception": false,
     "start_time": "2023-09-25T13:56:35.175614",
     "status": "completed"
    },
    "tags": []
   },
   "outputs": [
    {
     "data": {
      "text/plain": [
       "{'overall_precision': 0.0,\n",
       " 'overall_recall': 0.0,\n",
       " 'overall_f1': 0.0,\n",
       " 'overall_accuracy': 1.0}"
      ]
     },
     "execution_count": 30,
     "metadata": {},
     "output_type": "execute_result"
    }
   ],
   "source": [
    "example = ner_train[4]\n",
    "labels = example['tags']\n",
    "metric.compute(predictions=[labels], references=[labels])"
   ]
  },
  {
   "cell_type": "markdown",
   "id": "854a04ae",
   "metadata": {
    "id": "7sZOdRlRIrJd",
    "papermill": {
     "duration": 0.02412,
     "end_time": "2023-09-25T13:56:35.270516",
     "exception": false,
     "start_time": "2023-09-25T13:56:35.246396",
     "status": "completed"
    },
    "tags": []
   },
   "source": [
    "Следующая функция выполняет всю постобработку результата Trainer.evaluate (который представляет собой именованный кортеж, содержащий прогнозы и метки) перед применением метрики"
   ]
  },
  {
   "cell_type": "code",
   "execution_count": 31,
   "id": "53f48bd5",
   "metadata": {
    "execution": {
     "iopub.execute_input": "2023-09-25T13:56:35.320111Z",
     "iopub.status.busy": "2023-09-25T13:56:35.319738Z",
     "iopub.status.idle": "2023-09-25T13:56:35.327522Z",
     "shell.execute_reply": "2023-09-25T13:56:35.326484Z"
    },
    "id": "UmvbnJ9JIrJd",
    "papermill": {
     "duration": 0.035263,
     "end_time": "2023-09-25T13:56:35.329584",
     "exception": false,
     "start_time": "2023-09-25T13:56:35.294321",
     "status": "completed"
    },
    "tags": []
   },
   "outputs": [],
   "source": [
    "def compute_metrics(p):\n",
    "    predictions, labels = p\n",
    "    predictions = np.argmax(predictions, axis=2)\n",
    "\n",
    "    true_predictions = [\n",
    "        [label_list[p] for (p, l) in zip(prediction, label) if l != -100]\n",
    "        for prediction, label in zip(predictions, labels)\n",
    "    ]\n",
    "    true_labels = [\n",
    "        [label_list[l] for (p, l) in zip(prediction, label) if l != -100]\n",
    "        for prediction, label in zip(predictions, labels)\n",
    "    ]\n",
    "\n",
    "    results = metric.compute(predictions=true_predictions, references=true_labels, zero_division=0)\n",
    "    return {\n",
    "        \"precision\": results[\"overall_precision\"],\n",
    "        \"recall\": results[\"overall_recall\"],\n",
    "        \"f1\": results[\"overall_f1\"],\n",
    "        \"accuracy\": results[\"overall_accuracy\"],\n",
    "    }"
   ]
  },
  {
   "cell_type": "code",
   "execution_count": 32,
   "id": "f95f4830",
   "metadata": {
    "execution": {
     "iopub.execute_input": "2023-09-25T13:56:35.427623Z",
     "iopub.status.busy": "2023-09-25T13:56:35.427276Z",
     "iopub.status.idle": "2023-09-25T13:56:43.467996Z",
     "shell.execute_reply": "2023-09-25T13:56:43.466980Z"
    },
    "id": "imY1oC3SIrJf",
    "papermill": {
     "duration": 8.068232,
     "end_time": "2023-09-25T13:56:43.470357",
     "exception": false,
     "start_time": "2023-09-25T13:56:35.402125",
     "status": "completed"
    },
    "tags": []
   },
   "outputs": [],
   "source": [
    "trainer = Trainer(\n",
    "    model,\n",
    "    args,\n",
    "    train_dataset=tokenized_datasets[\"train\"],\n",
    "    eval_dataset=tokenized_datasets[\"test\"],\n",
    "    data_collator=data_collator,\n",
    "    tokenizer=tokenizer,\n",
    "    compute_metrics=compute_metrics\n",
    ")"
   ]
  },
  {
   "cell_type": "code",
   "execution_count": 33,
   "id": "1ce8cfa3",
   "metadata": {
    "execution": {
     "iopub.execute_input": "2023-09-25T13:56:43.521786Z",
     "iopub.status.busy": "2023-09-25T13:56:43.520892Z",
     "iopub.status.idle": "2023-09-25T13:56:52.051141Z",
     "shell.execute_reply": "2023-09-25T13:56:52.050174Z"
    },
    "id": "ZP1dvvNlXg9Y",
    "outputId": "d80aff7f-a9c4-418b-97ac-1510fc8832c6",
    "papermill": {
     "duration": 8.558571,
     "end_time": "2023-09-25T13:56:52.053456",
     "exception": false,
     "start_time": "2023-09-25T13:56:43.494885",
     "status": "completed"
    },
    "tags": []
   },
   "outputs": [
    {
     "name": "stderr",
     "output_type": "stream",
     "text": [
      "You're using a BertTokenizerFast tokenizer. Please note that with a fast tokenizer, using the `__call__` method is faster than using a method to encode the text followed by a call to the `pad` method to get a padded encoding.\n"
     ]
    },
    {
     "data": {
      "text/html": [
       "\n",
       "    <div>\n",
       "      \n",
       "      <progress value='32' max='16' style='width:300px; height:20px; vertical-align: middle;'></progress>\n",
       "      [16/16 00:07]\n",
       "    </div>\n",
       "    "
      ],
      "text/plain": [
       "<IPython.core.display.HTML object>"
      ]
     },
     "metadata": {},
     "output_type": "display_data"
    },
    {
     "data": {
      "text/plain": [
       "{'eval_loss': 2.770181655883789,\n",
       " 'eval_precision': 0.01888934764657308,\n",
       " 'eval_recall': 0.11144945188794153,\n",
       " 'eval_f1': 0.032303618711385707,\n",
       " 'eval_accuracy': 0.0321798729521899,\n",
       " 'eval_runtime': 8.5183,\n",
       " 'eval_samples_per_second': 56.467,\n",
       " 'eval_steps_per_second': 1.878}"
      ]
     },
     "execution_count": 33,
     "metadata": {},
     "output_type": "execute_result"
    }
   ],
   "source": [
    "trainer.evaluate()"
   ]
  },
  {
   "cell_type": "markdown",
   "id": "de625164",
   "metadata": {
    "id": "a-xw5JvKzyrf",
    "papermill": {
     "duration": 0.024976,
     "end_time": "2023-09-25T13:56:52.104102",
     "exception": false,
     "start_time": "2023-09-25T13:56:52.079126",
     "status": "completed"
    },
    "tags": []
   },
   "source": [
    "В начале обучения заморозим все параметры в модели, кроме последнего слоя, и посмотрим, насколько хорошо она обучится."
   ]
  },
  {
   "cell_type": "code",
   "execution_count": 34,
   "id": "2e787066",
   "metadata": {
    "execution": {
     "iopub.execute_input": "2023-09-25T13:56:52.156708Z",
     "iopub.status.busy": "2023-09-25T13:56:52.155763Z",
     "iopub.status.idle": "2023-09-25T13:56:52.161228Z",
     "shell.execute_reply": "2023-09-25T13:56:52.160256Z"
    },
    "id": "lzwwl_YQWKxq",
    "papermill": {
     "duration": 0.034483,
     "end_time": "2023-09-25T13:56:52.163256",
     "exception": false,
     "start_time": "2023-09-25T13:56:52.128773",
     "status": "completed"
    },
    "tags": []
   },
   "outputs": [],
   "source": [
    "for param in model.bert.parameters():\n",
    "    param.requires_grad = False"
   ]
  },
  {
   "cell_type": "code",
   "execution_count": 35,
   "id": "10ee2892",
   "metadata": {
    "execution": {
     "iopub.execute_input": "2023-09-25T13:56:52.213830Z",
     "iopub.status.busy": "2023-09-25T13:56:52.213545Z",
     "iopub.status.idle": "2023-09-25T13:56:52.261763Z",
     "shell.execute_reply": "2023-09-25T13:56:52.260811Z"
    },
    "id": "EhRisAHxWZRG",
    "outputId": "689bea67-9bfe-4fc5-f9e6-30828a5aec98",
    "papermill": {
     "duration": 0.075836,
     "end_time": "2023-09-25T13:56:52.264287",
     "exception": false,
     "start_time": "2023-09-25T13:56:52.188451",
     "status": "completed"
    },
    "tags": []
   },
   "outputs": [
    {
     "name": "stdout",
     "output_type": "stream",
     "text": [
      "classifier.weight\n",
      "Parameter containing:\n",
      "tensor([[ 0.0369, -0.0169,  0.0101,  ...,  0.0295, -0.0226,  0.0197],\n",
      "        [-0.0258, -0.0180, -0.0017,  ...,  0.0095,  0.0075,  0.0287],\n",
      "        [-0.0171, -0.0056,  0.0061,  ..., -0.0252,  0.0484,  0.0083],\n",
      "        ...,\n",
      "        [ 0.0155, -0.0223, -0.0079,  ..., -0.0174, -0.0795, -0.0046],\n",
      "        [ 0.0016, -0.0109,  0.0151,  ...,  0.0001,  0.0033,  0.0244],\n",
      "        [-0.0341, -0.0089,  0.0606,  ..., -0.0234, -0.0175,  0.0143]],\n",
      "       device='cuda:0', requires_grad=True)\n",
      "classifier.bias\n",
      "Parameter containing:\n",
      "tensor([0., 0., 0., 0., 0., 0., 0., 0., 0., 0., 0., 0., 0.], device='cuda:0',\n",
      "       requires_grad=True)\n"
     ]
    }
   ],
   "source": [
    "for name, param in model.named_parameters():\n",
    "    if param.requires_grad:\n",
    "        print(name)\n",
    "        print(param)"
   ]
  },
  {
   "cell_type": "code",
   "execution_count": 36,
   "id": "6650891d",
   "metadata": {
    "execution": {
     "iopub.execute_input": "2023-09-25T13:56:52.366766Z",
     "iopub.status.busy": "2023-09-25T13:56:52.366445Z",
     "iopub.status.idle": "2023-09-25T13:56:52.371262Z",
     "shell.execute_reply": "2023-09-25T13:56:52.370354Z"
    },
    "id": "nsuTXCjMeYHE",
    "papermill": {
     "duration": 0.032639,
     "end_time": "2023-09-25T13:56:52.373356",
     "exception": false,
     "start_time": "2023-09-25T13:56:52.340717",
     "status": "completed"
    },
    "tags": []
   },
   "outputs": [],
   "source": [
    "noisy_logger.setLevel(logging.WARNING)"
   ]
  },
  {
   "cell_type": "code",
   "execution_count": 37,
   "id": "d68b8720",
   "metadata": {
    "execution": {
     "iopub.execute_input": "2023-09-25T13:56:52.426116Z",
     "iopub.status.busy": "2023-09-25T13:56:52.425166Z",
     "iopub.status.idle": "2023-09-25T13:57:53.047956Z",
     "shell.execute_reply": "2023-09-25T13:57:53.047018Z"
    },
    "id": "yGz3c_A_sJBO",
    "outputId": "1580eb10-b1fa-474e-f106-69bfcfa5c151",
    "papermill": {
     "duration": 60.651273,
     "end_time": "2023-09-25T13:57:53.050186",
     "exception": false,
     "start_time": "2023-09-25T13:56:52.398913",
     "status": "completed"
    },
    "tags": []
   },
   "outputs": [
    {
     "data": {
      "text/html": [
       "\n",
       "    <div>\n",
       "      \n",
       "      <progress value='1360' max='1360' style='width:300px; height:20px; vertical-align: middle;'></progress>\n",
       "      [1360/1360 01:00, Epoch 10/10]\n",
       "    </div>\n",
       "    <table border=\"1\" class=\"dataframe\">\n",
       "  <thead>\n",
       " <tr style=\"text-align: left;\">\n",
       "      <th>Epoch</th>\n",
       "      <th>Training Loss</th>\n",
       "      <th>Validation Loss</th>\n",
       "      <th>Precision</th>\n",
       "      <th>Recall</th>\n",
       "      <th>F1</th>\n",
       "      <th>Accuracy</th>\n",
       "    </tr>\n",
       "  </thead>\n",
       "  <tbody>\n",
       "    <tr>\n",
       "      <td>1</td>\n",
       "      <td>No log</td>\n",
       "      <td>2.429248</td>\n",
       "      <td>0.021914</td>\n",
       "      <td>0.104750</td>\n",
       "      <td>0.036245</td>\n",
       "      <td>0.190488</td>\n",
       "    </tr>\n",
       "    <tr>\n",
       "      <td>2</td>\n",
       "      <td>No log</td>\n",
       "      <td>2.140264</td>\n",
       "      <td>0.024432</td>\n",
       "      <td>0.060901</td>\n",
       "      <td>0.034874</td>\n",
       "      <td>0.501254</td>\n",
       "    </tr>\n",
       "    <tr>\n",
       "      <td>3</td>\n",
       "      <td>No log</td>\n",
       "      <td>1.901813</td>\n",
       "      <td>0.034049</td>\n",
       "      <td>0.028015</td>\n",
       "      <td>0.030738</td>\n",
       "      <td>0.717987</td>\n",
       "    </tr>\n",
       "    <tr>\n",
       "      <td>4</td>\n",
       "      <td>2.212500</td>\n",
       "      <td>1.710953</td>\n",
       "      <td>0.060759</td>\n",
       "      <td>0.014616</td>\n",
       "      <td>0.023564</td>\n",
       "      <td>0.791708</td>\n",
       "    </tr>\n",
       "    <tr>\n",
       "      <td>5</td>\n",
       "      <td>2.212500</td>\n",
       "      <td>1.562821</td>\n",
       "      <td>0.122951</td>\n",
       "      <td>0.009135</td>\n",
       "      <td>0.017007</td>\n",
       "      <td>0.811601</td>\n",
       "    </tr>\n",
       "    <tr>\n",
       "      <td>6</td>\n",
       "      <td>2.212500</td>\n",
       "      <td>1.451857</td>\n",
       "      <td>0.081633</td>\n",
       "      <td>0.002436</td>\n",
       "      <td>0.004731</td>\n",
       "      <td>0.815530</td>\n",
       "    </tr>\n",
       "    <tr>\n",
       "      <td>7</td>\n",
       "      <td>2.212500</td>\n",
       "      <td>1.372272</td>\n",
       "      <td>0.083333</td>\n",
       "      <td>0.001218</td>\n",
       "      <td>0.002401</td>\n",
       "      <td>0.816867</td>\n",
       "    </tr>\n",
       "    <tr>\n",
       "      <td>8</td>\n",
       "      <td>1.497800</td>\n",
       "      <td>1.319215</td>\n",
       "      <td>0.066667</td>\n",
       "      <td>0.000609</td>\n",
       "      <td>0.001207</td>\n",
       "      <td>0.817369</td>\n",
       "    </tr>\n",
       "    <tr>\n",
       "      <td>9</td>\n",
       "      <td>1.497800</td>\n",
       "      <td>1.288893</td>\n",
       "      <td>0.083333</td>\n",
       "      <td>0.000609</td>\n",
       "      <td>0.001209</td>\n",
       "      <td>0.817536</td>\n",
       "    </tr>\n",
       "    <tr>\n",
       "      <td>10</td>\n",
       "      <td>1.497800</td>\n",
       "      <td>1.279003</td>\n",
       "      <td>0.111111</td>\n",
       "      <td>0.000609</td>\n",
       "      <td>0.001211</td>\n",
       "      <td>0.817787</td>\n",
       "    </tr>\n",
       "  </tbody>\n",
       "</table><p>"
      ],
      "text/plain": [
       "<IPython.core.display.HTML object>"
      ]
     },
     "metadata": {},
     "output_type": "display_data"
    },
    {
     "data": {
      "text/plain": [
       "TrainOutput(global_step=1360, training_loss=1.6999690336339615, metrics={'train_runtime': 60.3185, 'train_samples_per_second': 717.524, 'train_steps_per_second': 22.547, 'total_flos': 48055430014560.0, 'train_loss': 1.6999690336339615, 'epoch': 10.0})"
      ]
     },
     "execution_count": 37,
     "metadata": {},
     "output_type": "execute_result"
    }
   ],
   "source": [
    "trainer.train()"
   ]
  },
  {
   "cell_type": "markdown",
   "id": "3d51ca73",
   "metadata": {
    "id": "H14j1R3cbDPO",
    "papermill": {
     "duration": 0.02466,
     "end_time": "2023-09-25T13:57:53.100448",
     "exception": false,
     "start_time": "2023-09-25T13:57:53.075788",
     "status": "completed"
    },
    "tags": []
   },
   "source": [
    "Модель недообучилась: похоже, что нужно обучить больше слоёв. Разморозим их все (но, воможно, более правильно было бы разморозить лишь несколько верхних), и поучимся ещё эпох 20."
   ]
  },
  {
   "cell_type": "code",
   "execution_count": 38,
   "id": "5880f5dc",
   "metadata": {
    "execution": {
     "iopub.execute_input": "2023-09-25T13:57:53.152251Z",
     "iopub.status.busy": "2023-09-25T13:57:53.151855Z",
     "iopub.status.idle": "2023-09-25T13:57:53.157234Z",
     "shell.execute_reply": "2023-09-25T13:57:53.156164Z"
    },
    "id": "65soVR9sbE77",
    "papermill": {
     "duration": 0.034359,
     "end_time": "2023-09-25T13:57:53.159683",
     "exception": false,
     "start_time": "2023-09-25T13:57:53.125324",
     "status": "completed"
    },
    "tags": []
   },
   "outputs": [],
   "source": [
    "# разморозка\n",
    "for param in model.parameters():\n",
    "    param.requires_grad = True"
   ]
  },
  {
   "cell_type": "code",
   "execution_count": 39,
   "id": "bbf732df",
   "metadata": {
    "execution": {
     "iopub.execute_input": "2023-09-25T13:57:53.210733Z",
     "iopub.status.busy": "2023-09-25T13:57:53.209867Z",
     "iopub.status.idle": "2023-09-25T13:57:53.215868Z",
     "shell.execute_reply": "2023-09-25T13:57:53.214957Z"
    },
    "id": "u-3sfj5ocug0",
    "outputId": "6cc87bf3-5180-4049-819e-2bfa1c520e9c",
    "papermill": {
     "duration": 0.033456,
     "end_time": "2023-09-25T13:57:53.217815",
     "exception": false,
     "start_time": "2023-09-25T13:57:53.184359",
     "status": "completed"
    },
    "tags": []
   },
   "outputs": [],
   "source": [
    "args = TrainingArguments(\n",
    "    \"ner\",\n",
    "    evaluation_strategy = \"epoch\",\n",
    "    learning_rate=1e-5,\n",
    "    per_device_train_batch_size=batch_size,\n",
    "    per_device_eval_batch_size=batch_size,\n",
    "    num_train_epochs=20,\n",
    "    weight_decay=0.01,\n",
    "    save_strategy='no',\n",
    "    report_to='none',\n",
    ")"
   ]
  },
  {
   "cell_type": "code",
   "execution_count": 40,
   "id": "cb53261b",
   "metadata": {
    "execution": {
     "iopub.execute_input": "2023-09-25T13:57:53.268300Z",
     "iopub.status.busy": "2023-09-25T13:57:53.268001Z",
     "iopub.status.idle": "2023-09-25T13:57:53.277431Z",
     "shell.execute_reply": "2023-09-25T13:57:53.276567Z"
    },
    "id": "wGW0r33pdLOy",
    "papermill": {
     "duration": 0.037141,
     "end_time": "2023-09-25T13:57:53.279530",
     "exception": false,
     "start_time": "2023-09-25T13:57:53.242389",
     "status": "completed"
    },
    "tags": []
   },
   "outputs": [],
   "source": [
    "trainer = Trainer(\n",
    "    model,\n",
    "    args,\n",
    "    train_dataset=tokenized_datasets[\"train\"],\n",
    "    eval_dataset=tokenized_datasets[\"test\"],\n",
    "    data_collator=data_collator,\n",
    "    tokenizer=tokenizer,\n",
    "    compute_metrics=compute_metrics\n",
    ")"
   ]
  },
  {
   "cell_type": "code",
   "execution_count": 41,
   "id": "9ea8bcea",
   "metadata": {
    "execution": {
     "iopub.execute_input": "2023-09-25T13:57:53.331916Z",
     "iopub.status.busy": "2023-09-25T13:57:53.331631Z",
     "iopub.status.idle": "2023-09-25T14:00:24.257470Z",
     "shell.execute_reply": "2023-09-25T14:00:24.256492Z"
    },
    "id": "C5nZBs-BbFRq",
    "outputId": "b601aa50-4cf0-471a-d0f5-be6ae0b53986",
    "papermill": {
     "duration": 150.976282,
     "end_time": "2023-09-25T14:00:24.281878",
     "exception": false,
     "start_time": "2023-09-25T13:57:53.305596",
     "status": "completed"
    },
    "tags": []
   },
   "outputs": [
    {
     "data": {
      "text/html": [
       "\n",
       "    <div>\n",
       "      \n",
       "      <progress value='2720' max='2720' style='width:300px; height:20px; vertical-align: middle;'></progress>\n",
       "      [2720/2720 02:30, Epoch 20/20]\n",
       "    </div>\n",
       "    <table border=\"1\" class=\"dataframe\">\n",
       "  <thead>\n",
       " <tr style=\"text-align: left;\">\n",
       "      <th>Epoch</th>\n",
       "      <th>Training Loss</th>\n",
       "      <th>Validation Loss</th>\n",
       "      <th>Precision</th>\n",
       "      <th>Recall</th>\n",
       "      <th>F1</th>\n",
       "      <th>Accuracy</th>\n",
       "    </tr>\n",
       "  </thead>\n",
       "  <tbody>\n",
       "    <tr>\n",
       "      <td>1</td>\n",
       "      <td>No log</td>\n",
       "      <td>0.717055</td>\n",
       "      <td>0.820513</td>\n",
       "      <td>0.038977</td>\n",
       "      <td>0.074419</td>\n",
       "      <td>0.822885</td>\n",
       "    </tr>\n",
       "    <tr>\n",
       "      <td>2</td>\n",
       "      <td>No log</td>\n",
       "      <td>0.629035</td>\n",
       "      <td>0.573109</td>\n",
       "      <td>0.207674</td>\n",
       "      <td>0.304873</td>\n",
       "      <td>0.841107</td>\n",
       "    </tr>\n",
       "    <tr>\n",
       "      <td>3</td>\n",
       "      <td>No log</td>\n",
       "      <td>0.569805</td>\n",
       "      <td>0.573317</td>\n",
       "      <td>0.290499</td>\n",
       "      <td>0.385610</td>\n",
       "      <td>0.851387</td>\n",
       "    </tr>\n",
       "    <tr>\n",
       "      <td>4</td>\n",
       "      <td>0.615300</td>\n",
       "      <td>0.533208</td>\n",
       "      <td>0.556279</td>\n",
       "      <td>0.364190</td>\n",
       "      <td>0.440191</td>\n",
       "      <td>0.859746</td>\n",
       "    </tr>\n",
       "    <tr>\n",
       "      <td>5</td>\n",
       "      <td>0.615300</td>\n",
       "      <td>0.501788</td>\n",
       "      <td>0.528667</td>\n",
       "      <td>0.432400</td>\n",
       "      <td>0.475712</td>\n",
       "      <td>0.865095</td>\n",
       "    </tr>\n",
       "    <tr>\n",
       "      <td>6</td>\n",
       "      <td>0.615300</td>\n",
       "      <td>0.480193</td>\n",
       "      <td>0.560831</td>\n",
       "      <td>0.460414</td>\n",
       "      <td>0.505686</td>\n",
       "      <td>0.870528</td>\n",
       "    </tr>\n",
       "    <tr>\n",
       "      <td>7</td>\n",
       "      <td>0.615300</td>\n",
       "      <td>0.464430</td>\n",
       "      <td>0.564413</td>\n",
       "      <td>0.482948</td>\n",
       "      <td>0.520512</td>\n",
       "      <td>0.873036</td>\n",
       "    </tr>\n",
       "    <tr>\n",
       "      <td>8</td>\n",
       "      <td>0.428100</td>\n",
       "      <td>0.453347</td>\n",
       "      <td>0.589091</td>\n",
       "      <td>0.493301</td>\n",
       "      <td>0.536957</td>\n",
       "      <td>0.876463</td>\n",
       "    </tr>\n",
       "    <tr>\n",
       "      <td>9</td>\n",
       "      <td>0.428100</td>\n",
       "      <td>0.441357</td>\n",
       "      <td>0.573549</td>\n",
       "      <td>0.517661</td>\n",
       "      <td>0.544174</td>\n",
       "      <td>0.878051</td>\n",
       "    </tr>\n",
       "    <tr>\n",
       "      <td>10</td>\n",
       "      <td>0.428100</td>\n",
       "      <td>0.431835</td>\n",
       "      <td>0.590631</td>\n",
       "      <td>0.529842</td>\n",
       "      <td>0.558587</td>\n",
       "      <td>0.880726</td>\n",
       "    </tr>\n",
       "    <tr>\n",
       "      <td>11</td>\n",
       "      <td>0.428100</td>\n",
       "      <td>0.423870</td>\n",
       "      <td>0.587690</td>\n",
       "      <td>0.540804</td>\n",
       "      <td>0.563273</td>\n",
       "      <td>0.881729</td>\n",
       "    </tr>\n",
       "    <tr>\n",
       "      <td>12</td>\n",
       "      <td>0.372300</td>\n",
       "      <td>0.418259</td>\n",
       "      <td>0.593523</td>\n",
       "      <td>0.546894</td>\n",
       "      <td>0.569255</td>\n",
       "      <td>0.882732</td>\n",
       "    </tr>\n",
       "    <tr>\n",
       "      <td>13</td>\n",
       "      <td>0.372300</td>\n",
       "      <td>0.412899</td>\n",
       "      <td>0.598545</td>\n",
       "      <td>0.551157</td>\n",
       "      <td>0.573874</td>\n",
       "      <td>0.884403</td>\n",
       "    </tr>\n",
       "    <tr>\n",
       "      <td>14</td>\n",
       "      <td>0.372300</td>\n",
       "      <td>0.408299</td>\n",
       "      <td>0.595593</td>\n",
       "      <td>0.559683</td>\n",
       "      <td>0.577080</td>\n",
       "      <td>0.884905</td>\n",
       "    </tr>\n",
       "    <tr>\n",
       "      <td>15</td>\n",
       "      <td>0.340900</td>\n",
       "      <td>0.404763</td>\n",
       "      <td>0.601435</td>\n",
       "      <td>0.561510</td>\n",
       "      <td>0.580787</td>\n",
       "      <td>0.885657</td>\n",
       "    </tr>\n",
       "    <tr>\n",
       "      <td>16</td>\n",
       "      <td>0.340900</td>\n",
       "      <td>0.400277</td>\n",
       "      <td>0.592221</td>\n",
       "      <td>0.574909</td>\n",
       "      <td>0.583436</td>\n",
       "      <td>0.886660</td>\n",
       "    </tr>\n",
       "    <tr>\n",
       "      <td>17</td>\n",
       "      <td>0.340900</td>\n",
       "      <td>0.398220</td>\n",
       "      <td>0.586164</td>\n",
       "      <td>0.577954</td>\n",
       "      <td>0.582030</td>\n",
       "      <td>0.886158</td>\n",
       "    </tr>\n",
       "    <tr>\n",
       "      <td>18</td>\n",
       "      <td>0.340900</td>\n",
       "      <td>0.396798</td>\n",
       "      <td>0.598237</td>\n",
       "      <td>0.578563</td>\n",
       "      <td>0.588235</td>\n",
       "      <td>0.887329</td>\n",
       "    </tr>\n",
       "    <tr>\n",
       "      <td>19</td>\n",
       "      <td>0.325200</td>\n",
       "      <td>0.395866</td>\n",
       "      <td>0.597362</td>\n",
       "      <td>0.579172</td>\n",
       "      <td>0.588126</td>\n",
       "      <td>0.887412</td>\n",
       "    </tr>\n",
       "    <tr>\n",
       "      <td>20</td>\n",
       "      <td>0.325200</td>\n",
       "      <td>0.395809</td>\n",
       "      <td>0.597607</td>\n",
       "      <td>0.577954</td>\n",
       "      <td>0.587616</td>\n",
       "      <td>0.887412</td>\n",
       "    </tr>\n",
       "  </tbody>\n",
       "</table><p>"
      ],
      "text/plain": [
       "<IPython.core.display.HTML object>"
      ]
     },
     "metadata": {},
     "output_type": "display_data"
    },
    {
     "data": {
      "text/plain": [
       "TrainOutput(global_step=2720, training_loss=0.40825541440178365, metrics={'train_runtime': 150.6016, 'train_samples_per_second': 574.761, 'train_steps_per_second': 18.061, 'total_flos': 95941710795840.0, 'train_loss': 0.40825541440178365, 'epoch': 20.0})"
      ]
     },
     "execution_count": 41,
     "metadata": {},
     "output_type": "execute_result"
    }
   ],
   "source": [
    "trainer.train()"
   ]
  },
  {
   "cell_type": "code",
   "execution_count": 42,
   "id": "b7718928",
   "metadata": {
    "execution": {
     "iopub.execute_input": "2023-09-25T14:00:24.389908Z",
     "iopub.status.busy": "2023-09-25T14:00:24.388916Z",
     "iopub.status.idle": "2023-09-25T14:00:25.305303Z",
     "shell.execute_reply": "2023-09-25T14:00:25.304264Z"
    },
    "id": "UOUcBkX8IrJi",
    "outputId": "38714037-dd51-4a4a-b78e-e2dfb823f790",
    "papermill": {
     "duration": 0.946333,
     "end_time": "2023-09-25T14:00:25.307371",
     "exception": false,
     "start_time": "2023-09-25T14:00:24.361038",
     "status": "completed"
    },
    "tags": []
   },
   "outputs": [
    {
     "data": {
      "text/html": [],
      "text/plain": [
       "<IPython.core.display.HTML object>"
      ]
     },
     "metadata": {},
     "output_type": "display_data"
    },
    {
     "data": {
      "text/plain": [
       "{'eval_loss': 0.3958091139793396,\n",
       " 'eval_precision': 0.5976070528967254,\n",
       " 'eval_recall': 0.5779537149817296,\n",
       " 'eval_f1': 0.5876160990712075,\n",
       " 'eval_accuracy': 0.8874122367101304,\n",
       " 'eval_runtime': 0.9065,\n",
       " 'eval_samples_per_second': 530.639,\n",
       " 'eval_steps_per_second': 17.651,\n",
       " 'epoch': 20.0}"
      ]
     },
     "execution_count": 42,
     "metadata": {},
     "output_type": "execute_result"
    }
   ],
   "source": [
    "trainer.evaluate()"
   ]
  },
  {
   "cell_type": "code",
   "execution_count": 43,
   "id": "a550fdd9",
   "metadata": {
    "execution": {
     "iopub.execute_input": "2023-09-25T14:00:25.415025Z",
     "iopub.status.busy": "2023-09-25T14:00:25.413972Z",
     "iopub.status.idle": "2023-09-25T14:00:26.930614Z",
     "shell.execute_reply": "2023-09-25T14:00:26.929655Z"
    },
    "id": "wm8MsZ3tsJBO",
    "outputId": "bd45bf7a-1482-4685-aa60-b49f3137a5d3",
    "papermill": {
     "duration": 1.546602,
     "end_time": "2023-09-25T14:00:26.933437",
     "exception": false,
     "start_time": "2023-09-25T14:00:25.386835",
     "status": "completed"
    },
    "tags": []
   },
   "outputs": [
    {
     "data": {
      "text/plain": [
       "{'ADR': {'precision': 0.35353535353535354,\n",
       "  'recall': 0.1320754716981132,\n",
       "  'f1': 0.19230769230769232,\n",
       "  'number': 265},\n",
       " 'DI': {'precision': 0.3864353312302839,\n",
       "  'recall': 0.5372807017543859,\n",
       "  'f1': 0.44954128440366964,\n",
       "  'number': 456},\n",
       " 'Drugclass': {'precision': 0.8187919463087249,\n",
       "  'recall': 0.7577639751552795,\n",
       "  'f1': 0.7870967741935484,\n",
       "  'number': 161},\n",
       " 'Drugform': {'precision': 0.8204081632653061,\n",
       "  'recall': 0.7528089887640449,\n",
       "  'f1': 0.78515625,\n",
       "  'number': 267},\n",
       " 'Drugname': {'precision': 0.7505422993492408,\n",
       "  'recall': 0.8628428927680798,\n",
       "  'f1': 0.8027842227378189,\n",
       "  'number': 401},\n",
       " 'Finding': {'precision': 0.0, 'recall': 0.0, 'f1': 0.0, 'number': 92},\n",
       " 'overall_precision': 0.5976070528967254,\n",
       " 'overall_recall': 0.5779537149817296,\n",
       " 'overall_f1': 0.5876160990712075,\n",
       " 'overall_accuracy': 0.8874122367101304}"
      ]
     },
     "execution_count": 43,
     "metadata": {},
     "output_type": "execute_result"
    }
   ],
   "source": [
    "predictions, labels, _ = trainer.predict(tokenized_datasets[\"test\"])\n",
    "predictions = np.argmax(predictions, axis=2)\n",
    "\n",
    "true_predictions = [\n",
    "    [label_list[p] for (p, l) in zip(prediction, label) if l != -100]\n",
    "    for prediction, label in zip(predictions, labels)\n",
    "]\n",
    "true_labels = [\n",
    "    [label_list[l] for (p, l) in zip(prediction, label) if l != -100]\n",
    "    for prediction, label in zip(predictions, labels)\n",
    "]\n",
    "\n",
    "results = metric.compute(predictions=true_predictions, references=true_labels)\n",
    "results"
   ]
  },
  {
   "cell_type": "code",
   "execution_count": 44,
   "id": "d48380a4",
   "metadata": {
    "execution": {
     "iopub.execute_input": "2023-09-25T14:00:27.013528Z",
     "iopub.status.busy": "2023-09-25T14:00:27.013004Z",
     "iopub.status.idle": "2023-09-25T14:00:27.162898Z",
     "shell.execute_reply": "2023-09-25T14:00:27.161975Z"
    },
    "id": "Yz9BkfrO7bg6",
    "outputId": "93f0db82-c49b-43b3-9adf-bb8fa4f56f4b",
    "papermill": {
     "duration": 0.191756,
     "end_time": "2023-09-25T14:00:27.165936",
     "exception": false,
     "start_time": "2023-09-25T14:00:26.974180",
     "status": "completed"
    },
    "tags": []
   },
   "outputs": [
    {
     "data": {
      "text/html": [
       "<div>\n",
       "<style scoped>\n",
       "    .dataframe tbody tr th:only-of-type {\n",
       "        vertical-align: middle;\n",
       "    }\n",
       "\n",
       "    .dataframe tbody tr th {\n",
       "        vertical-align: top;\n",
       "    }\n",
       "\n",
       "    .dataframe thead th {\n",
       "        text-align: right;\n",
       "    }\n",
       "</style>\n",
       "<table border=\"1\" class=\"dataframe\">\n",
       "  <thead>\n",
       "    <tr style=\"text-align: right;\">\n",
       "      <th></th>\n",
       "      <th>O</th>\n",
       "      <th>B-ADR</th>\n",
       "      <th>B-DI</th>\n",
       "      <th>B-Drugclass</th>\n",
       "      <th>B-Drugform</th>\n",
       "      <th>B-Drugname</th>\n",
       "      <th>B-Finding</th>\n",
       "      <th>I-ADR</th>\n",
       "      <th>I-DI</th>\n",
       "      <th>I-Drugclass</th>\n",
       "      <th>I-Drugform</th>\n",
       "      <th>I-Drugname</th>\n",
       "      <th>I-Finding</th>\n",
       "    </tr>\n",
       "  </thead>\n",
       "  <tbody>\n",
       "    <tr>\n",
       "      <th>O</th>\n",
       "      <td>9621</td>\n",
       "      <td>8</td>\n",
       "      <td>75</td>\n",
       "      <td>8</td>\n",
       "      <td>21</td>\n",
       "      <td>52</td>\n",
       "      <td>0</td>\n",
       "      <td>1</td>\n",
       "      <td>5</td>\n",
       "      <td>0</td>\n",
       "      <td>0</td>\n",
       "      <td>0</td>\n",
       "      <td>0</td>\n",
       "    </tr>\n",
       "    <tr>\n",
       "      <th>B-ADR</th>\n",
       "      <td>101</td>\n",
       "      <td>44</td>\n",
       "      <td>115</td>\n",
       "      <td>4</td>\n",
       "      <td>1</td>\n",
       "      <td>0</td>\n",
       "      <td>0</td>\n",
       "      <td>0</td>\n",
       "      <td>0</td>\n",
       "      <td>0</td>\n",
       "      <td>0</td>\n",
       "      <td>0</td>\n",
       "      <td>0</td>\n",
       "    </tr>\n",
       "    <tr>\n",
       "      <th>B-DI</th>\n",
       "      <td>168</td>\n",
       "      <td>1</td>\n",
       "      <td>265</td>\n",
       "      <td>3</td>\n",
       "      <td>12</td>\n",
       "      <td>6</td>\n",
       "      <td>0</td>\n",
       "      <td>0</td>\n",
       "      <td>1</td>\n",
       "      <td>0</td>\n",
       "      <td>0</td>\n",
       "      <td>0</td>\n",
       "      <td>0</td>\n",
       "    </tr>\n",
       "    <tr>\n",
       "      <th>B-Drugclass</th>\n",
       "      <td>27</td>\n",
       "      <td>1</td>\n",
       "      <td>6</td>\n",
       "      <td>122</td>\n",
       "      <td>0</td>\n",
       "      <td>5</td>\n",
       "      <td>0</td>\n",
       "      <td>0</td>\n",
       "      <td>0</td>\n",
       "      <td>0</td>\n",
       "      <td>0</td>\n",
       "      <td>0</td>\n",
       "      <td>0</td>\n",
       "    </tr>\n",
       "    <tr>\n",
       "      <th>B-Drugform</th>\n",
       "      <td>58</td>\n",
       "      <td>0</td>\n",
       "      <td>1</td>\n",
       "      <td>0</td>\n",
       "      <td>202</td>\n",
       "      <td>6</td>\n",
       "      <td>0</td>\n",
       "      <td>0</td>\n",
       "      <td>0</td>\n",
       "      <td>0</td>\n",
       "      <td>0</td>\n",
       "      <td>0</td>\n",
       "      <td>0</td>\n",
       "    </tr>\n",
       "    <tr>\n",
       "      <th>B-Drugname</th>\n",
       "      <td>22</td>\n",
       "      <td>0</td>\n",
       "      <td>15</td>\n",
       "      <td>3</td>\n",
       "      <td>6</td>\n",
       "      <td>355</td>\n",
       "      <td>0</td>\n",
       "      <td>0</td>\n",
       "      <td>0</td>\n",
       "      <td>0</td>\n",
       "      <td>0</td>\n",
       "      <td>0</td>\n",
       "      <td>0</td>\n",
       "    </tr>\n",
       "    <tr>\n",
       "      <th>B-Finding</th>\n",
       "      <td>25</td>\n",
       "      <td>12</td>\n",
       "      <td>48</td>\n",
       "      <td>1</td>\n",
       "      <td>2</td>\n",
       "      <td>3</td>\n",
       "      <td>0</td>\n",
       "      <td>0</td>\n",
       "      <td>1</td>\n",
       "      <td>0</td>\n",
       "      <td>0</td>\n",
       "      <td>0</td>\n",
       "      <td>0</td>\n",
       "    </tr>\n",
       "    <tr>\n",
       "      <th>I-ADR</th>\n",
       "      <td>134</td>\n",
       "      <td>21</td>\n",
       "      <td>34</td>\n",
       "      <td>0</td>\n",
       "      <td>1</td>\n",
       "      <td>2</td>\n",
       "      <td>0</td>\n",
       "      <td>2</td>\n",
       "      <td>8</td>\n",
       "      <td>0</td>\n",
       "      <td>0</td>\n",
       "      <td>0</td>\n",
       "      <td>0</td>\n",
       "    </tr>\n",
       "    <tr>\n",
       "      <th>I-DI</th>\n",
       "      <td>171</td>\n",
       "      <td>8</td>\n",
       "      <td>61</td>\n",
       "      <td>3</td>\n",
       "      <td>0</td>\n",
       "      <td>3</td>\n",
       "      <td>0</td>\n",
       "      <td>0</td>\n",
       "      <td>6</td>\n",
       "      <td>0</td>\n",
       "      <td>0</td>\n",
       "      <td>0</td>\n",
       "      <td>0</td>\n",
       "    </tr>\n",
       "    <tr>\n",
       "      <th>I-Drugclass</th>\n",
       "      <td>0</td>\n",
       "      <td>0</td>\n",
       "      <td>0</td>\n",
       "      <td>0</td>\n",
       "      <td>0</td>\n",
       "      <td>0</td>\n",
       "      <td>0</td>\n",
       "      <td>0</td>\n",
       "      <td>0</td>\n",
       "      <td>0</td>\n",
       "      <td>0</td>\n",
       "      <td>0</td>\n",
       "      <td>0</td>\n",
       "    </tr>\n",
       "    <tr>\n",
       "      <th>I-Drugform</th>\n",
       "      <td>2</td>\n",
       "      <td>0</td>\n",
       "      <td>0</td>\n",
       "      <td>0</td>\n",
       "      <td>0</td>\n",
       "      <td>1</td>\n",
       "      <td>0</td>\n",
       "      <td>0</td>\n",
       "      <td>0</td>\n",
       "      <td>0</td>\n",
       "      <td>0</td>\n",
       "      <td>0</td>\n",
       "      <td>0</td>\n",
       "    </tr>\n",
       "    <tr>\n",
       "      <th>I-Drugname</th>\n",
       "      <td>12</td>\n",
       "      <td>0</td>\n",
       "      <td>0</td>\n",
       "      <td>0</td>\n",
       "      <td>0</td>\n",
       "      <td>26</td>\n",
       "      <td>0</td>\n",
       "      <td>0</td>\n",
       "      <td>0</td>\n",
       "      <td>0</td>\n",
       "      <td>0</td>\n",
       "      <td>0</td>\n",
       "      <td>0</td>\n",
       "    </tr>\n",
       "    <tr>\n",
       "      <th>I-Finding</th>\n",
       "      <td>21</td>\n",
       "      <td>3</td>\n",
       "      <td>3</td>\n",
       "      <td>5</td>\n",
       "      <td>0</td>\n",
       "      <td>2</td>\n",
       "      <td>0</td>\n",
       "      <td>0</td>\n",
       "      <td>2</td>\n",
       "      <td>0</td>\n",
       "      <td>0</td>\n",
       "      <td>0</td>\n",
       "      <td>0</td>\n",
       "    </tr>\n",
       "  </tbody>\n",
       "</table>\n",
       "</div>"
      ],
      "text/plain": [
       "                O  B-ADR  B-DI  B-Drugclass  B-Drugform  B-Drugname  \\\n",
       "O            9621      8    75            8          21          52   \n",
       "B-ADR         101     44   115            4           1           0   \n",
       "B-DI          168      1   265            3          12           6   \n",
       "B-Drugclass    27      1     6          122           0           5   \n",
       "B-Drugform     58      0     1            0         202           6   \n",
       "B-Drugname     22      0    15            3           6         355   \n",
       "B-Finding      25     12    48            1           2           3   \n",
       "I-ADR         134     21    34            0           1           2   \n",
       "I-DI          171      8    61            3           0           3   \n",
       "I-Drugclass     0      0     0            0           0           0   \n",
       "I-Drugform      2      0     0            0           0           1   \n",
       "I-Drugname     12      0     0            0           0          26   \n",
       "I-Finding      21      3     3            5           0           2   \n",
       "\n",
       "             B-Finding  I-ADR  I-DI  I-Drugclass  I-Drugform  I-Drugname  \\\n",
       "O                    0      1     5            0           0           0   \n",
       "B-ADR                0      0     0            0           0           0   \n",
       "B-DI                 0      0     1            0           0           0   \n",
       "B-Drugclass          0      0     0            0           0           0   \n",
       "B-Drugform           0      0     0            0           0           0   \n",
       "B-Drugname           0      0     0            0           0           0   \n",
       "B-Finding            0      0     1            0           0           0   \n",
       "I-ADR                0      2     8            0           0           0   \n",
       "I-DI                 0      0     6            0           0           0   \n",
       "I-Drugclass          0      0     0            0           0           0   \n",
       "I-Drugform           0      0     0            0           0           0   \n",
       "I-Drugname           0      0     0            0           0           0   \n",
       "I-Finding            0      0     2            0           0           0   \n",
       "\n",
       "             I-Finding  \n",
       "O                    0  \n",
       "B-ADR                0  \n",
       "B-DI                 0  \n",
       "B-Drugclass          0  \n",
       "B-Drugform           0  \n",
       "B-Drugname           0  \n",
       "B-Finding            0  \n",
       "I-ADR                0  \n",
       "I-DI                 0  \n",
       "I-Drugclass          0  \n",
       "I-Drugform           0  \n",
       "I-Drugname           0  \n",
       "I-Finding            0  "
      ]
     },
     "execution_count": 44,
     "metadata": {},
     "output_type": "execute_result"
    }
   ],
   "source": [
    "cm = pd.DataFrame(\n",
    "    confusion_matrix(sum(true_labels, []), sum(true_predictions, []), labels=label_list),\n",
    "    index=label_list,\n",
    "    columns=label_list\n",
    ")\n",
    "cm"
   ]
  },
  {
   "cell_type": "code",
   "execution_count": 45,
   "id": "e0e0fd36",
   "metadata": {
    "execution": {
     "iopub.execute_input": "2023-09-25T14:00:27.247597Z",
     "iopub.status.busy": "2023-09-25T14:00:27.247087Z",
     "iopub.status.idle": "2023-09-25T14:00:27.458700Z",
     "shell.execute_reply": "2023-09-25T14:00:27.457759Z"
    },
    "id": "cA0jWZwjVbI7",
    "outputId": "5b322146-0300-43b3-a985-283a6e5969e3",
    "papermill": {
     "duration": 0.254984,
     "end_time": "2023-09-25T14:00:27.461640",
     "exception": false,
     "start_time": "2023-09-25T14:00:27.206656",
     "status": "completed"
    },
    "tags": []
   },
   "outputs": [
    {
     "data": {
      "text/plain": [
       "('ner_bert.bin/tokenizer_config.json',\n",
       " 'ner_bert.bin/special_tokens_map.json',\n",
       " 'ner_bert.bin/vocab.txt',\n",
       " 'ner_bert.bin/added_tokens.json',\n",
       " 'ner_bert.bin/tokenizer.json')"
      ]
     },
     "execution_count": 45,
     "metadata": {},
     "output_type": "execute_result"
    }
   ],
   "source": [
    "model.save_pretrained('ner_bert.bin')\n",
    "tokenizer.save_pretrained('ner_bert.bin')"
   ]
  },
  {
   "cell_type": "markdown",
   "id": "af46d73f",
   "metadata": {
    "id": "C5yv9hItsJBP",
    "papermill": {
     "duration": 0.039576,
     "end_time": "2023-09-25T14:00:27.543314",
     "exception": false,
     "start_time": "2023-09-25T14:00:27.503738",
     "status": "completed"
    },
    "tags": []
   },
   "source": [
    "#### Применение модели"
   ]
  },
  {
   "cell_type": "code",
   "execution_count": 46,
   "id": "f589af3f",
   "metadata": {
    "execution": {
     "iopub.execute_input": "2023-09-25T14:00:27.621449Z",
     "iopub.status.busy": "2023-09-25T14:00:27.620934Z",
     "iopub.status.idle": "2023-09-25T14:00:27.627853Z",
     "shell.execute_reply": "2023-09-25T14:00:27.627044Z"
    },
    "id": "Kp59uTtXZKT4",
    "outputId": "28b85200-ab6e-45d1-ca61-33c87c0b111f",
    "papermill": {
     "duration": 0.05155,
     "end_time": "2023-09-25T14:00:27.633139",
     "exception": false,
     "start_time": "2023-09-25T14:00:27.581589",
     "status": "completed"
    },
    "tags": []
   },
   "outputs": [
    {
     "data": {
      "text/plain": [
       "'К сожалению хочу сказать , что при действительно серьезных проблемах с нервной системой она оказалась бесполезной , все равно что \" мертвому припарка \" .'"
      ]
     },
     "execution_count": 46,
     "metadata": {},
     "output_type": "execute_result"
    }
   ],
   "source": [
    "text = ' '.join(ner_test[10]['tokens'])\n",
    "text"
   ]
  },
  {
   "cell_type": "code",
   "execution_count": 47,
   "id": "699441b0",
   "metadata": {
    "execution": {
     "iopub.execute_input": "2023-09-25T14:00:27.712861Z",
     "iopub.status.busy": "2023-09-25T14:00:27.712411Z",
     "iopub.status.idle": "2023-09-25T14:00:27.730901Z",
     "shell.execute_reply": "2023-09-25T14:00:27.730108Z"
    },
    "id": "Yt8EXbDuuB1U",
    "outputId": "f9d88c2a-85a5-42b6-e7ab-056fc728429d",
    "papermill": {
     "duration": 0.05994,
     "end_time": "2023-09-25T14:00:27.733410",
     "exception": false,
     "start_time": "2023-09-25T14:00:27.673470",
     "status": "completed"
    },
    "tags": []
   },
   "outputs": [
    {
     "data": {
      "text/plain": [
       "torch.Size([1, 52, 13])"
      ]
     },
     "execution_count": 47,
     "metadata": {},
     "output_type": "execute_result"
    }
   ],
   "source": [
    "tokens = tokenizer(text, return_tensors='pt')\n",
    "tokens = {k: v.to(model.device) for k, v in tokens.items()}\n",
    "\n",
    "with torch.no_grad():\n",
    "    pred = model(**tokens)\n",
    "pred.logits.shape"
   ]
  },
  {
   "cell_type": "code",
   "execution_count": 48,
   "id": "7d420e1c",
   "metadata": {
    "execution": {
     "iopub.execute_input": "2023-09-25T14:00:27.811581Z",
     "iopub.status.busy": "2023-09-25T14:00:27.811131Z",
     "iopub.status.idle": "2023-09-25T14:00:27.823177Z",
     "shell.execute_reply": "2023-09-25T14:00:27.821689Z"
    },
    "id": "2GQPlbnyuu6H",
    "outputId": "d3491b9d-1af6-4e53-b289-138691a6db3c",
    "papermill": {
     "duration": 0.054186,
     "end_time": "2023-09-25T14:00:27.826122",
     "exception": false,
     "start_time": "2023-09-25T14:00:27.771936",
     "status": "completed"
    },
    "tags": []
   },
   "outputs": [
    {
     "name": "stdout",
     "output_type": "stream",
     "text": [
      "[CLS]           O         \n",
      "К               O         \n",
      "со              O         \n",
      "##жал           O         \n",
      "##ению          O         \n",
      "х               O         \n",
      "##очу           O         \n",
      "с               O         \n",
      "##каз           O         \n",
      "##ать           O         \n",
      ",               O         \n",
      "что             O         \n",
      "при             O         \n",
      "дей             O         \n",
      "##ств           O         \n",
      "##итель         O         \n",
      "##но            O         \n",
      "се              O         \n",
      "##рь            O         \n",
      "##ез            O         \n",
      "##ных           O         \n",
      "проблема        O         \n",
      "##х             O         \n",
      "с               O         \n",
      "не              B-DI      \n",
      "##рв            B-DI      \n",
      "##ной           B-DI      \n",
      "систем          O         \n",
      "##ой            O         \n",
      "она             O         \n",
      "оказалась       O         \n",
      "б               O         \n",
      "##ес            O         \n",
      "##по            O         \n",
      "##ле            O         \n",
      "##зно           O         \n",
      "##й             O         \n",
      ",               O         \n",
      "все             O         \n",
      "равно           O         \n",
      "что             O         \n",
      "\"               O         \n",
      "м               O         \n",
      "##ерт           O         \n",
      "##вом           O         \n",
      "##у             O         \n",
      "при             O         \n",
      "##пар           O         \n",
      "##ка            O         \n",
      "\"               O         \n",
      ".               O         \n",
      "[SEP]           O         \n"
     ]
    }
   ],
   "source": [
    "indices = pred.logits.argmax(dim=-1)[0].cpu().numpy()\n",
    "token_text = tokenizer.convert_ids_to_tokens(tokens['input_ids'][0])\n",
    "for t, idx in zip(token_text, indices):\n",
    "    print(f'{t:15s} {label_list[idx]:10s}')"
   ]
  },
  {
   "cell_type": "markdown",
   "id": "677623c8",
   "metadata": {
    "id": "tBSq9enuwJ_V",
    "papermill": {
     "duration": 0.0376,
     "end_time": "2023-09-25T14:00:27.902245",
     "exception": false,
     "start_time": "2023-09-25T14:00:27.864645",
     "status": "completed"
    },
    "tags": []
   },
   "source": [
    "Более простое применение модели: пайплайн от huggingface"
   ]
  },
  {
   "cell_type": "code",
   "execution_count": 49,
   "id": "a125958c",
   "metadata": {
    "execution": {
     "iopub.execute_input": "2023-09-25T14:00:27.983518Z",
     "iopub.status.busy": "2023-09-25T14:00:27.983013Z",
     "iopub.status.idle": "2023-09-25T14:00:27.991249Z",
     "shell.execute_reply": "2023-09-25T14:00:27.990427Z"
    },
    "id": "uowfISMu8v1k",
    "papermill": {
     "duration": 0.053091,
     "end_time": "2023-09-25T14:00:27.994072",
     "exception": false,
     "start_time": "2023-09-25T14:00:27.940981",
     "status": "completed"
    },
    "tags": []
   },
   "outputs": [],
   "source": [
    "pipe = pipeline(model=model, tokenizer=tokenizer, task='ner', aggregation_strategy='average', device=0)"
   ]
  },
  {
   "cell_type": "code",
   "execution_count": 50,
   "id": "31dab085",
   "metadata": {
    "execution": {
     "iopub.execute_input": "2023-09-25T14:00:28.072561Z",
     "iopub.status.busy": "2023-09-25T14:00:28.072084Z",
     "iopub.status.idle": "2023-09-25T14:00:28.095092Z",
     "shell.execute_reply": "2023-09-25T14:00:28.094246Z"
    },
    "id": "1WjXMXCv9Nde",
    "outputId": "e2b4f6d6-6153-4bbd-915d-a3bc4d148895",
    "papermill": {
     "duration": 0.065158,
     "end_time": "2023-09-25T14:00:28.097706",
     "exception": false,
     "start_time": "2023-09-25T14:00:28.032548",
     "status": "completed"
    },
    "tags": []
   },
   "outputs": [
    {
     "name": "stdout",
     "output_type": "stream",
     "text": [
      "К сожалению хочу сказать , что при действительно серьезных проблемах с нервной системой она оказалась бесполезной , все равно что \" мертвому припарка \" .\n",
      "[{'entity_group': 'DI', 'score': 0.32064527, 'word': 'нервной', 'start': 71, 'end': 78}]\n"
     ]
    }
   ],
   "source": [
    "print(text)\n",
    "print(pipe(text))"
   ]
  },
  {
   "cell_type": "code",
   "execution_count": null,
   "id": "e88f5392",
   "metadata": {
    "id": "panjTvbH9PJL",
    "papermill": {
     "duration": 0.041039,
     "end_time": "2023-09-25T14:00:28.181817",
     "exception": false,
     "start_time": "2023-09-25T14:00:28.140778",
     "status": "completed"
    },
    "tags": []
   },
   "outputs": [],
   "source": []
  }
 ],
 "metadata": {
  "kernelspec": {
   "display_name": "Python 3",
   "language": "python",
   "name": "python3"
  },
  "language_info": {
   "codemirror_mode": {
    "name": "ipython",
    "version": 3
   },
   "file_extension": ".py",
   "mimetype": "text/x-python",
   "name": "python",
   "nbconvert_exporter": "python",
   "pygments_lexer": "ipython3",
   "version": "3.11.4"
  },
  "papermill": {
   "default_parameters": {},
   "duration": 309.565135,
   "end_time": "2023-09-25T14:00:31.389166",
   "environment_variables": {},
   "exception": null,
   "input_path": "__notebook__.ipynb",
   "output_path": "__notebook__.ipynb",
   "parameters": {},
   "start_time": "2023-09-25T13:55:21.824031",
   "version": "2.4.0"
  },
  "widgets": {
   "application/vnd.jupyter.widget-state+json": {
    "state": {
     "02a0489fbe86495199b14c2cdcd1b192": {
      "model_module": "@jupyter-widgets/base",
      "model_module_version": "1.2.0",
      "model_name": "LayoutModel",
      "state": {
       "_model_module": "@jupyter-widgets/base",
       "_model_module_version": "1.2.0",
       "_model_name": "LayoutModel",
       "_view_count": null,
       "_view_module": "@jupyter-widgets/base",
       "_view_module_version": "1.2.0",
       "_view_name": "LayoutView",
       "align_content": null,
       "align_items": null,
       "align_self": null,
       "border": null,
       "bottom": null,
       "display": null,
       "flex": null,
       "flex_flow": null,
       "grid_area": null,
       "grid_auto_columns": null,
       "grid_auto_flow": null,
       "grid_auto_rows": null,
       "grid_column": null,
       "grid_gap": null,
       "grid_row": null,
       "grid_template_areas": null,
       "grid_template_columns": null,
       "grid_template_rows": null,
       "height": null,
       "justify_content": null,
       "justify_items": null,
       "left": null,
       "margin": null,
       "max_height": null,
       "max_width": null,
       "min_height": null,
       "min_width": null,
       "object_fit": null,
       "object_position": null,
       "order": null,
       "overflow": null,
       "overflow_x": null,
       "overflow_y": null,
       "padding": null,
       "right": null,
       "top": null,
       "visibility": null,
       "width": null
      }
     },
     "0339794887bf4bdfab8acfaa157d5be4": {
      "model_module": "@jupyter-widgets/controls",
      "model_module_version": "1.5.0",
      "model_name": "HBoxModel",
      "state": {
       "_dom_classes": [],
       "_model_module": "@jupyter-widgets/controls",
       "_model_module_version": "1.5.0",
       "_model_name": "HBoxModel",
       "_view_count": null,
       "_view_module": "@jupyter-widgets/controls",
       "_view_module_version": "1.5.0",
       "_view_name": "HBoxView",
       "box_style": "",
       "children": [
        "IPY_MODEL_65856bf5d94e42949030df131e2fa31e",
        "IPY_MODEL_bf47a109f89c4505ab09547868151a11",
        "IPY_MODEL_412c80e047454039a34aa2aed25d99a4"
       ],
       "layout": "IPY_MODEL_a6ec39b6d0af476799ee780aeb7eecc9"
      }
     },
     "035f27e26bb842c6882ca40db120c720": {
      "model_module": "@jupyter-widgets/base",
      "model_module_version": "1.2.0",
      "model_name": "LayoutModel",
      "state": {
       "_model_module": "@jupyter-widgets/base",
       "_model_module_version": "1.2.0",
       "_model_name": "LayoutModel",
       "_view_count": null,
       "_view_module": "@jupyter-widgets/base",
       "_view_module_version": "1.2.0",
       "_view_name": "LayoutView",
       "align_content": null,
       "align_items": null,
       "align_self": null,
       "border": null,
       "bottom": null,
       "display": null,
       "flex": null,
       "flex_flow": null,
       "grid_area": null,
       "grid_auto_columns": null,
       "grid_auto_flow": null,
       "grid_auto_rows": null,
       "grid_column": null,
       "grid_gap": null,
       "grid_row": null,
       "grid_template_areas": null,
       "grid_template_columns": null,
       "grid_template_rows": null,
       "height": null,
       "justify_content": null,
       "justify_items": null,
       "left": null,
       "margin": null,
       "max_height": null,
       "max_width": null,
       "min_height": null,
       "min_width": null,
       "object_fit": null,
       "object_position": null,
       "order": null,
       "overflow": null,
       "overflow_x": null,
       "overflow_y": null,
       "padding": null,
       "right": null,
       "top": null,
       "visibility": null,
       "width": null
      }
     },
     "039b1037dd6d45f5a71ab00deb4954a2": {
      "model_module": "@jupyter-widgets/controls",
      "model_module_version": "1.5.0",
      "model_name": "DescriptionStyleModel",
      "state": {
       "_model_module": "@jupyter-widgets/controls",
       "_model_module_version": "1.5.0",
       "_model_name": "DescriptionStyleModel",
       "_view_count": null,
       "_view_module": "@jupyter-widgets/base",
       "_view_module_version": "1.2.0",
       "_view_name": "StyleView",
       "description_width": ""
      }
     },
     "03b0eeadbce4447aa04bf1cd4a430884": {
      "model_module": "@jupyter-widgets/controls",
      "model_module_version": "1.5.0",
      "model_name": "DescriptionStyleModel",
      "state": {
       "_model_module": "@jupyter-widgets/controls",
       "_model_module_version": "1.5.0",
       "_model_name": "DescriptionStyleModel",
       "_view_count": null,
       "_view_module": "@jupyter-widgets/base",
       "_view_module_version": "1.2.0",
       "_view_name": "StyleView",
       "description_width": ""
      }
     },
     "075ee8f3a82443f8884d29df4240d0a3": {
      "model_module": "@jupyter-widgets/base",
      "model_module_version": "1.2.0",
      "model_name": "LayoutModel",
      "state": {
       "_model_module": "@jupyter-widgets/base",
       "_model_module_version": "1.2.0",
       "_model_name": "LayoutModel",
       "_view_count": null,
       "_view_module": "@jupyter-widgets/base",
       "_view_module_version": "1.2.0",
       "_view_name": "LayoutView",
       "align_content": null,
       "align_items": null,
       "align_self": null,
       "border": null,
       "bottom": null,
       "display": null,
       "flex": null,
       "flex_flow": null,
       "grid_area": null,
       "grid_auto_columns": null,
       "grid_auto_flow": null,
       "grid_auto_rows": null,
       "grid_column": null,
       "grid_gap": null,
       "grid_row": null,
       "grid_template_areas": null,
       "grid_template_columns": null,
       "grid_template_rows": null,
       "height": null,
       "justify_content": null,
       "justify_items": null,
       "left": null,
       "margin": null,
       "max_height": null,
       "max_width": null,
       "min_height": null,
       "min_width": null,
       "object_fit": null,
       "object_position": null,
       "order": null,
       "overflow": null,
       "overflow_x": null,
       "overflow_y": null,
       "padding": null,
       "right": null,
       "top": null,
       "visibility": null,
       "width": null
      }
     },
     "0eb909a71518469e82eab4b1659fa3d0": {
      "model_module": "@jupyter-widgets/controls",
      "model_module_version": "1.5.0",
      "model_name": "HTMLModel",
      "state": {
       "_dom_classes": [],
       "_model_module": "@jupyter-widgets/controls",
       "_model_module_version": "1.5.0",
       "_model_name": "HTMLModel",
       "_view_count": null,
       "_view_module": "@jupyter-widgets/controls",
       "_view_module_version": "1.5.0",
       "_view_name": "HTMLView",
       "description": "",
       "description_tooltip": null,
       "layout": "IPY_MODEL_5ceee04f743241319fdd31e5606911cb",
       "placeholder": "​",
       "style": "IPY_MODEL_e0a19a0a31de46a9bdb434b2632af9fc",
       "value": " 6.33k/? [00:00&lt;00:00, 311kB/s]"
      }
     },
     "12e1fea41f5144fb8e6897bbe421ad64": {
      "model_module": "@jupyter-widgets/controls",
      "model_module_version": "1.5.0",
      "model_name": "HTMLModel",
      "state": {
       "_dom_classes": [],
       "_model_module": "@jupyter-widgets/controls",
       "_model_module_version": "1.5.0",
       "_model_name": "HTMLModel",
       "_view_count": null,
       "_view_module": "@jupyter-widgets/controls",
       "_view_module_version": "1.5.0",
       "_view_name": "HTMLView",
       "description": "",
       "description_tooltip": null,
       "layout": "IPY_MODEL_5e4e707d4d1144488194969164851ea5",
       "placeholder": "​",
       "style": "IPY_MODEL_3b1f76e3b0a04ba7818f0e9a189542b1",
       "value": "Downloading (…)lve/main/config.json: 100%"
      }
     },
     "16b201a8bd0547039578a3586444272f": {
      "model_module": "@jupyter-widgets/base",
      "model_module_version": "1.2.0",
      "model_name": "LayoutModel",
      "state": {
       "_model_module": "@jupyter-widgets/base",
       "_model_module_version": "1.2.0",
       "_model_name": "LayoutModel",
       "_view_count": null,
       "_view_module": "@jupyter-widgets/base",
       "_view_module_version": "1.2.0",
       "_view_name": "LayoutView",
       "align_content": null,
       "align_items": null,
       "align_self": null,
       "border": null,
       "bottom": null,
       "display": null,
       "flex": null,
       "flex_flow": null,
       "grid_area": null,
       "grid_auto_columns": null,
       "grid_auto_flow": null,
       "grid_auto_rows": null,
       "grid_column": null,
       "grid_gap": null,
       "grid_row": null,
       "grid_template_areas": null,
       "grid_template_columns": null,
       "grid_template_rows": null,
       "height": null,
       "justify_content": null,
       "justify_items": null,
       "left": null,
       "margin": null,
       "max_height": null,
       "max_width": null,
       "min_height": null,
       "min_width": null,
       "object_fit": null,
       "object_position": null,
       "order": null,
       "overflow": null,
       "overflow_x": null,
       "overflow_y": null,
       "padding": null,
       "right": null,
       "top": null,
       "visibility": null,
       "width": null
      }
     },
     "17522549a64043358dcec717a7d1479d": {
      "model_module": "@jupyter-widgets/controls",
      "model_module_version": "1.5.0",
      "model_name": "HTMLModel",
      "state": {
       "_dom_classes": [],
       "_model_module": "@jupyter-widgets/controls",
       "_model_module_version": "1.5.0",
       "_model_name": "HTMLModel",
       "_view_count": null,
       "_view_module": "@jupyter-widgets/controls",
       "_view_module_version": "1.5.0",
       "_view_name": "HTMLView",
       "description": "",
       "description_tooltip": null,
       "layout": "IPY_MODEL_ec0a33c3e41442baa0d0dc918aa4741f",
       "placeholder": "​",
       "style": "IPY_MODEL_1d7a16e7da564a14844de932d3269b80",
       "value": "Downloading (…)solve/main/vocab.txt: 100%"
      }
     },
     "17f2beb80b664f22837d64afb51fd89d": {
      "model_module": "@jupyter-widgets/base",
      "model_module_version": "1.2.0",
      "model_name": "LayoutModel",
      "state": {
       "_model_module": "@jupyter-widgets/base",
       "_model_module_version": "1.2.0",
       "_model_name": "LayoutModel",
       "_view_count": null,
       "_view_module": "@jupyter-widgets/base",
       "_view_module_version": "1.2.0",
       "_view_name": "LayoutView",
       "align_content": null,
       "align_items": null,
       "align_self": null,
       "border": null,
       "bottom": null,
       "display": null,
       "flex": null,
       "flex_flow": null,
       "grid_area": null,
       "grid_auto_columns": null,
       "grid_auto_flow": null,
       "grid_auto_rows": null,
       "grid_column": null,
       "grid_gap": null,
       "grid_row": null,
       "grid_template_areas": null,
       "grid_template_columns": null,
       "grid_template_rows": null,
       "height": null,
       "justify_content": null,
       "justify_items": null,
       "left": null,
       "margin": null,
       "max_height": null,
       "max_width": null,
       "min_height": null,
       "min_width": null,
       "object_fit": null,
       "object_position": null,
       "order": null,
       "overflow": null,
       "overflow_x": null,
       "overflow_y": null,
       "padding": null,
       "right": null,
       "top": null,
       "visibility": null,
       "width": null
      }
     },
     "1d5d5ce6413f4e51be8f0d6243df86c0": {
      "model_module": "@jupyter-widgets/base",
      "model_module_version": "1.2.0",
      "model_name": "LayoutModel",
      "state": {
       "_model_module": "@jupyter-widgets/base",
       "_model_module_version": "1.2.0",
       "_model_name": "LayoutModel",
       "_view_count": null,
       "_view_module": "@jupyter-widgets/base",
       "_view_module_version": "1.2.0",
       "_view_name": "LayoutView",
       "align_content": null,
       "align_items": null,
       "align_self": null,
       "border": null,
       "bottom": null,
       "display": null,
       "flex": null,
       "flex_flow": null,
       "grid_area": null,
       "grid_auto_columns": null,
       "grid_auto_flow": null,
       "grid_auto_rows": null,
       "grid_column": null,
       "grid_gap": null,
       "grid_row": null,
       "grid_template_areas": null,
       "grid_template_columns": null,
       "grid_template_rows": null,
       "height": null,
       "justify_content": null,
       "justify_items": null,
       "left": null,
       "margin": null,
       "max_height": null,
       "max_width": null,
       "min_height": null,
       "min_width": null,
       "object_fit": null,
       "object_position": null,
       "order": null,
       "overflow": null,
       "overflow_x": null,
       "overflow_y": null,
       "padding": null,
       "right": null,
       "top": null,
       "visibility": null,
       "width": null
      }
     },
     "1d7a16e7da564a14844de932d3269b80": {
      "model_module": "@jupyter-widgets/controls",
      "model_module_version": "1.5.0",
      "model_name": "DescriptionStyleModel",
      "state": {
       "_model_module": "@jupyter-widgets/controls",
       "_model_module_version": "1.5.0",
       "_model_name": "DescriptionStyleModel",
       "_view_count": null,
       "_view_module": "@jupyter-widgets/base",
       "_view_module_version": "1.2.0",
       "_view_name": "StyleView",
       "description_width": ""
      }
     },
     "20142a5e88c44fe29319b3328376d70d": {
      "model_module": "@jupyter-widgets/base",
      "model_module_version": "1.2.0",
      "model_name": "LayoutModel",
      "state": {
       "_model_module": "@jupyter-widgets/base",
       "_model_module_version": "1.2.0",
       "_model_name": "LayoutModel",
       "_view_count": null,
       "_view_module": "@jupyter-widgets/base",
       "_view_module_version": "1.2.0",
       "_view_name": "LayoutView",
       "align_content": null,
       "align_items": null,
       "align_self": null,
       "border": null,
       "bottom": null,
       "display": null,
       "flex": null,
       "flex_flow": null,
       "grid_area": null,
       "grid_auto_columns": null,
       "grid_auto_flow": null,
       "grid_auto_rows": null,
       "grid_column": null,
       "grid_gap": null,
       "grid_row": null,
       "grid_template_areas": null,
       "grid_template_columns": null,
       "grid_template_rows": null,
       "height": null,
       "justify_content": null,
       "justify_items": null,
       "left": null,
       "margin": null,
       "max_height": null,
       "max_width": null,
       "min_height": null,
       "min_width": null,
       "object_fit": null,
       "object_position": null,
       "order": null,
       "overflow": null,
       "overflow_x": null,
       "overflow_y": null,
       "padding": null,
       "right": null,
       "top": null,
       "visibility": null,
       "width": null
      }
     },
     "221f007b5d244e458bc99ace03b79bc6": {
      "model_module": "@jupyter-widgets/controls",
      "model_module_version": "1.5.0",
      "model_name": "ProgressStyleModel",
      "state": {
       "_model_module": "@jupyter-widgets/controls",
       "_model_module_version": "1.5.0",
       "_model_name": "ProgressStyleModel",
       "_view_count": null,
       "_view_module": "@jupyter-widgets/base",
       "_view_module_version": "1.2.0",
       "_view_name": "StyleView",
       "bar_color": null,
       "description_width": ""
      }
     },
     "22c26280668c4501a2836d3f083be105": {
      "model_module": "@jupyter-widgets/controls",
      "model_module_version": "1.5.0",
      "model_name": "DescriptionStyleModel",
      "state": {
       "_model_module": "@jupyter-widgets/controls",
       "_model_module_version": "1.5.0",
       "_model_name": "DescriptionStyleModel",
       "_view_count": null,
       "_view_module": "@jupyter-widgets/base",
       "_view_module_version": "1.2.0",
       "_view_name": "StyleView",
       "description_width": ""
      }
     },
     "287f837a3148437b9c326fec8a24a70e": {
      "model_module": "@jupyter-widgets/controls",
      "model_module_version": "1.5.0",
      "model_name": "HBoxModel",
      "state": {
       "_dom_classes": [],
       "_model_module": "@jupyter-widgets/controls",
       "_model_module_version": "1.5.0",
       "_model_name": "HBoxModel",
       "_view_count": null,
       "_view_module": "@jupyter-widgets/controls",
       "_view_module_version": "1.5.0",
       "_view_name": "HBoxView",
       "box_style": "",
       "children": [
        "IPY_MODEL_3cde3874c094409ea25736e3fcbb5639",
        "IPY_MODEL_c018c2d5ad4f4f23a55571140733043e",
        "IPY_MODEL_b06facb6dc8a4aba945b2e2d5bc66f31"
       ],
       "layout": "IPY_MODEL_8ec5bfbb722648eba9099812af43c129"
      }
     },
     "289533d5cc15460db10b956424e9ec5d": {
      "model_module": "@jupyter-widgets/controls",
      "model_module_version": "1.5.0",
      "model_name": "DescriptionStyleModel",
      "state": {
       "_model_module": "@jupyter-widgets/controls",
       "_model_module_version": "1.5.0",
       "_model_name": "DescriptionStyleModel",
       "_view_count": null,
       "_view_module": "@jupyter-widgets/base",
       "_view_module_version": "1.2.0",
       "_view_name": "StyleView",
       "description_width": ""
      }
     },
     "2c3461ec0efc4247bd5cbceb67fa488e": {
      "model_module": "@jupyter-widgets/controls",
      "model_module_version": "1.5.0",
      "model_name": "HBoxModel",
      "state": {
       "_dom_classes": [],
       "_model_module": "@jupyter-widgets/controls",
       "_model_module_version": "1.5.0",
       "_model_name": "HBoxModel",
       "_view_count": null,
       "_view_module": "@jupyter-widgets/controls",
       "_view_module_version": "1.5.0",
       "_view_name": "HBoxView",
       "box_style": "",
       "children": [
        "IPY_MODEL_fba5be4e0a4743e290913f6d1628678b",
        "IPY_MODEL_347b58c90c034fc4b1111c52992eb519",
        "IPY_MODEL_0eb909a71518469e82eab4b1659fa3d0"
       ],
       "layout": "IPY_MODEL_b4be1a0713c04501bea46c97dc752949"
      }
     },
     "308d066a744f4fc88ef769bcb89eb3f6": {
      "model_module": "@jupyter-widgets/controls",
      "model_module_version": "1.5.0",
      "model_name": "DescriptionStyleModel",
      "state": {
       "_model_module": "@jupyter-widgets/controls",
       "_model_module_version": "1.5.0",
       "_model_name": "DescriptionStyleModel",
       "_view_count": null,
       "_view_module": "@jupyter-widgets/base",
       "_view_module_version": "1.2.0",
       "_view_name": "StyleView",
       "description_width": ""
      }
     },
     "3354f9e981e8471eb1d332af9f437150": {
      "model_module": "@jupyter-widgets/controls",
      "model_module_version": "1.5.0",
      "model_name": "DescriptionStyleModel",
      "state": {
       "_model_module": "@jupyter-widgets/controls",
       "_model_module_version": "1.5.0",
       "_model_name": "DescriptionStyleModel",
       "_view_count": null,
       "_view_module": "@jupyter-widgets/base",
       "_view_module_version": "1.2.0",
       "_view_name": "StyleView",
       "description_width": ""
      }
     },
     "347b58c90c034fc4b1111c52992eb519": {
      "model_module": "@jupyter-widgets/controls",
      "model_module_version": "1.5.0",
      "model_name": "FloatProgressModel",
      "state": {
       "_dom_classes": [],
       "_model_module": "@jupyter-widgets/controls",
       "_model_module_version": "1.5.0",
       "_model_name": "FloatProgressModel",
       "_view_count": null,
       "_view_module": "@jupyter-widgets/controls",
       "_view_module_version": "1.5.0",
       "_view_name": "ProgressView",
       "bar_style": "success",
       "description": "",
       "description_tooltip": null,
       "layout": "IPY_MODEL_dcef255d647246d992f5b901093122a5",
       "max": 2472,
       "min": 0,
       "orientation": "horizontal",
       "style": "IPY_MODEL_f8703be794964e23b0a5c513ff4a6aab",
       "value": 2472
      }
     },
     "347b9b1f77f3419f9525b8f38d0c439d": {
      "model_module": "@jupyter-widgets/controls",
      "model_module_version": "1.5.0",
      "model_name": "HTMLModel",
      "state": {
       "_dom_classes": [],
       "_model_module": "@jupyter-widgets/controls",
       "_model_module_version": "1.5.0",
       "_model_name": "HTMLModel",
       "_view_count": null,
       "_view_module": "@jupyter-widgets/controls",
       "_view_module_version": "1.5.0",
       "_view_name": "HTMLView",
       "description": "",
       "description_tooltip": null,
       "layout": "IPY_MODEL_b450276b4f5148dfaec9c63ba8c62213",
       "placeholder": "​",
       "style": "IPY_MODEL_b7e764102c194bfa81a82803a2626922",
       "value": " 241k/241k [00:00&lt;00:00, 5.21MB/s]"
      }
     },
     "38976d6379b24081b015a4300c923f27": {
      "model_module": "@jupyter-widgets/base",
      "model_module_version": "1.2.0",
      "model_name": "LayoutModel",
      "state": {
       "_model_module": "@jupyter-widgets/base",
       "_model_module_version": "1.2.0",
       "_model_name": "LayoutModel",
       "_view_count": null,
       "_view_module": "@jupyter-widgets/base",
       "_view_module_version": "1.2.0",
       "_view_name": "LayoutView",
       "align_content": null,
       "align_items": null,
       "align_self": null,
       "border": null,
       "bottom": null,
       "display": null,
       "flex": null,
       "flex_flow": null,
       "grid_area": null,
       "grid_auto_columns": null,
       "grid_auto_flow": null,
       "grid_auto_rows": null,
       "grid_column": null,
       "grid_gap": null,
       "grid_row": null,
       "grid_template_areas": null,
       "grid_template_columns": null,
       "grid_template_rows": null,
       "height": null,
       "justify_content": null,
       "justify_items": null,
       "left": null,
       "margin": null,
       "max_height": null,
       "max_width": null,
       "min_height": null,
       "min_width": null,
       "object_fit": null,
       "object_position": null,
       "order": null,
       "overflow": null,
       "overflow_x": null,
       "overflow_y": null,
       "padding": null,
       "right": null,
       "top": null,
       "visibility": null,
       "width": null
      }
     },
     "3b1f76e3b0a04ba7818f0e9a189542b1": {
      "model_module": "@jupyter-widgets/controls",
      "model_module_version": "1.5.0",
      "model_name": "DescriptionStyleModel",
      "state": {
       "_model_module": "@jupyter-widgets/controls",
       "_model_module_version": "1.5.0",
       "_model_name": "DescriptionStyleModel",
       "_view_count": null,
       "_view_module": "@jupyter-widgets/base",
       "_view_module_version": "1.2.0",
       "_view_name": "StyleView",
       "description_width": ""
      }
     },
     "3c80a47bbb284e448c672fa693e081b0": {
      "model_module": "@jupyter-widgets/base",
      "model_module_version": "1.2.0",
      "model_name": "LayoutModel",
      "state": {
       "_model_module": "@jupyter-widgets/base",
       "_model_module_version": "1.2.0",
       "_model_name": "LayoutModel",
       "_view_count": null,
       "_view_module": "@jupyter-widgets/base",
       "_view_module_version": "1.2.0",
       "_view_name": "LayoutView",
       "align_content": null,
       "align_items": null,
       "align_self": null,
       "border": null,
       "bottom": null,
       "display": null,
       "flex": null,
       "flex_flow": null,
       "grid_area": null,
       "grid_auto_columns": null,
       "grid_auto_flow": null,
       "grid_auto_rows": null,
       "grid_column": null,
       "grid_gap": null,
       "grid_row": null,
       "grid_template_areas": null,
       "grid_template_columns": null,
       "grid_template_rows": null,
       "height": null,
       "justify_content": null,
       "justify_items": null,
       "left": null,
       "margin": null,
       "max_height": null,
       "max_width": null,
       "min_height": null,
       "min_width": null,
       "object_fit": null,
       "object_position": null,
       "order": null,
       "overflow": null,
       "overflow_x": null,
       "overflow_y": null,
       "padding": null,
       "right": null,
       "top": null,
       "visibility": null,
       "width": null
      }
     },
     "3cde3874c094409ea25736e3fcbb5639": {
      "model_module": "@jupyter-widgets/controls",
      "model_module_version": "1.5.0",
      "model_name": "HTMLModel",
      "state": {
       "_dom_classes": [],
       "_model_module": "@jupyter-widgets/controls",
       "_model_module_version": "1.5.0",
       "_model_name": "HTMLModel",
       "_view_count": null,
       "_view_module": "@jupyter-widgets/controls",
       "_view_module_version": "1.5.0",
       "_view_name": "HTMLView",
       "description": "",
       "description_tooltip": null,
       "layout": "IPY_MODEL_38976d6379b24081b015a4300c923f27",
       "placeholder": "​",
       "style": "IPY_MODEL_e5f7cc4c196541e78d78e179c72bc6b4",
       "value": "Downloading (…)/main/tokenizer.json: 100%"
      }
     },
     "3d7475c318934d9a824eaf7df35f238d": {
      "model_module": "@jupyter-widgets/controls",
      "model_module_version": "1.5.0",
      "model_name": "DescriptionStyleModel",
      "state": {
       "_model_module": "@jupyter-widgets/controls",
       "_model_module_version": "1.5.0",
       "_model_name": "DescriptionStyleModel",
       "_view_count": null,
       "_view_module": "@jupyter-widgets/base",
       "_view_module_version": "1.2.0",
       "_view_name": "StyleView",
       "description_width": ""
      }
     },
     "412c80e047454039a34aa2aed25d99a4": {
      "model_module": "@jupyter-widgets/controls",
      "model_module_version": "1.5.0",
      "model_name": "HTMLModel",
      "state": {
       "_dom_classes": [],
       "_model_module": "@jupyter-widgets/controls",
       "_model_module_version": "1.5.0",
       "_model_name": "HTMLModel",
       "_view_count": null,
       "_view_module": "@jupyter-widgets/controls",
       "_view_module_version": "1.5.0",
       "_view_name": "HTMLView",
       "description": "",
       "description_tooltip": null,
       "layout": "IPY_MODEL_c824e98ee2b24a08b3c5a518ddbb49a0",
       "placeholder": "​",
       "style": "IPY_MODEL_03b0eeadbce4447aa04bf1cd4a430884",
       "value": " 5/5 [00:01&lt;00:00,  3.81ba/s]"
      }
     },
     "47257c5275aa41ff83a21d009abbd891": {
      "model_module": "@jupyter-widgets/controls",
      "model_module_version": "1.5.0",
      "model_name": "HTMLModel",
      "state": {
       "_dom_classes": [],
       "_model_module": "@jupyter-widgets/controls",
       "_model_module_version": "1.5.0",
       "_model_name": "HTMLModel",
       "_view_count": null,
       "_view_module": "@jupyter-widgets/controls",
       "_view_module_version": "1.5.0",
       "_view_name": "HTMLView",
       "description": "",
       "description_tooltip": null,
       "layout": "IPY_MODEL_59b6bf9abccd4ebbb21d669ed7f5aed5",
       "placeholder": "​",
       "style": "IPY_MODEL_923ab28d264d43c79f454bf01bfdfa8e",
       "value": " 112/112 [00:00&lt;00:00, 8.07kB/s]"
      }
     },
     "4835ef33d50046668cc5bcef5afc5bea": {
      "model_module": "@jupyter-widgets/base",
      "model_module_version": "1.2.0",
      "model_name": "LayoutModel",
      "state": {
       "_model_module": "@jupyter-widgets/base",
       "_model_module_version": "1.2.0",
       "_model_name": "LayoutModel",
       "_view_count": null,
       "_view_module": "@jupyter-widgets/base",
       "_view_module_version": "1.2.0",
       "_view_name": "LayoutView",
       "align_content": null,
       "align_items": null,
       "align_self": null,
       "border": null,
       "bottom": null,
       "display": null,
       "flex": null,
       "flex_flow": null,
       "grid_area": null,
       "grid_auto_columns": null,
       "grid_auto_flow": null,
       "grid_auto_rows": null,
       "grid_column": null,
       "grid_gap": null,
       "grid_row": null,
       "grid_template_areas": null,
       "grid_template_columns": null,
       "grid_template_rows": null,
       "height": null,
       "justify_content": null,
       "justify_items": null,
       "left": null,
       "margin": null,
       "max_height": null,
       "max_width": null,
       "min_height": null,
       "min_width": null,
       "object_fit": null,
       "object_position": null,
       "order": null,
       "overflow": null,
       "overflow_x": null,
       "overflow_y": null,
       "padding": null,
       "right": null,
       "top": null,
       "visibility": null,
       "width": null
      }
     },
     "48e8ba25c4c14493af5c0fe8aa4cf7bf": {
      "model_module": "@jupyter-widgets/controls",
      "model_module_version": "1.5.0",
      "model_name": "HTMLModel",
      "state": {
       "_dom_classes": [],
       "_model_module": "@jupyter-widgets/controls",
       "_model_module_version": "1.5.0",
       "_model_name": "HTMLModel",
       "_view_count": null,
       "_view_module": "@jupyter-widgets/controls",
       "_view_module_version": "1.5.0",
       "_view_name": "HTMLView",
       "description": "",
       "description_tooltip": null,
       "layout": "IPY_MODEL_1d5d5ce6413f4e51be8f0d6243df86c0",
       "placeholder": "​",
       "style": "IPY_MODEL_3354f9e981e8471eb1d332af9f437150",
       "value": "100%"
      }
     },
     "4c526f9489674b52b7820eee7403c462": {
      "model_module": "@jupyter-widgets/base",
      "model_module_version": "1.2.0",
      "model_name": "LayoutModel",
      "state": {
       "_model_module": "@jupyter-widgets/base",
       "_model_module_version": "1.2.0",
       "_model_name": "LayoutModel",
       "_view_count": null,
       "_view_module": "@jupyter-widgets/base",
       "_view_module_version": "1.2.0",
       "_view_name": "LayoutView",
       "align_content": null,
       "align_items": null,
       "align_self": null,
       "border": null,
       "bottom": null,
       "display": null,
       "flex": null,
       "flex_flow": null,
       "grid_area": null,
       "grid_auto_columns": null,
       "grid_auto_flow": null,
       "grid_auto_rows": null,
       "grid_column": null,
       "grid_gap": null,
       "grid_row": null,
       "grid_template_areas": null,
       "grid_template_columns": null,
       "grid_template_rows": null,
       "height": null,
       "justify_content": null,
       "justify_items": null,
       "left": null,
       "margin": null,
       "max_height": null,
       "max_width": null,
       "min_height": null,
       "min_width": null,
       "object_fit": null,
       "object_position": null,
       "order": null,
       "overflow": null,
       "overflow_x": null,
       "overflow_y": null,
       "padding": null,
       "right": null,
       "top": null,
       "visibility": null,
       "width": null
      }
     },
     "4f0a53d314ba4cc4a1a780ad0707c546": {
      "model_module": "@jupyter-widgets/controls",
      "model_module_version": "1.5.0",
      "model_name": "HTMLModel",
      "state": {
       "_dom_classes": [],
       "_model_module": "@jupyter-widgets/controls",
       "_model_module_version": "1.5.0",
       "_model_name": "HTMLModel",
       "_view_count": null,
       "_view_module": "@jupyter-widgets/controls",
       "_view_module_version": "1.5.0",
       "_view_name": "HTMLView",
       "description": "",
       "description_tooltip": null,
       "layout": "IPY_MODEL_02a0489fbe86495199b14c2cdcd1b192",
       "placeholder": "​",
       "style": "IPY_MODEL_22c26280668c4501a2836d3f083be105",
       "value": " 341/341 [00:00&lt;00:00, 21.3kB/s]"
      }
     },
     "529fe51360e94028979ca31268a6b66e": {
      "model_module": "@jupyter-widgets/base",
      "model_module_version": "1.2.0",
      "model_name": "LayoutModel",
      "state": {
       "_model_module": "@jupyter-widgets/base",
       "_model_module_version": "1.2.0",
       "_model_name": "LayoutModel",
       "_view_count": null,
       "_view_module": "@jupyter-widgets/base",
       "_view_module_version": "1.2.0",
       "_view_name": "LayoutView",
       "align_content": null,
       "align_items": null,
       "align_self": null,
       "border": null,
       "bottom": null,
       "display": null,
       "flex": null,
       "flex_flow": null,
       "grid_area": null,
       "grid_auto_columns": null,
       "grid_auto_flow": null,
       "grid_auto_rows": null,
       "grid_column": null,
       "grid_gap": null,
       "grid_row": null,
       "grid_template_areas": null,
       "grid_template_columns": null,
       "grid_template_rows": null,
       "height": null,
       "justify_content": null,
       "justify_items": null,
       "left": null,
       "margin": null,
       "max_height": null,
       "max_width": null,
       "min_height": null,
       "min_width": null,
       "object_fit": null,
       "object_position": null,
       "order": null,
       "overflow": null,
       "overflow_x": null,
       "overflow_y": null,
       "padding": null,
       "right": null,
       "top": null,
       "visibility": null,
       "width": null
      }
     },
     "54a6c3e3c2fa4a4a999b72a434d8a0e2": {
      "model_module": "@jupyter-widgets/base",
      "model_module_version": "1.2.0",
      "model_name": "LayoutModel",
      "state": {
       "_model_module": "@jupyter-widgets/base",
       "_model_module_version": "1.2.0",
       "_model_name": "LayoutModel",
       "_view_count": null,
       "_view_module": "@jupyter-widgets/base",
       "_view_module_version": "1.2.0",
       "_view_name": "LayoutView",
       "align_content": null,
       "align_items": null,
       "align_self": null,
       "border": null,
       "bottom": null,
       "display": null,
       "flex": null,
       "flex_flow": null,
       "grid_area": null,
       "grid_auto_columns": null,
       "grid_auto_flow": null,
       "grid_auto_rows": null,
       "grid_column": null,
       "grid_gap": null,
       "grid_row": null,
       "grid_template_areas": null,
       "grid_template_columns": null,
       "grid_template_rows": null,
       "height": null,
       "justify_content": null,
       "justify_items": null,
       "left": null,
       "margin": null,
       "max_height": null,
       "max_width": null,
       "min_height": null,
       "min_width": null,
       "object_fit": null,
       "object_position": null,
       "order": null,
       "overflow": null,
       "overflow_x": null,
       "overflow_y": null,
       "padding": null,
       "right": null,
       "top": null,
       "visibility": null,
       "width": null
      }
     },
     "55300dd39afe4f2cb125748bd776f240": {
      "model_module": "@jupyter-widgets/controls",
      "model_module_version": "1.5.0",
      "model_name": "DescriptionStyleModel",
      "state": {
       "_model_module": "@jupyter-widgets/controls",
       "_model_module_version": "1.5.0",
       "_model_name": "DescriptionStyleModel",
       "_view_count": null,
       "_view_module": "@jupyter-widgets/base",
       "_view_module_version": "1.2.0",
       "_view_name": "StyleView",
       "description_width": ""
      }
     },
     "56af310a44d644859117b0361494c99e": {
      "model_module": "@jupyter-widgets/base",
      "model_module_version": "1.2.0",
      "model_name": "LayoutModel",
      "state": {
       "_model_module": "@jupyter-widgets/base",
       "_model_module_version": "1.2.0",
       "_model_name": "LayoutModel",
       "_view_count": null,
       "_view_module": "@jupyter-widgets/base",
       "_view_module_version": "1.2.0",
       "_view_name": "LayoutView",
       "align_content": null,
       "align_items": null,
       "align_self": null,
       "border": null,
       "bottom": null,
       "display": null,
       "flex": null,
       "flex_flow": null,
       "grid_area": null,
       "grid_auto_columns": null,
       "grid_auto_flow": null,
       "grid_auto_rows": null,
       "grid_column": null,
       "grid_gap": null,
       "grid_row": null,
       "grid_template_areas": null,
       "grid_template_columns": null,
       "grid_template_rows": null,
       "height": null,
       "justify_content": null,
       "justify_items": null,
       "left": null,
       "margin": null,
       "max_height": null,
       "max_width": null,
       "min_height": null,
       "min_width": null,
       "object_fit": null,
       "object_position": null,
       "order": null,
       "overflow": null,
       "overflow_x": null,
       "overflow_y": null,
       "padding": null,
       "right": null,
       "top": null,
       "visibility": null,
       "width": null
      }
     },
     "59b6bf9abccd4ebbb21d669ed7f5aed5": {
      "model_module": "@jupyter-widgets/base",
      "model_module_version": "1.2.0",
      "model_name": "LayoutModel",
      "state": {
       "_model_module": "@jupyter-widgets/base",
       "_model_module_version": "1.2.0",
       "_model_name": "LayoutModel",
       "_view_count": null,
       "_view_module": "@jupyter-widgets/base",
       "_view_module_version": "1.2.0",
       "_view_name": "LayoutView",
       "align_content": null,
       "align_items": null,
       "align_self": null,
       "border": null,
       "bottom": null,
       "display": null,
       "flex": null,
       "flex_flow": null,
       "grid_area": null,
       "grid_auto_columns": null,
       "grid_auto_flow": null,
       "grid_auto_rows": null,
       "grid_column": null,
       "grid_gap": null,
       "grid_row": null,
       "grid_template_areas": null,
       "grid_template_columns": null,
       "grid_template_rows": null,
       "height": null,
       "justify_content": null,
       "justify_items": null,
       "left": null,
       "margin": null,
       "max_height": null,
       "max_width": null,
       "min_height": null,
       "min_width": null,
       "object_fit": null,
       "object_position": null,
       "order": null,
       "overflow": null,
       "overflow_x": null,
       "overflow_y": null,
       "padding": null,
       "right": null,
       "top": null,
       "visibility": null,
       "width": null
      }
     },
     "5ad65f5500f94fceb10dd77c434ab7fc": {
      "model_module": "@jupyter-widgets/controls",
      "model_module_version": "1.5.0",
      "model_name": "FloatProgressModel",
      "state": {
       "_dom_classes": [],
       "_model_module": "@jupyter-widgets/controls",
       "_model_module_version": "1.5.0",
       "_model_name": "FloatProgressModel",
       "_view_count": null,
       "_view_module": "@jupyter-widgets/controls",
       "_view_module_version": "1.5.0",
       "_view_name": "ProgressView",
       "bar_style": "success",
       "description": "",
       "description_tooltip": null,
       "layout": "IPY_MODEL_e147c5fb2a7c4c4d9833fffce5a69b5c",
       "max": 632,
       "min": 0,
       "orientation": "horizontal",
       "style": "IPY_MODEL_7d5be5fea62042ca99b97222c4b173ea",
       "value": 632
      }
     },
     "5ceee04f743241319fdd31e5606911cb": {
      "model_module": "@jupyter-widgets/base",
      "model_module_version": "1.2.0",
      "model_name": "LayoutModel",
      "state": {
       "_model_module": "@jupyter-widgets/base",
       "_model_module_version": "1.2.0",
       "_model_name": "LayoutModel",
       "_view_count": null,
       "_view_module": "@jupyter-widgets/base",
       "_view_module_version": "1.2.0",
       "_view_name": "LayoutView",
       "align_content": null,
       "align_items": null,
       "align_self": null,
       "border": null,
       "bottom": null,
       "display": null,
       "flex": null,
       "flex_flow": null,
       "grid_area": null,
       "grid_auto_columns": null,
       "grid_auto_flow": null,
       "grid_auto_rows": null,
       "grid_column": null,
       "grid_gap": null,
       "grid_row": null,
       "grid_template_areas": null,
       "grid_template_columns": null,
       "grid_template_rows": null,
       "height": null,
       "justify_content": null,
       "justify_items": null,
       "left": null,
       "margin": null,
       "max_height": null,
       "max_width": null,
       "min_height": null,
       "min_width": null,
       "object_fit": null,
       "object_position": null,
       "order": null,
       "overflow": null,
       "overflow_x": null,
       "overflow_y": null,
       "padding": null,
       "right": null,
       "top": null,
       "visibility": null,
       "width": null
      }
     },
     "5e4e707d4d1144488194969164851ea5": {
      "model_module": "@jupyter-widgets/base",
      "model_module_version": "1.2.0",
      "model_name": "LayoutModel",
      "state": {
       "_model_module": "@jupyter-widgets/base",
       "_model_module_version": "1.2.0",
       "_model_name": "LayoutModel",
       "_view_count": null,
       "_view_module": "@jupyter-widgets/base",
       "_view_module_version": "1.2.0",
       "_view_name": "LayoutView",
       "align_content": null,
       "align_items": null,
       "align_self": null,
       "border": null,
       "bottom": null,
       "display": null,
       "flex": null,
       "flex_flow": null,
       "grid_area": null,
       "grid_auto_columns": null,
       "grid_auto_flow": null,
       "grid_auto_rows": null,
       "grid_column": null,
       "grid_gap": null,
       "grid_row": null,
       "grid_template_areas": null,
       "grid_template_columns": null,
       "grid_template_rows": null,
       "height": null,
       "justify_content": null,
       "justify_items": null,
       "left": null,
       "margin": null,
       "max_height": null,
       "max_width": null,
       "min_height": null,
       "min_width": null,
       "object_fit": null,
       "object_position": null,
       "order": null,
       "overflow": null,
       "overflow_x": null,
       "overflow_y": null,
       "padding": null,
       "right": null,
       "top": null,
       "visibility": null,
       "width": null
      }
     },
     "624c956f0090476585f3b9d7952a67e0": {
      "model_module": "@jupyter-widgets/controls",
      "model_module_version": "1.5.0",
      "model_name": "HTMLModel",
      "state": {
       "_dom_classes": [],
       "_model_module": "@jupyter-widgets/controls",
       "_model_module_version": "1.5.0",
       "_model_name": "HTMLModel",
       "_view_count": null,
       "_view_module": "@jupyter-widgets/controls",
       "_view_module_version": "1.5.0",
       "_view_name": "HTMLView",
       "description": "",
       "description_tooltip": null,
       "layout": "IPY_MODEL_4835ef33d50046668cc5bcef5afc5bea",
       "placeholder": "​",
       "style": "IPY_MODEL_308d066a744f4fc88ef769bcb89eb3f6",
       "value": "Downloading model.safetensors: 100%"
      }
     },
     "63ffb4420b2742a3b3c93f149c861ab1": {
      "model_module": "@jupyter-widgets/controls",
      "model_module_version": "1.5.0",
      "model_name": "HBoxModel",
      "state": {
       "_dom_classes": [],
       "_model_module": "@jupyter-widgets/controls",
       "_model_module_version": "1.5.0",
       "_model_name": "HBoxModel",
       "_view_count": null,
       "_view_module": "@jupyter-widgets/controls",
       "_view_module_version": "1.5.0",
       "_view_name": "HBoxView",
       "box_style": "",
       "children": [
        "IPY_MODEL_48e8ba25c4c14493af5c0fe8aa4cf7bf",
        "IPY_MODEL_d4698580e9694c5792f63dae86dcd399",
        "IPY_MODEL_9d0092d5597842758e0482ead7446586"
       ],
       "layout": "IPY_MODEL_20142a5e88c44fe29319b3328376d70d"
      }
     },
     "65856bf5d94e42949030df131e2fa31e": {
      "model_module": "@jupyter-widgets/controls",
      "model_module_version": "1.5.0",
      "model_name": "HTMLModel",
      "state": {
       "_dom_classes": [],
       "_model_module": "@jupyter-widgets/controls",
       "_model_module_version": "1.5.0",
       "_model_name": "HTMLModel",
       "_view_count": null,
       "_view_module": "@jupyter-widgets/controls",
       "_view_module_version": "1.5.0",
       "_view_name": "HTMLView",
       "description": "",
       "description_tooltip": null,
       "layout": "IPY_MODEL_529fe51360e94028979ca31268a6b66e",
       "placeholder": "​",
       "style": "IPY_MODEL_289533d5cc15460db10b956424e9ec5d",
       "value": "100%"
      }
     },
     "6781d2a6fc0e4af4b947e657a112dc98": {
      "model_module": "@jupyter-widgets/controls",
      "model_module_version": "1.5.0",
      "model_name": "HTMLModel",
      "state": {
       "_dom_classes": [],
       "_model_module": "@jupyter-widgets/controls",
       "_model_module_version": "1.5.0",
       "_model_name": "HTMLModel",
       "_view_count": null,
       "_view_module": "@jupyter-widgets/controls",
       "_view_module_version": "1.5.0",
       "_view_name": "HTMLView",
       "description": "",
       "description_tooltip": null,
       "layout": "IPY_MODEL_3c80a47bbb284e448c672fa693e081b0",
       "placeholder": "​",
       "style": "IPY_MODEL_756d730dc6ef4f9a9e97de2d8aa556b1",
       "value": " 47.7M/47.7M [00:00&lt;00:00, 50.3MB/s]"
      }
     },
     "68ec3715b16c4fb4b3cccbc72764e415": {
      "model_module": "@jupyter-widgets/controls",
      "model_module_version": "1.5.0",
      "model_name": "HBoxModel",
      "state": {
       "_dom_classes": [],
       "_model_module": "@jupyter-widgets/controls",
       "_model_module_version": "1.5.0",
       "_model_name": "HBoxModel",
       "_view_count": null,
       "_view_module": "@jupyter-widgets/controls",
       "_view_module_version": "1.5.0",
       "_view_name": "HBoxView",
       "box_style": "",
       "children": [
        "IPY_MODEL_12e1fea41f5144fb8e6897bbe421ad64",
        "IPY_MODEL_5ad65f5500f94fceb10dd77c434ab7fc",
        "IPY_MODEL_a42089d8947141379fe3d7f69594b58b"
       ],
       "layout": "IPY_MODEL_e2825388664944a7802c60151be9cc42"
      }
     },
     "6d0dc311a381423388d12310e43efaa2": {
      "model_module": "@jupyter-widgets/controls",
      "model_module_version": "1.5.0",
      "model_name": "HTMLModel",
      "state": {
       "_dom_classes": [],
       "_model_module": "@jupyter-widgets/controls",
       "_model_module_version": "1.5.0",
       "_model_name": "HTMLModel",
       "_view_count": null,
       "_view_module": "@jupyter-widgets/controls",
       "_view_module_version": "1.5.0",
       "_view_name": "HTMLView",
       "description": "",
       "description_tooltip": null,
       "layout": "IPY_MODEL_075ee8f3a82443f8884d29df4240d0a3",
       "placeholder": "​",
       "style": "IPY_MODEL_3d7475c318934d9a824eaf7df35f238d",
       "value": "Downloading (…)cial_tokens_map.json: 100%"
      }
     },
     "6d15ecacfcec451ebad23ef1f11ddd88": {
      "model_module": "@jupyter-widgets/controls",
      "model_module_version": "1.5.0",
      "model_name": "FloatProgressModel",
      "state": {
       "_dom_classes": [],
       "_model_module": "@jupyter-widgets/controls",
       "_model_module_version": "1.5.0",
       "_model_name": "FloatProgressModel",
       "_view_count": null,
       "_view_module": "@jupyter-widgets/controls",
       "_view_module_version": "1.5.0",
       "_view_name": "ProgressView",
       "bar_style": "success",
       "description": "",
       "description_tooltip": null,
       "layout": "IPY_MODEL_d86f5be404334e85a94b32708955fc84",
       "max": 341,
       "min": 0,
       "orientation": "horizontal",
       "style": "IPY_MODEL_6e43b9f2bed9416bb098273a991192f7",
       "value": 341
      }
     },
     "6e43b9f2bed9416bb098273a991192f7": {
      "model_module": "@jupyter-widgets/controls",
      "model_module_version": "1.5.0",
      "model_name": "ProgressStyleModel",
      "state": {
       "_model_module": "@jupyter-widgets/controls",
       "_model_module_version": "1.5.0",
       "_model_name": "ProgressStyleModel",
       "_view_count": null,
       "_view_module": "@jupyter-widgets/base",
       "_view_module_version": "1.2.0",
       "_view_name": "StyleView",
       "bar_color": null,
       "description_width": ""
      }
     },
     "6f6e687766ae4042a7e4e84d47452c96": {
      "model_module": "@jupyter-widgets/controls",
      "model_module_version": "1.5.0",
      "model_name": "HBoxModel",
      "state": {
       "_dom_classes": [],
       "_model_module": "@jupyter-widgets/controls",
       "_model_module_version": "1.5.0",
       "_model_name": "HBoxModel",
       "_view_count": null,
       "_view_module": "@jupyter-widgets/controls",
       "_view_module_version": "1.5.0",
       "_view_name": "HBoxView",
       "box_style": "",
       "children": [
        "IPY_MODEL_17522549a64043358dcec717a7d1479d",
        "IPY_MODEL_cdac9e093d244661aafe76ef22e51abf",
        "IPY_MODEL_347b9b1f77f3419f9525b8f38d0c439d"
       ],
       "layout": "IPY_MODEL_035f27e26bb842c6882ca40db120c720"
      }
     },
     "71689f1d344f44408873c732ade81780": {
      "model_module": "@jupyter-widgets/base",
      "model_module_version": "1.2.0",
      "model_name": "LayoutModel",
      "state": {
       "_model_module": "@jupyter-widgets/base",
       "_model_module_version": "1.2.0",
       "_model_name": "LayoutModel",
       "_view_count": null,
       "_view_module": "@jupyter-widgets/base",
       "_view_module_version": "1.2.0",
       "_view_name": "LayoutView",
       "align_content": null,
       "align_items": null,
       "align_self": null,
       "border": null,
       "bottom": null,
       "display": null,
       "flex": null,
       "flex_flow": null,
       "grid_area": null,
       "grid_auto_columns": null,
       "grid_auto_flow": null,
       "grid_auto_rows": null,
       "grid_column": null,
       "grid_gap": null,
       "grid_row": null,
       "grid_template_areas": null,
       "grid_template_columns": null,
       "grid_template_rows": null,
       "height": null,
       "justify_content": null,
       "justify_items": null,
       "left": null,
       "margin": null,
       "max_height": null,
       "max_width": null,
       "min_height": null,
       "min_width": null,
       "object_fit": null,
       "object_position": null,
       "order": null,
       "overflow": null,
       "overflow_x": null,
       "overflow_y": null,
       "padding": null,
       "right": null,
       "top": null,
       "visibility": null,
       "width": null
      }
     },
     "719c19d5a15148e094d76938e675abb9": {
      "model_module": "@jupyter-widgets/controls",
      "model_module_version": "1.5.0",
      "model_name": "DescriptionStyleModel",
      "state": {
       "_model_module": "@jupyter-widgets/controls",
       "_model_module_version": "1.5.0",
       "_model_name": "DescriptionStyleModel",
       "_view_count": null,
       "_view_module": "@jupyter-widgets/base",
       "_view_module_version": "1.2.0",
       "_view_name": "StyleView",
       "description_width": ""
      }
     },
     "756d730dc6ef4f9a9e97de2d8aa556b1": {
      "model_module": "@jupyter-widgets/controls",
      "model_module_version": "1.5.0",
      "model_name": "DescriptionStyleModel",
      "state": {
       "_model_module": "@jupyter-widgets/controls",
       "_model_module_version": "1.5.0",
       "_model_name": "DescriptionStyleModel",
       "_view_count": null,
       "_view_module": "@jupyter-widgets/base",
       "_view_module_version": "1.2.0",
       "_view_name": "StyleView",
       "description_width": ""
      }
     },
     "777d6ab54bfa48449ffc937b08112a21": {
      "model_module": "@jupyter-widgets/controls",
      "model_module_version": "1.5.0",
      "model_name": "ProgressStyleModel",
      "state": {
       "_model_module": "@jupyter-widgets/controls",
       "_model_module_version": "1.5.0",
       "_model_name": "ProgressStyleModel",
       "_view_count": null,
       "_view_module": "@jupyter-widgets/base",
       "_view_module_version": "1.2.0",
       "_view_name": "StyleView",
       "bar_color": null,
       "description_width": ""
      }
     },
     "7d5be5fea62042ca99b97222c4b173ea": {
      "model_module": "@jupyter-widgets/controls",
      "model_module_version": "1.5.0",
      "model_name": "ProgressStyleModel",
      "state": {
       "_model_module": "@jupyter-widgets/controls",
       "_model_module_version": "1.5.0",
       "_model_name": "ProgressStyleModel",
       "_view_count": null,
       "_view_module": "@jupyter-widgets/base",
       "_view_module_version": "1.2.0",
       "_view_name": "StyleView",
       "bar_color": null,
       "description_width": ""
      }
     },
     "7f88a098850442fca0e7409daa186e92": {
      "model_module": "@jupyter-widgets/controls",
      "model_module_version": "1.5.0",
      "model_name": "ProgressStyleModel",
      "state": {
       "_model_module": "@jupyter-widgets/controls",
       "_model_module_version": "1.5.0",
       "_model_name": "ProgressStyleModel",
       "_view_count": null,
       "_view_module": "@jupyter-widgets/base",
       "_view_module_version": "1.2.0",
       "_view_name": "StyleView",
       "bar_color": null,
       "description_width": ""
      }
     },
     "84b5cc718656411fbb1be6650f59fa91": {
      "model_module": "@jupyter-widgets/controls",
      "model_module_version": "1.5.0",
      "model_name": "HBoxModel",
      "state": {
       "_dom_classes": [],
       "_model_module": "@jupyter-widgets/controls",
       "_model_module_version": "1.5.0",
       "_model_name": "HBoxModel",
       "_view_count": null,
       "_view_module": "@jupyter-widgets/controls",
       "_view_module_version": "1.5.0",
       "_view_name": "HBoxView",
       "box_style": "",
       "children": [
        "IPY_MODEL_624c956f0090476585f3b9d7952a67e0",
        "IPY_MODEL_bceef5de8c43456c9830e626335a9e96",
        "IPY_MODEL_6781d2a6fc0e4af4b947e657a112dc98"
       ],
       "layout": "IPY_MODEL_17f2beb80b664f22837d64afb51fd89d"
      }
     },
     "8ec5bfbb722648eba9099812af43c129": {
      "model_module": "@jupyter-widgets/base",
      "model_module_version": "1.2.0",
      "model_name": "LayoutModel",
      "state": {
       "_model_module": "@jupyter-widgets/base",
       "_model_module_version": "1.2.0",
       "_model_name": "LayoutModel",
       "_view_count": null,
       "_view_module": "@jupyter-widgets/base",
       "_view_module_version": "1.2.0",
       "_view_name": "LayoutView",
       "align_content": null,
       "align_items": null,
       "align_self": null,
       "border": null,
       "bottom": null,
       "display": null,
       "flex": null,
       "flex_flow": null,
       "grid_area": null,
       "grid_auto_columns": null,
       "grid_auto_flow": null,
       "grid_auto_rows": null,
       "grid_column": null,
       "grid_gap": null,
       "grid_row": null,
       "grid_template_areas": null,
       "grid_template_columns": null,
       "grid_template_rows": null,
       "height": null,
       "justify_content": null,
       "justify_items": null,
       "left": null,
       "margin": null,
       "max_height": null,
       "max_width": null,
       "min_height": null,
       "min_width": null,
       "object_fit": null,
       "object_position": null,
       "order": null,
       "overflow": null,
       "overflow_x": null,
       "overflow_y": null,
       "padding": null,
       "right": null,
       "top": null,
       "visibility": null,
       "width": null
      }
     },
     "923ab28d264d43c79f454bf01bfdfa8e": {
      "model_module": "@jupyter-widgets/controls",
      "model_module_version": "1.5.0",
      "model_name": "DescriptionStyleModel",
      "state": {
       "_model_module": "@jupyter-widgets/controls",
       "_model_module_version": "1.5.0",
       "_model_name": "DescriptionStyleModel",
       "_view_count": null,
       "_view_module": "@jupyter-widgets/base",
       "_view_module_version": "1.2.0",
       "_view_name": "StyleView",
       "description_width": ""
      }
     },
     "93e035535572453783ff172f3bcf4260": {
      "model_module": "@jupyter-widgets/controls",
      "model_module_version": "1.5.0",
      "model_name": "ProgressStyleModel",
      "state": {
       "_model_module": "@jupyter-widgets/controls",
       "_model_module_version": "1.5.0",
       "_model_name": "ProgressStyleModel",
       "_view_count": null,
       "_view_module": "@jupyter-widgets/base",
       "_view_module_version": "1.2.0",
       "_view_name": "StyleView",
       "bar_color": null,
       "description_width": ""
      }
     },
     "9b14d0bd97554bf0a082ed294dbff7e5": {
      "model_module": "@jupyter-widgets/controls",
      "model_module_version": "1.5.0",
      "model_name": "HTMLModel",
      "state": {
       "_dom_classes": [],
       "_model_module": "@jupyter-widgets/controls",
       "_model_module_version": "1.5.0",
       "_model_name": "HTMLModel",
       "_view_count": null,
       "_view_module": "@jupyter-widgets/controls",
       "_view_module_version": "1.5.0",
       "_view_name": "HTMLView",
       "description": "",
       "description_tooltip": null,
       "layout": "IPY_MODEL_56af310a44d644859117b0361494c99e",
       "placeholder": "​",
       "style": "IPY_MODEL_719c19d5a15148e094d76938e675abb9",
       "value": "Downloading (…)okenizer_config.json: 100%"
      }
     },
     "9cf02a262b9c406e98a9f746122aa6f6": {
      "model_module": "@jupyter-widgets/base",
      "model_module_version": "1.2.0",
      "model_name": "LayoutModel",
      "state": {
       "_model_module": "@jupyter-widgets/base",
       "_model_module_version": "1.2.0",
       "_model_name": "LayoutModel",
       "_view_count": null,
       "_view_module": "@jupyter-widgets/base",
       "_view_module_version": "1.2.0",
       "_view_name": "LayoutView",
       "align_content": null,
       "align_items": null,
       "align_self": null,
       "border": null,
       "bottom": null,
       "display": null,
       "flex": null,
       "flex_flow": null,
       "grid_area": null,
       "grid_auto_columns": null,
       "grid_auto_flow": null,
       "grid_auto_rows": null,
       "grid_column": null,
       "grid_gap": null,
       "grid_row": null,
       "grid_template_areas": null,
       "grid_template_columns": null,
       "grid_template_rows": null,
       "height": null,
       "justify_content": null,
       "justify_items": null,
       "left": null,
       "margin": null,
       "max_height": null,
       "max_width": null,
       "min_height": null,
       "min_width": null,
       "object_fit": null,
       "object_position": null,
       "order": null,
       "overflow": null,
       "overflow_x": null,
       "overflow_y": null,
       "padding": null,
       "right": null,
       "top": null,
       "visibility": null,
       "width": null
      }
     },
     "9d0092d5597842758e0482ead7446586": {
      "model_module": "@jupyter-widgets/controls",
      "model_module_version": "1.5.0",
      "model_name": "HTMLModel",
      "state": {
       "_dom_classes": [],
       "_model_module": "@jupyter-widgets/controls",
       "_model_module_version": "1.5.0",
       "_model_name": "HTMLModel",
       "_view_count": null,
       "_view_module": "@jupyter-widgets/controls",
       "_view_module_version": "1.5.0",
       "_view_name": "HTMLView",
       "description": "",
       "description_tooltip": null,
       "layout": "IPY_MODEL_d12224b8b48d455a807404c81aa6a8dc",
       "placeholder": "​",
       "style": "IPY_MODEL_55300dd39afe4f2cb125748bd776f240",
       "value": " 1/1 [00:00&lt;00:00,  8.73ba/s]"
      }
     },
     "a1fd306e44784446871958a0592f2073": {
      "model_module": "@jupyter-widgets/base",
      "model_module_version": "1.2.0",
      "model_name": "LayoutModel",
      "state": {
       "_model_module": "@jupyter-widgets/base",
       "_model_module_version": "1.2.0",
       "_model_name": "LayoutModel",
       "_view_count": null,
       "_view_module": "@jupyter-widgets/base",
       "_view_module_version": "1.2.0",
       "_view_name": "LayoutView",
       "align_content": null,
       "align_items": null,
       "align_self": null,
       "border": null,
       "bottom": null,
       "display": null,
       "flex": null,
       "flex_flow": null,
       "grid_area": null,
       "grid_auto_columns": null,
       "grid_auto_flow": null,
       "grid_auto_rows": null,
       "grid_column": null,
       "grid_gap": null,
       "grid_row": null,
       "grid_template_areas": null,
       "grid_template_columns": null,
       "grid_template_rows": null,
       "height": null,
       "justify_content": null,
       "justify_items": null,
       "left": null,
       "margin": null,
       "max_height": null,
       "max_width": null,
       "min_height": null,
       "min_width": null,
       "object_fit": null,
       "object_position": null,
       "order": null,
       "overflow": null,
       "overflow_x": null,
       "overflow_y": null,
       "padding": null,
       "right": null,
       "top": null,
       "visibility": null,
       "width": null
      }
     },
     "a42089d8947141379fe3d7f69594b58b": {
      "model_module": "@jupyter-widgets/controls",
      "model_module_version": "1.5.0",
      "model_name": "HTMLModel",
      "state": {
       "_dom_classes": [],
       "_model_module": "@jupyter-widgets/controls",
       "_model_module_version": "1.5.0",
       "_model_name": "HTMLModel",
       "_view_count": null,
       "_view_module": "@jupyter-widgets/controls",
       "_view_module_version": "1.5.0",
       "_view_name": "HTMLView",
       "description": "",
       "description_tooltip": null,
       "layout": "IPY_MODEL_bced4c6a7b4f45fb92bcb8a132191234",
       "placeholder": "​",
       "style": "IPY_MODEL_d1a96914f2d1499199f9c025bd14d828",
       "value": " 632/632 [00:00&lt;00:00, 46.3kB/s]"
      }
     },
     "a6ec39b6d0af476799ee780aeb7eecc9": {
      "model_module": "@jupyter-widgets/base",
      "model_module_version": "1.2.0",
      "model_name": "LayoutModel",
      "state": {
       "_model_module": "@jupyter-widgets/base",
       "_model_module_version": "1.2.0",
       "_model_name": "LayoutModel",
       "_view_count": null,
       "_view_module": "@jupyter-widgets/base",
       "_view_module_version": "1.2.0",
       "_view_name": "LayoutView",
       "align_content": null,
       "align_items": null,
       "align_self": null,
       "border": null,
       "bottom": null,
       "display": null,
       "flex": null,
       "flex_flow": null,
       "grid_area": null,
       "grid_auto_columns": null,
       "grid_auto_flow": null,
       "grid_auto_rows": null,
       "grid_column": null,
       "grid_gap": null,
       "grid_row": null,
       "grid_template_areas": null,
       "grid_template_columns": null,
       "grid_template_rows": null,
       "height": null,
       "justify_content": null,
       "justify_items": null,
       "left": null,
       "margin": null,
       "max_height": null,
       "max_width": null,
       "min_height": null,
       "min_width": null,
       "object_fit": null,
       "object_position": null,
       "order": null,
       "overflow": null,
       "overflow_x": null,
       "overflow_y": null,
       "padding": null,
       "right": null,
       "top": null,
       "visibility": null,
       "width": null
      }
     },
     "b06facb6dc8a4aba945b2e2d5bc66f31": {
      "model_module": "@jupyter-widgets/controls",
      "model_module_version": "1.5.0",
      "model_name": "HTMLModel",
      "state": {
       "_dom_classes": [],
       "_model_module": "@jupyter-widgets/controls",
       "_model_module_version": "1.5.0",
       "_model_name": "HTMLModel",
       "_view_count": null,
       "_view_module": "@jupyter-widgets/controls",
       "_view_module_version": "1.5.0",
       "_view_name": "HTMLView",
       "description": "",
       "description_tooltip": null,
       "layout": "IPY_MODEL_bacd735131a0461cb80c76f5262ece86",
       "placeholder": "​",
       "style": "IPY_MODEL_cb1e9a9b70574b72bb14514693a6763a",
       "value": " 468k/468k [00:00&lt;00:00, 25.6MB/s]"
      }
     },
     "b450276b4f5148dfaec9c63ba8c62213": {
      "model_module": "@jupyter-widgets/base",
      "model_module_version": "1.2.0",
      "model_name": "LayoutModel",
      "state": {
       "_model_module": "@jupyter-widgets/base",
       "_model_module_version": "1.2.0",
       "_model_name": "LayoutModel",
       "_view_count": null,
       "_view_module": "@jupyter-widgets/base",
       "_view_module_version": "1.2.0",
       "_view_name": "LayoutView",
       "align_content": null,
       "align_items": null,
       "align_self": null,
       "border": null,
       "bottom": null,
       "display": null,
       "flex": null,
       "flex_flow": null,
       "grid_area": null,
       "grid_auto_columns": null,
       "grid_auto_flow": null,
       "grid_auto_rows": null,
       "grid_column": null,
       "grid_gap": null,
       "grid_row": null,
       "grid_template_areas": null,
       "grid_template_columns": null,
       "grid_template_rows": null,
       "height": null,
       "justify_content": null,
       "justify_items": null,
       "left": null,
       "margin": null,
       "max_height": null,
       "max_width": null,
       "min_height": null,
       "min_width": null,
       "object_fit": null,
       "object_position": null,
       "order": null,
       "overflow": null,
       "overflow_x": null,
       "overflow_y": null,
       "padding": null,
       "right": null,
       "top": null,
       "visibility": null,
       "width": null
      }
     },
     "b4be1a0713c04501bea46c97dc752949": {
      "model_module": "@jupyter-widgets/base",
      "model_module_version": "1.2.0",
      "model_name": "LayoutModel",
      "state": {
       "_model_module": "@jupyter-widgets/base",
       "_model_module_version": "1.2.0",
       "_model_name": "LayoutModel",
       "_view_count": null,
       "_view_module": "@jupyter-widgets/base",
       "_view_module_version": "1.2.0",
       "_view_name": "LayoutView",
       "align_content": null,
       "align_items": null,
       "align_self": null,
       "border": null,
       "bottom": null,
       "display": null,
       "flex": null,
       "flex_flow": null,
       "grid_area": null,
       "grid_auto_columns": null,
       "grid_auto_flow": null,
       "grid_auto_rows": null,
       "grid_column": null,
       "grid_gap": null,
       "grid_row": null,
       "grid_template_areas": null,
       "grid_template_columns": null,
       "grid_template_rows": null,
       "height": null,
       "justify_content": null,
       "justify_items": null,
       "left": null,
       "margin": null,
       "max_height": null,
       "max_width": null,
       "min_height": null,
       "min_width": null,
       "object_fit": null,
       "object_position": null,
       "order": null,
       "overflow": null,
       "overflow_x": null,
       "overflow_y": null,
       "padding": null,
       "right": null,
       "top": null,
       "visibility": null,
       "width": null
      }
     },
     "b76e35cd781f4fcdbede8665c3b18c3b": {
      "model_module": "@jupyter-widgets/controls",
      "model_module_version": "1.5.0",
      "model_name": "HBoxModel",
      "state": {
       "_dom_classes": [],
       "_model_module": "@jupyter-widgets/controls",
       "_model_module_version": "1.5.0",
       "_model_name": "HBoxModel",
       "_view_count": null,
       "_view_module": "@jupyter-widgets/controls",
       "_view_module_version": "1.5.0",
       "_view_name": "HBoxView",
       "box_style": "",
       "children": [
        "IPY_MODEL_6d0dc311a381423388d12310e43efaa2",
        "IPY_MODEL_c861998cd18e42f0a0a7acd30ebd2a9d",
        "IPY_MODEL_47257c5275aa41ff83a21d009abbd891"
       ],
       "layout": "IPY_MODEL_a1fd306e44784446871958a0592f2073"
      }
     },
     "b7e764102c194bfa81a82803a2626922": {
      "model_module": "@jupyter-widgets/controls",
      "model_module_version": "1.5.0",
      "model_name": "DescriptionStyleModel",
      "state": {
       "_model_module": "@jupyter-widgets/controls",
       "_model_module_version": "1.5.0",
       "_model_name": "DescriptionStyleModel",
       "_view_count": null,
       "_view_module": "@jupyter-widgets/base",
       "_view_module_version": "1.2.0",
       "_view_name": "StyleView",
       "description_width": ""
      }
     },
     "bacd735131a0461cb80c76f5262ece86": {
      "model_module": "@jupyter-widgets/base",
      "model_module_version": "1.2.0",
      "model_name": "LayoutModel",
      "state": {
       "_model_module": "@jupyter-widgets/base",
       "_model_module_version": "1.2.0",
       "_model_name": "LayoutModel",
       "_view_count": null,
       "_view_module": "@jupyter-widgets/base",
       "_view_module_version": "1.2.0",
       "_view_name": "LayoutView",
       "align_content": null,
       "align_items": null,
       "align_self": null,
       "border": null,
       "bottom": null,
       "display": null,
       "flex": null,
       "flex_flow": null,
       "grid_area": null,
       "grid_auto_columns": null,
       "grid_auto_flow": null,
       "grid_auto_rows": null,
       "grid_column": null,
       "grid_gap": null,
       "grid_row": null,
       "grid_template_areas": null,
       "grid_template_columns": null,
       "grid_template_rows": null,
       "height": null,
       "justify_content": null,
       "justify_items": null,
       "left": null,
       "margin": null,
       "max_height": null,
       "max_width": null,
       "min_height": null,
       "min_width": null,
       "object_fit": null,
       "object_position": null,
       "order": null,
       "overflow": null,
       "overflow_x": null,
       "overflow_y": null,
       "padding": null,
       "right": null,
       "top": null,
       "visibility": null,
       "width": null
      }
     },
     "bced4c6a7b4f45fb92bcb8a132191234": {
      "model_module": "@jupyter-widgets/base",
      "model_module_version": "1.2.0",
      "model_name": "LayoutModel",
      "state": {
       "_model_module": "@jupyter-widgets/base",
       "_model_module_version": "1.2.0",
       "_model_name": "LayoutModel",
       "_view_count": null,
       "_view_module": "@jupyter-widgets/base",
       "_view_module_version": "1.2.0",
       "_view_name": "LayoutView",
       "align_content": null,
       "align_items": null,
       "align_self": null,
       "border": null,
       "bottom": null,
       "display": null,
       "flex": null,
       "flex_flow": null,
       "grid_area": null,
       "grid_auto_columns": null,
       "grid_auto_flow": null,
       "grid_auto_rows": null,
       "grid_column": null,
       "grid_gap": null,
       "grid_row": null,
       "grid_template_areas": null,
       "grid_template_columns": null,
       "grid_template_rows": null,
       "height": null,
       "justify_content": null,
       "justify_items": null,
       "left": null,
       "margin": null,
       "max_height": null,
       "max_width": null,
       "min_height": null,
       "min_width": null,
       "object_fit": null,
       "object_position": null,
       "order": null,
       "overflow": null,
       "overflow_x": null,
       "overflow_y": null,
       "padding": null,
       "right": null,
       "top": null,
       "visibility": null,
       "width": null
      }
     },
     "bceef5de8c43456c9830e626335a9e96": {
      "model_module": "@jupyter-widgets/controls",
      "model_module_version": "1.5.0",
      "model_name": "FloatProgressModel",
      "state": {
       "_dom_classes": [],
       "_model_module": "@jupyter-widgets/controls",
       "_model_module_version": "1.5.0",
       "_model_name": "FloatProgressModel",
       "_view_count": null,
       "_view_module": "@jupyter-widgets/controls",
       "_view_module_version": "1.5.0",
       "_view_name": "ProgressView",
       "bar_style": "success",
       "description": "",
       "description_tooltip": null,
       "layout": "IPY_MODEL_9cf02a262b9c406e98a9f746122aa6f6",
       "max": 47661730,
       "min": 0,
       "orientation": "horizontal",
       "style": "IPY_MODEL_7f88a098850442fca0e7409daa186e92",
       "value": 47661730
      }
     },
     "bf47a109f89c4505ab09547868151a11": {
      "model_module": "@jupyter-widgets/controls",
      "model_module_version": "1.5.0",
      "model_name": "FloatProgressModel",
      "state": {
       "_dom_classes": [],
       "_model_module": "@jupyter-widgets/controls",
       "_model_module_version": "1.5.0",
       "_model_name": "FloatProgressModel",
       "_view_count": null,
       "_view_module": "@jupyter-widgets/controls",
       "_view_module_version": "1.5.0",
       "_view_name": "ProgressView",
       "bar_style": "success",
       "description": "",
       "description_tooltip": null,
       "layout": "IPY_MODEL_cac18b82501d4d4a9ef894dea1e29023",
       "max": 5,
       "min": 0,
       "orientation": "horizontal",
       "style": "IPY_MODEL_777d6ab54bfa48449ffc937b08112a21",
       "value": 5
      }
     },
     "c018c2d5ad4f4f23a55571140733043e": {
      "model_module": "@jupyter-widgets/controls",
      "model_module_version": "1.5.0",
      "model_name": "FloatProgressModel",
      "state": {
       "_dom_classes": [],
       "_model_module": "@jupyter-widgets/controls",
       "_model_module_version": "1.5.0",
       "_model_name": "FloatProgressModel",
       "_view_count": null,
       "_view_module": "@jupyter-widgets/controls",
       "_view_module_version": "1.5.0",
       "_view_name": "ProgressView",
       "bar_style": "success",
       "description": "",
       "description_tooltip": null,
       "layout": "IPY_MODEL_54a6c3e3c2fa4a4a999b72a434d8a0e2",
       "max": 468145,
       "min": 0,
       "orientation": "horizontal",
       "style": "IPY_MODEL_93e035535572453783ff172f3bcf4260",
       "value": 468145
      }
     },
     "c14c71300a1043c19a40491632994eb6": {
      "model_module": "@jupyter-widgets/controls",
      "model_module_version": "1.5.0",
      "model_name": "ProgressStyleModel",
      "state": {
       "_model_module": "@jupyter-widgets/controls",
       "_model_module_version": "1.5.0",
       "_model_name": "ProgressStyleModel",
       "_view_count": null,
       "_view_module": "@jupyter-widgets/base",
       "_view_module_version": "1.2.0",
       "_view_name": "StyleView",
       "bar_color": null,
       "description_width": ""
      }
     },
     "c23e157eb75a436c9f1c34a6b5380fe3": {
      "model_module": "@jupyter-widgets/controls",
      "model_module_version": "1.5.0",
      "model_name": "ProgressStyleModel",
      "state": {
       "_model_module": "@jupyter-widgets/controls",
       "_model_module_version": "1.5.0",
       "_model_name": "ProgressStyleModel",
       "_view_count": null,
       "_view_module": "@jupyter-widgets/base",
       "_view_module_version": "1.2.0",
       "_view_name": "StyleView",
       "bar_color": null,
       "description_width": ""
      }
     },
     "c25cfa7d770745dea71e62ab01aaab86": {
      "model_module": "@jupyter-widgets/controls",
      "model_module_version": "1.5.0",
      "model_name": "HBoxModel",
      "state": {
       "_dom_classes": [],
       "_model_module": "@jupyter-widgets/controls",
       "_model_module_version": "1.5.0",
       "_model_name": "HBoxModel",
       "_view_count": null,
       "_view_module": "@jupyter-widgets/controls",
       "_view_module_version": "1.5.0",
       "_view_name": "HBoxView",
       "box_style": "",
       "children": [
        "IPY_MODEL_9b14d0bd97554bf0a082ed294dbff7e5",
        "IPY_MODEL_6d15ecacfcec451ebad23ef1f11ddd88",
        "IPY_MODEL_4f0a53d314ba4cc4a1a780ad0707c546"
       ],
       "layout": "IPY_MODEL_4c526f9489674b52b7820eee7403c462"
      }
     },
     "c824e98ee2b24a08b3c5a518ddbb49a0": {
      "model_module": "@jupyter-widgets/base",
      "model_module_version": "1.2.0",
      "model_name": "LayoutModel",
      "state": {
       "_model_module": "@jupyter-widgets/base",
       "_model_module_version": "1.2.0",
       "_model_name": "LayoutModel",
       "_view_count": null,
       "_view_module": "@jupyter-widgets/base",
       "_view_module_version": "1.2.0",
       "_view_name": "LayoutView",
       "align_content": null,
       "align_items": null,
       "align_self": null,
       "border": null,
       "bottom": null,
       "display": null,
       "flex": null,
       "flex_flow": null,
       "grid_area": null,
       "grid_auto_columns": null,
       "grid_auto_flow": null,
       "grid_auto_rows": null,
       "grid_column": null,
       "grid_gap": null,
       "grid_row": null,
       "grid_template_areas": null,
       "grid_template_columns": null,
       "grid_template_rows": null,
       "height": null,
       "justify_content": null,
       "justify_items": null,
       "left": null,
       "margin": null,
       "max_height": null,
       "max_width": null,
       "min_height": null,
       "min_width": null,
       "object_fit": null,
       "object_position": null,
       "order": null,
       "overflow": null,
       "overflow_x": null,
       "overflow_y": null,
       "padding": null,
       "right": null,
       "top": null,
       "visibility": null,
       "width": null
      }
     },
     "c861998cd18e42f0a0a7acd30ebd2a9d": {
      "model_module": "@jupyter-widgets/controls",
      "model_module_version": "1.5.0",
      "model_name": "FloatProgressModel",
      "state": {
       "_dom_classes": [],
       "_model_module": "@jupyter-widgets/controls",
       "_model_module_version": "1.5.0",
       "_model_name": "FloatProgressModel",
       "_view_count": null,
       "_view_module": "@jupyter-widgets/controls",
       "_view_module_version": "1.5.0",
       "_view_name": "ProgressView",
       "bar_style": "success",
       "description": "",
       "description_tooltip": null,
       "layout": "IPY_MODEL_d4697ab670c349089db4ce3c8acf419b",
       "max": 112,
       "min": 0,
       "orientation": "horizontal",
       "style": "IPY_MODEL_c23e157eb75a436c9f1c34a6b5380fe3",
       "value": 112
      }
     },
     "cac18b82501d4d4a9ef894dea1e29023": {
      "model_module": "@jupyter-widgets/base",
      "model_module_version": "1.2.0",
      "model_name": "LayoutModel",
      "state": {
       "_model_module": "@jupyter-widgets/base",
       "_model_module_version": "1.2.0",
       "_model_name": "LayoutModel",
       "_view_count": null,
       "_view_module": "@jupyter-widgets/base",
       "_view_module_version": "1.2.0",
       "_view_name": "LayoutView",
       "align_content": null,
       "align_items": null,
       "align_self": null,
       "border": null,
       "bottom": null,
       "display": null,
       "flex": null,
       "flex_flow": null,
       "grid_area": null,
       "grid_auto_columns": null,
       "grid_auto_flow": null,
       "grid_auto_rows": null,
       "grid_column": null,
       "grid_gap": null,
       "grid_row": null,
       "grid_template_areas": null,
       "grid_template_columns": null,
       "grid_template_rows": null,
       "height": null,
       "justify_content": null,
       "justify_items": null,
       "left": null,
       "margin": null,
       "max_height": null,
       "max_width": null,
       "min_height": null,
       "min_width": null,
       "object_fit": null,
       "object_position": null,
       "order": null,
       "overflow": null,
       "overflow_x": null,
       "overflow_y": null,
       "padding": null,
       "right": null,
       "top": null,
       "visibility": null,
       "width": null
      }
     },
     "cb1e9a9b70574b72bb14514693a6763a": {
      "model_module": "@jupyter-widgets/controls",
      "model_module_version": "1.5.0",
      "model_name": "DescriptionStyleModel",
      "state": {
       "_model_module": "@jupyter-widgets/controls",
       "_model_module_version": "1.5.0",
       "_model_name": "DescriptionStyleModel",
       "_view_count": null,
       "_view_module": "@jupyter-widgets/base",
       "_view_module_version": "1.2.0",
       "_view_name": "StyleView",
       "description_width": ""
      }
     },
     "cdac9e093d244661aafe76ef22e51abf": {
      "model_module": "@jupyter-widgets/controls",
      "model_module_version": "1.5.0",
      "model_name": "FloatProgressModel",
      "state": {
       "_dom_classes": [],
       "_model_module": "@jupyter-widgets/controls",
       "_model_module_version": "1.5.0",
       "_model_name": "FloatProgressModel",
       "_view_count": null,
       "_view_module": "@jupyter-widgets/controls",
       "_view_module_version": "1.5.0",
       "_view_name": "ProgressView",
       "bar_style": "success",
       "description": "",
       "description_tooltip": null,
       "layout": "IPY_MODEL_71689f1d344f44408873c732ade81780",
       "max": 241082,
       "min": 0,
       "orientation": "horizontal",
       "style": "IPY_MODEL_c14c71300a1043c19a40491632994eb6",
       "value": 241082
      }
     },
     "d12224b8b48d455a807404c81aa6a8dc": {
      "model_module": "@jupyter-widgets/base",
      "model_module_version": "1.2.0",
      "model_name": "LayoutModel",
      "state": {
       "_model_module": "@jupyter-widgets/base",
       "_model_module_version": "1.2.0",
       "_model_name": "LayoutModel",
       "_view_count": null,
       "_view_module": "@jupyter-widgets/base",
       "_view_module_version": "1.2.0",
       "_view_name": "LayoutView",
       "align_content": null,
       "align_items": null,
       "align_self": null,
       "border": null,
       "bottom": null,
       "display": null,
       "flex": null,
       "flex_flow": null,
       "grid_area": null,
       "grid_auto_columns": null,
       "grid_auto_flow": null,
       "grid_auto_rows": null,
       "grid_column": null,
       "grid_gap": null,
       "grid_row": null,
       "grid_template_areas": null,
       "grid_template_columns": null,
       "grid_template_rows": null,
       "height": null,
       "justify_content": null,
       "justify_items": null,
       "left": null,
       "margin": null,
       "max_height": null,
       "max_width": null,
       "min_height": null,
       "min_width": null,
       "object_fit": null,
       "object_position": null,
       "order": null,
       "overflow": null,
       "overflow_x": null,
       "overflow_y": null,
       "padding": null,
       "right": null,
       "top": null,
       "visibility": null,
       "width": null
      }
     },
     "d1a96914f2d1499199f9c025bd14d828": {
      "model_module": "@jupyter-widgets/controls",
      "model_module_version": "1.5.0",
      "model_name": "DescriptionStyleModel",
      "state": {
       "_model_module": "@jupyter-widgets/controls",
       "_model_module_version": "1.5.0",
       "_model_name": "DescriptionStyleModel",
       "_view_count": null,
       "_view_module": "@jupyter-widgets/base",
       "_view_module_version": "1.2.0",
       "_view_name": "StyleView",
       "description_width": ""
      }
     },
     "d4697ab670c349089db4ce3c8acf419b": {
      "model_module": "@jupyter-widgets/base",
      "model_module_version": "1.2.0",
      "model_name": "LayoutModel",
      "state": {
       "_model_module": "@jupyter-widgets/base",
       "_model_module_version": "1.2.0",
       "_model_name": "LayoutModel",
       "_view_count": null,
       "_view_module": "@jupyter-widgets/base",
       "_view_module_version": "1.2.0",
       "_view_name": "LayoutView",
       "align_content": null,
       "align_items": null,
       "align_self": null,
       "border": null,
       "bottom": null,
       "display": null,
       "flex": null,
       "flex_flow": null,
       "grid_area": null,
       "grid_auto_columns": null,
       "grid_auto_flow": null,
       "grid_auto_rows": null,
       "grid_column": null,
       "grid_gap": null,
       "grid_row": null,
       "grid_template_areas": null,
       "grid_template_columns": null,
       "grid_template_rows": null,
       "height": null,
       "justify_content": null,
       "justify_items": null,
       "left": null,
       "margin": null,
       "max_height": null,
       "max_width": null,
       "min_height": null,
       "min_width": null,
       "object_fit": null,
       "object_position": null,
       "order": null,
       "overflow": null,
       "overflow_x": null,
       "overflow_y": null,
       "padding": null,
       "right": null,
       "top": null,
       "visibility": null,
       "width": null
      }
     },
     "d4698580e9694c5792f63dae86dcd399": {
      "model_module": "@jupyter-widgets/controls",
      "model_module_version": "1.5.0",
      "model_name": "FloatProgressModel",
      "state": {
       "_dom_classes": [],
       "_model_module": "@jupyter-widgets/controls",
       "_model_module_version": "1.5.0",
       "_model_name": "FloatProgressModel",
       "_view_count": null,
       "_view_module": "@jupyter-widgets/controls",
       "_view_module_version": "1.5.0",
       "_view_name": "ProgressView",
       "bar_style": "success",
       "description": "",
       "description_tooltip": null,
       "layout": "IPY_MODEL_db3bb36ad24e4a399a5fd0b118111271",
       "max": 1,
       "min": 0,
       "orientation": "horizontal",
       "style": "IPY_MODEL_221f007b5d244e458bc99ace03b79bc6",
       "value": 1
      }
     },
     "d86f5be404334e85a94b32708955fc84": {
      "model_module": "@jupyter-widgets/base",
      "model_module_version": "1.2.0",
      "model_name": "LayoutModel",
      "state": {
       "_model_module": "@jupyter-widgets/base",
       "_model_module_version": "1.2.0",
       "_model_name": "LayoutModel",
       "_view_count": null,
       "_view_module": "@jupyter-widgets/base",
       "_view_module_version": "1.2.0",
       "_view_name": "LayoutView",
       "align_content": null,
       "align_items": null,
       "align_self": null,
       "border": null,
       "bottom": null,
       "display": null,
       "flex": null,
       "flex_flow": null,
       "grid_area": null,
       "grid_auto_columns": null,
       "grid_auto_flow": null,
       "grid_auto_rows": null,
       "grid_column": null,
       "grid_gap": null,
       "grid_row": null,
       "grid_template_areas": null,
       "grid_template_columns": null,
       "grid_template_rows": null,
       "height": null,
       "justify_content": null,
       "justify_items": null,
       "left": null,
       "margin": null,
       "max_height": null,
       "max_width": null,
       "min_height": null,
       "min_width": null,
       "object_fit": null,
       "object_position": null,
       "order": null,
       "overflow": null,
       "overflow_x": null,
       "overflow_y": null,
       "padding": null,
       "right": null,
       "top": null,
       "visibility": null,
       "width": null
      }
     },
     "db3bb36ad24e4a399a5fd0b118111271": {
      "model_module": "@jupyter-widgets/base",
      "model_module_version": "1.2.0",
      "model_name": "LayoutModel",
      "state": {
       "_model_module": "@jupyter-widgets/base",
       "_model_module_version": "1.2.0",
       "_model_name": "LayoutModel",
       "_view_count": null,
       "_view_module": "@jupyter-widgets/base",
       "_view_module_version": "1.2.0",
       "_view_name": "LayoutView",
       "align_content": null,
       "align_items": null,
       "align_self": null,
       "border": null,
       "bottom": null,
       "display": null,
       "flex": null,
       "flex_flow": null,
       "grid_area": null,
       "grid_auto_columns": null,
       "grid_auto_flow": null,
       "grid_auto_rows": null,
       "grid_column": null,
       "grid_gap": null,
       "grid_row": null,
       "grid_template_areas": null,
       "grid_template_columns": null,
       "grid_template_rows": null,
       "height": null,
       "justify_content": null,
       "justify_items": null,
       "left": null,
       "margin": null,
       "max_height": null,
       "max_width": null,
       "min_height": null,
       "min_width": null,
       "object_fit": null,
       "object_position": null,
       "order": null,
       "overflow": null,
       "overflow_x": null,
       "overflow_y": null,
       "padding": null,
       "right": null,
       "top": null,
       "visibility": null,
       "width": null
      }
     },
     "dcef255d647246d992f5b901093122a5": {
      "model_module": "@jupyter-widgets/base",
      "model_module_version": "1.2.0",
      "model_name": "LayoutModel",
      "state": {
       "_model_module": "@jupyter-widgets/base",
       "_model_module_version": "1.2.0",
       "_model_name": "LayoutModel",
       "_view_count": null,
       "_view_module": "@jupyter-widgets/base",
       "_view_module_version": "1.2.0",
       "_view_name": "LayoutView",
       "align_content": null,
       "align_items": null,
       "align_self": null,
       "border": null,
       "bottom": null,
       "display": null,
       "flex": null,
       "flex_flow": null,
       "grid_area": null,
       "grid_auto_columns": null,
       "grid_auto_flow": null,
       "grid_auto_rows": null,
       "grid_column": null,
       "grid_gap": null,
       "grid_row": null,
       "grid_template_areas": null,
       "grid_template_columns": null,
       "grid_template_rows": null,
       "height": null,
       "justify_content": null,
       "justify_items": null,
       "left": null,
       "margin": null,
       "max_height": null,
       "max_width": null,
       "min_height": null,
       "min_width": null,
       "object_fit": null,
       "object_position": null,
       "order": null,
       "overflow": null,
       "overflow_x": null,
       "overflow_y": null,
       "padding": null,
       "right": null,
       "top": null,
       "visibility": null,
       "width": null
      }
     },
     "e0a19a0a31de46a9bdb434b2632af9fc": {
      "model_module": "@jupyter-widgets/controls",
      "model_module_version": "1.5.0",
      "model_name": "DescriptionStyleModel",
      "state": {
       "_model_module": "@jupyter-widgets/controls",
       "_model_module_version": "1.5.0",
       "_model_name": "DescriptionStyleModel",
       "_view_count": null,
       "_view_module": "@jupyter-widgets/base",
       "_view_module_version": "1.2.0",
       "_view_name": "StyleView",
       "description_width": ""
      }
     },
     "e147c5fb2a7c4c4d9833fffce5a69b5c": {
      "model_module": "@jupyter-widgets/base",
      "model_module_version": "1.2.0",
      "model_name": "LayoutModel",
      "state": {
       "_model_module": "@jupyter-widgets/base",
       "_model_module_version": "1.2.0",
       "_model_name": "LayoutModel",
       "_view_count": null,
       "_view_module": "@jupyter-widgets/base",
       "_view_module_version": "1.2.0",
       "_view_name": "LayoutView",
       "align_content": null,
       "align_items": null,
       "align_self": null,
       "border": null,
       "bottom": null,
       "display": null,
       "flex": null,
       "flex_flow": null,
       "grid_area": null,
       "grid_auto_columns": null,
       "grid_auto_flow": null,
       "grid_auto_rows": null,
       "grid_column": null,
       "grid_gap": null,
       "grid_row": null,
       "grid_template_areas": null,
       "grid_template_columns": null,
       "grid_template_rows": null,
       "height": null,
       "justify_content": null,
       "justify_items": null,
       "left": null,
       "margin": null,
       "max_height": null,
       "max_width": null,
       "min_height": null,
       "min_width": null,
       "object_fit": null,
       "object_position": null,
       "order": null,
       "overflow": null,
       "overflow_x": null,
       "overflow_y": null,
       "padding": null,
       "right": null,
       "top": null,
       "visibility": null,
       "width": null
      }
     },
     "e2825388664944a7802c60151be9cc42": {
      "model_module": "@jupyter-widgets/base",
      "model_module_version": "1.2.0",
      "model_name": "LayoutModel",
      "state": {
       "_model_module": "@jupyter-widgets/base",
       "_model_module_version": "1.2.0",
       "_model_name": "LayoutModel",
       "_view_count": null,
       "_view_module": "@jupyter-widgets/base",
       "_view_module_version": "1.2.0",
       "_view_name": "LayoutView",
       "align_content": null,
       "align_items": null,
       "align_self": null,
       "border": null,
       "bottom": null,
       "display": null,
       "flex": null,
       "flex_flow": null,
       "grid_area": null,
       "grid_auto_columns": null,
       "grid_auto_flow": null,
       "grid_auto_rows": null,
       "grid_column": null,
       "grid_gap": null,
       "grid_row": null,
       "grid_template_areas": null,
       "grid_template_columns": null,
       "grid_template_rows": null,
       "height": null,
       "justify_content": null,
       "justify_items": null,
       "left": null,
       "margin": null,
       "max_height": null,
       "max_width": null,
       "min_height": null,
       "min_width": null,
       "object_fit": null,
       "object_position": null,
       "order": null,
       "overflow": null,
       "overflow_x": null,
       "overflow_y": null,
       "padding": null,
       "right": null,
       "top": null,
       "visibility": null,
       "width": null
      }
     },
     "e5f7cc4c196541e78d78e179c72bc6b4": {
      "model_module": "@jupyter-widgets/controls",
      "model_module_version": "1.5.0",
      "model_name": "DescriptionStyleModel",
      "state": {
       "_model_module": "@jupyter-widgets/controls",
       "_model_module_version": "1.5.0",
       "_model_name": "DescriptionStyleModel",
       "_view_count": null,
       "_view_module": "@jupyter-widgets/base",
       "_view_module_version": "1.2.0",
       "_view_name": "StyleView",
       "description_width": ""
      }
     },
     "ec0a33c3e41442baa0d0dc918aa4741f": {
      "model_module": "@jupyter-widgets/base",
      "model_module_version": "1.2.0",
      "model_name": "LayoutModel",
      "state": {
       "_model_module": "@jupyter-widgets/base",
       "_model_module_version": "1.2.0",
       "_model_name": "LayoutModel",
       "_view_count": null,
       "_view_module": "@jupyter-widgets/base",
       "_view_module_version": "1.2.0",
       "_view_name": "LayoutView",
       "align_content": null,
       "align_items": null,
       "align_self": null,
       "border": null,
       "bottom": null,
       "display": null,
       "flex": null,
       "flex_flow": null,
       "grid_area": null,
       "grid_auto_columns": null,
       "grid_auto_flow": null,
       "grid_auto_rows": null,
       "grid_column": null,
       "grid_gap": null,
       "grid_row": null,
       "grid_template_areas": null,
       "grid_template_columns": null,
       "grid_template_rows": null,
       "height": null,
       "justify_content": null,
       "justify_items": null,
       "left": null,
       "margin": null,
       "max_height": null,
       "max_width": null,
       "min_height": null,
       "min_width": null,
       "object_fit": null,
       "object_position": null,
       "order": null,
       "overflow": null,
       "overflow_x": null,
       "overflow_y": null,
       "padding": null,
       "right": null,
       "top": null,
       "visibility": null,
       "width": null
      }
     },
     "f8703be794964e23b0a5c513ff4a6aab": {
      "model_module": "@jupyter-widgets/controls",
      "model_module_version": "1.5.0",
      "model_name": "ProgressStyleModel",
      "state": {
       "_model_module": "@jupyter-widgets/controls",
       "_model_module_version": "1.5.0",
       "_model_name": "ProgressStyleModel",
       "_view_count": null,
       "_view_module": "@jupyter-widgets/base",
       "_view_module_version": "1.2.0",
       "_view_name": "StyleView",
       "bar_color": null,
       "description_width": ""
      }
     },
     "fba5be4e0a4743e290913f6d1628678b": {
      "model_module": "@jupyter-widgets/controls",
      "model_module_version": "1.5.0",
      "model_name": "HTMLModel",
      "state": {
       "_dom_classes": [],
       "_model_module": "@jupyter-widgets/controls",
       "_model_module_version": "1.5.0",
       "_model_name": "HTMLModel",
       "_view_count": null,
       "_view_module": "@jupyter-widgets/controls",
       "_view_module_version": "1.5.0",
       "_view_name": "HTMLView",
       "description": "",
       "description_tooltip": null,
       "layout": "IPY_MODEL_16b201a8bd0547039578a3586444272f",
       "placeholder": "​",
       "style": "IPY_MODEL_039b1037dd6d45f5a71ab00deb4954a2",
       "value": "Downloading builder script: "
      }
     }
    },
    "version_major": 2,
    "version_minor": 0
   }
  }
 },
 "nbformat": 4,
 "nbformat_minor": 5
}
